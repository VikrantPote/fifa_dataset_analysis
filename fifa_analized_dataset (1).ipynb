{
 "cells": [
  {
   "cell_type": "markdown",
   "id": "Y5RoWfQnzv0x",
   "metadata": {
    "id": "Y5RoWfQnzv0x"
   },
   "source": [
    "\n",
    "**This project is made by Vikrant Pote and Amaan Tamboli, Under the guidence of prof. ISha Sehgal Ma'am**\n"
   ]
  },
  {
   "cell_type": "markdown",
   "id": "VXXQh3A-0IYw",
   "metadata": {
    "id": "VXXQh3A-0IYw"
   },
   "source": [
    "**This is dataset of UNICORN COMPANIES OF INDIA and we have did the Exploratory Data Analysis (EDA) and Machine Learning (ML) Model**"
   ]
  },
  {
   "cell_type": "markdown",
   "id": "Tc-hOHHU0rBf",
   "metadata": {
    "id": "Tc-hOHHU0rBf"
   },
   "source": [
    "# Index\n",
    "\n",
    "1.   Data summary of tallent in countires.\n",
    "2.   Data summary of tallent in clubs.\n",
    "3.   Data summary of players per Country.\n",
    "4.   Data summary of top 3 players.\n",
    "5.   Data summary of highest paid player.\n",
    "\n"
   ]
  },
  {
   "cell_type": "markdown",
   "id": "e4a0d68a",
   "metadata": {
    "id": "e4a0d68a"
   },
   "source": [
    "# Importing libraries:-"
   ]
  },
  {
   "cell_type": "code",
   "execution_count": 32,
   "id": "0d5bac26",
   "metadata": {
    "executionInfo": {
     "elapsed": 1444,
     "status": "ok",
     "timestamp": 1675678021587,
     "user": {
      "displayName": "Amaan Tamboli",
      "userId": "12292215664820239199"
     },
     "user_tz": -330
    },
    "id": "0d5bac26"
   },
   "outputs": [
    {
     "data": {
      "text/html": [
       "        <script type=\"text/javascript\">\n",
       "        window.PlotlyConfig = {MathJaxConfig: 'local'};\n",
       "        if (window.MathJax && window.MathJax.Hub && window.MathJax.Hub.Config) {window.MathJax.Hub.Config({SVG: {font: \"STIX-Web\"}});}\n",
       "        if (typeof require !== 'undefined') {\n",
       "        require.undef(\"plotly\");\n",
       "        requirejs.config({\n",
       "            paths: {\n",
       "                'plotly': ['https://cdn.plot.ly/plotly-2.12.1.min']\n",
       "            }\n",
       "        });\n",
       "        require(['plotly'], function(Plotly) {\n",
       "            window._Plotly = Plotly;\n",
       "        });\n",
       "        }\n",
       "        </script>\n",
       "        "
      ]
     },
     "metadata": {},
     "output_type": "display_data"
    }
   ],
   "source": [
    "import pandas as pd\n",
    "import matplotlib.pyplot as plt\n",
    "import seaborn as sns\n",
    "import plotly.express as px\n",
    "from plotly.offline import init_notebook_mode, iplot\n",
    "init_notebook_mode(connected=True)"
   ]
  },
  {
   "cell_type": "markdown",
   "id": "23a5d872",
   "metadata": {
    "id": "23a5d872"
   },
   "source": [
    "# Reading dataset:-"
   ]
  },
  {
   "cell_type": "code",
   "execution_count": 33,
   "id": "462a607f",
   "metadata": {
    "executionInfo": {
     "elapsed": 710,
     "status": "ok",
     "timestamp": 1675678022295,
     "user": {
      "displayName": "Amaan Tamboli",
      "userId": "12292215664820239199"
     },
     "user_tz": -330
    },
    "id": "462a607f"
   },
   "outputs": [],
   "source": [
    "df=pd.read_csv(r\"D:\\Datasets\\Projects\\players_fifa22.csv\")"
   ]
  },
  {
   "cell_type": "code",
   "execution_count": 34,
   "id": "24407608",
   "metadata": {
    "colab": {
     "base_uri": "https://localhost:8080/",
     "height": 369
    },
    "executionInfo": {
     "elapsed": 24,
     "status": "ok",
     "timestamp": 1675678022296,
     "user": {
      "displayName": "Amaan Tamboli",
      "userId": "12292215664820239199"
     },
     "user_tz": -330
    },
    "id": "24407608",
    "outputId": "cf6df8cb-02dc-4e99-ecde-f033cd57f536"
   },
   "outputs": [
    {
     "data": {
      "text/html": [
       "<div>\n",
       "<style scoped>\n",
       "    .dataframe tbody tr th:only-of-type {\n",
       "        vertical-align: middle;\n",
       "    }\n",
       "\n",
       "    .dataframe tbody tr th {\n",
       "        vertical-align: top;\n",
       "    }\n",
       "\n",
       "    .dataframe thead th {\n",
       "        text-align: right;\n",
       "    }\n",
       "</style>\n",
       "<table border=\"1\" class=\"dataframe\">\n",
       "  <thead>\n",
       "    <tr style=\"text-align: right;\">\n",
       "      <th></th>\n",
       "      <th>ID</th>\n",
       "      <th>Name</th>\n",
       "      <th>FullName</th>\n",
       "      <th>Age</th>\n",
       "      <th>Height</th>\n",
       "      <th>Weight</th>\n",
       "      <th>PhotoUrl</th>\n",
       "      <th>Nationality</th>\n",
       "      <th>Overall</th>\n",
       "      <th>Potential</th>\n",
       "      <th>...</th>\n",
       "      <th>LMRating</th>\n",
       "      <th>CMRating</th>\n",
       "      <th>RMRating</th>\n",
       "      <th>LWBRating</th>\n",
       "      <th>CDMRating</th>\n",
       "      <th>RWBRating</th>\n",
       "      <th>LBRating</th>\n",
       "      <th>CBRating</th>\n",
       "      <th>RBRating</th>\n",
       "      <th>GKRating</th>\n",
       "    </tr>\n",
       "  </thead>\n",
       "  <tbody>\n",
       "    <tr>\n",
       "      <th>0</th>\n",
       "      <td>158023</td>\n",
       "      <td>L. Messi</td>\n",
       "      <td>Lionel Messi</td>\n",
       "      <td>34</td>\n",
       "      <td>170</td>\n",
       "      <td>72</td>\n",
       "      <td>https://cdn.sofifa.com/players/158/023/22_60.png</td>\n",
       "      <td>Argentina</td>\n",
       "      <td>93</td>\n",
       "      <td>93</td>\n",
       "      <td>...</td>\n",
       "      <td>93</td>\n",
       "      <td>90</td>\n",
       "      <td>93</td>\n",
       "      <td>69</td>\n",
       "      <td>67</td>\n",
       "      <td>69</td>\n",
       "      <td>64</td>\n",
       "      <td>53</td>\n",
       "      <td>64</td>\n",
       "      <td>22</td>\n",
       "    </tr>\n",
       "    <tr>\n",
       "      <th>1</th>\n",
       "      <td>188545</td>\n",
       "      <td>R. Lewandowski</td>\n",
       "      <td>Robert Lewandowski</td>\n",
       "      <td>32</td>\n",
       "      <td>185</td>\n",
       "      <td>81</td>\n",
       "      <td>https://cdn.sofifa.com/players/188/545/22_60.png</td>\n",
       "      <td>Poland</td>\n",
       "      <td>92</td>\n",
       "      <td>92</td>\n",
       "      <td>...</td>\n",
       "      <td>87</td>\n",
       "      <td>83</td>\n",
       "      <td>87</td>\n",
       "      <td>67</td>\n",
       "      <td>69</td>\n",
       "      <td>67</td>\n",
       "      <td>64</td>\n",
       "      <td>63</td>\n",
       "      <td>64</td>\n",
       "      <td>22</td>\n",
       "    </tr>\n",
       "    <tr>\n",
       "      <th>2</th>\n",
       "      <td>20801</td>\n",
       "      <td>Cristiano Ronaldo</td>\n",
       "      <td>C. Ronaldo dos Santos Aveiro</td>\n",
       "      <td>36</td>\n",
       "      <td>187</td>\n",
       "      <td>83</td>\n",
       "      <td>https://cdn.sofifa.com/players/020/801/22_60.png</td>\n",
       "      <td>Portugal</td>\n",
       "      <td>91</td>\n",
       "      <td>91</td>\n",
       "      <td>...</td>\n",
       "      <td>89</td>\n",
       "      <td>81</td>\n",
       "      <td>89</td>\n",
       "      <td>66</td>\n",
       "      <td>62</td>\n",
       "      <td>66</td>\n",
       "      <td>63</td>\n",
       "      <td>56</td>\n",
       "      <td>63</td>\n",
       "      <td>23</td>\n",
       "    </tr>\n",
       "    <tr>\n",
       "      <th>3</th>\n",
       "      <td>231747</td>\n",
       "      <td>K. Mbappé</td>\n",
       "      <td>Kylian Mbappé</td>\n",
       "      <td>22</td>\n",
       "      <td>182</td>\n",
       "      <td>73</td>\n",
       "      <td>https://cdn.sofifa.com/players/231/747/22_60.png</td>\n",
       "      <td>France</td>\n",
       "      <td>91</td>\n",
       "      <td>95</td>\n",
       "      <td>...</td>\n",
       "      <td>92</td>\n",
       "      <td>84</td>\n",
       "      <td>92</td>\n",
       "      <td>70</td>\n",
       "      <td>66</td>\n",
       "      <td>70</td>\n",
       "      <td>66</td>\n",
       "      <td>57</td>\n",
       "      <td>66</td>\n",
       "      <td>21</td>\n",
       "    </tr>\n",
       "    <tr>\n",
       "      <th>4</th>\n",
       "      <td>200389</td>\n",
       "      <td>J. Oblak</td>\n",
       "      <td>Jan Oblak</td>\n",
       "      <td>28</td>\n",
       "      <td>188</td>\n",
       "      <td>87</td>\n",
       "      <td>https://cdn.sofifa.com/players/200/389/22_60.png</td>\n",
       "      <td>Slovenia</td>\n",
       "      <td>91</td>\n",
       "      <td>93</td>\n",
       "      <td>...</td>\n",
       "      <td>38</td>\n",
       "      <td>41</td>\n",
       "      <td>38</td>\n",
       "      <td>35</td>\n",
       "      <td>39</td>\n",
       "      <td>35</td>\n",
       "      <td>35</td>\n",
       "      <td>36</td>\n",
       "      <td>35</td>\n",
       "      <td>92</td>\n",
       "    </tr>\n",
       "  </tbody>\n",
       "</table>\n",
       "<p>5 rows × 90 columns</p>\n",
       "</div>"
      ],
      "text/plain": [
       "       ID               Name                      FullName  Age  Height  \\\n",
       "0  158023           L. Messi                  Lionel Messi   34     170   \n",
       "1  188545     R. Lewandowski            Robert Lewandowski   32     185   \n",
       "2   20801  Cristiano Ronaldo  C. Ronaldo dos Santos Aveiro   36     187   \n",
       "3  231747          K. Mbappé                 Kylian Mbappé   22     182   \n",
       "4  200389           J. Oblak                     Jan Oblak   28     188   \n",
       "\n",
       "   Weight                                          PhotoUrl Nationality  \\\n",
       "0      72  https://cdn.sofifa.com/players/158/023/22_60.png   Argentina   \n",
       "1      81  https://cdn.sofifa.com/players/188/545/22_60.png      Poland   \n",
       "2      83  https://cdn.sofifa.com/players/020/801/22_60.png    Portugal   \n",
       "3      73  https://cdn.sofifa.com/players/231/747/22_60.png      France   \n",
       "4      87  https://cdn.sofifa.com/players/200/389/22_60.png    Slovenia   \n",
       "\n",
       "   Overall  Potential  ...  LMRating  CMRating  RMRating LWBRating CDMRating  \\\n",
       "0       93         93  ...        93        90        93        69        67   \n",
       "1       92         92  ...        87        83        87        67        69   \n",
       "2       91         91  ...        89        81        89        66        62   \n",
       "3       91         95  ...        92        84        92        70        66   \n",
       "4       91         93  ...        38        41        38        35        39   \n",
       "\n",
       "  RWBRating  LBRating  CBRating  RBRating GKRating  \n",
       "0        69        64        53        64       22  \n",
       "1        67        64        63        64       22  \n",
       "2        66        63        56        63       23  \n",
       "3        70        66        57        66       21  \n",
       "4        35        35        36        35       92  \n",
       "\n",
       "[5 rows x 90 columns]"
      ]
     },
     "execution_count": 34,
     "metadata": {},
     "output_type": "execute_result"
    }
   ],
   "source": [
    "df.head(5)"
   ]
  },
  {
   "cell_type": "code",
   "execution_count": 35,
   "id": "d44458c9",
   "metadata": {
    "colab": {
     "base_uri": "https://localhost:8080/"
    },
    "executionInfo": {
     "elapsed": 23,
     "status": "ok",
     "timestamp": 1675678022296,
     "user": {
      "displayName": "Amaan Tamboli",
      "userId": "12292215664820239199"
     },
     "user_tz": -330
    },
    "id": "d44458c9",
    "outputId": "53d7de83-1afb-466e-c262-e430c8e09112"
   },
   "outputs": [
    {
     "data": {
      "text/plain": [
       "(19260, 90)"
      ]
     },
     "execution_count": 35,
     "metadata": {},
     "output_type": "execute_result"
    }
   ],
   "source": [
    "#dataframe shape:-\n",
    "df.shape"
   ]
  },
  {
   "cell_type": "code",
   "execution_count": 36,
   "id": "241e70f1",
   "metadata": {
    "colab": {
     "base_uri": "https://localhost:8080/"
    },
    "executionInfo": {
     "elapsed": 23,
     "status": "ok",
     "timestamp": 1675678022298,
     "user": {
      "displayName": "Amaan Tamboli",
      "userId": "12292215664820239199"
     },
     "user_tz": -330
    },
    "id": "241e70f1",
    "outputId": "b97aecc4-714e-4716-a164-8ce856feca8d",
    "scrolled": false
   },
   "outputs": [
    {
     "name": "stdout",
     "output_type": "stream",
     "text": [
      "<class 'pandas.core.frame.DataFrame'>\n",
      "RangeIndex: 19260 entries, 0 to 19259\n",
      "Data columns (total 90 columns):\n",
      " #   Column             Non-Null Count  Dtype  \n",
      "---  ------             --------------  -----  \n",
      " 0   ID                 19260 non-null  int64  \n",
      " 1   Name               19260 non-null  object \n",
      " 2   FullName           19260 non-null  object \n",
      " 3   Age                19260 non-null  int64  \n",
      " 4   Height             19260 non-null  int64  \n",
      " 5   Weight             19260 non-null  int64  \n",
      " 6   PhotoUrl           19260 non-null  object \n",
      " 7   Nationality        19260 non-null  object \n",
      " 8   Overall            19260 non-null  int64  \n",
      " 9   Potential          19260 non-null  int64  \n",
      " 10  Growth             19260 non-null  int64  \n",
      " 11  TotalStats         19260 non-null  int64  \n",
      " 12  BaseStats          19260 non-null  int64  \n",
      " 13  Positions          19260 non-null  object \n",
      " 14  BestPosition       19260 non-null  object \n",
      " 15  Club               19260 non-null  object \n",
      " 16  ValueEUR           19260 non-null  int64  \n",
      " 17  WageEUR            19260 non-null  int64  \n",
      " 18  ReleaseClause      19260 non-null  int64  \n",
      " 19  ClubPosition       19184 non-null  object \n",
      " 20  ContractUntil      19184 non-null  float64\n",
      " 21  ClubNumber         19184 non-null  float64\n",
      " 22  ClubJoined         19260 non-null  int64  \n",
      " 23  OnLoad             19260 non-null  bool   \n",
      " 24  NationalTeam       19260 non-null  object \n",
      " 25  NationalPosition   757 non-null    object \n",
      " 26  NationalNumber     757 non-null    float64\n",
      " 27  PreferredFoot      19260 non-null  object \n",
      " 28  IntReputation      19260 non-null  int64  \n",
      " 29  WeakFoot           19260 non-null  int64  \n",
      " 30  SkillMoves         19260 non-null  int64  \n",
      " 31  AttackingWorkRate  19260 non-null  object \n",
      " 32  DefensiveWorkRate  19260 non-null  object \n",
      " 33  PaceTotal          19260 non-null  int64  \n",
      " 34  ShootingTotal      19260 non-null  int64  \n",
      " 35  PassingTotal       19260 non-null  int64  \n",
      " 36  DribblingTotal     19260 non-null  int64  \n",
      " 37  DefendingTotal     19260 non-null  int64  \n",
      " 38  PhysicalityTotal   19260 non-null  int64  \n",
      " 39  Crossing           19260 non-null  int64  \n",
      " 40  Finishing          19260 non-null  int64  \n",
      " 41  HeadingAccuracy    19260 non-null  int64  \n",
      " 42  ShortPassing       19260 non-null  int64  \n",
      " 43  Volleys            19260 non-null  int64  \n",
      " 44  Dribbling          19260 non-null  int64  \n",
      " 45  Curve              19260 non-null  int64  \n",
      " 46  FKAccuracy         19260 non-null  int64  \n",
      " 47  LongPassing        19260 non-null  int64  \n",
      " 48  BallControl        19260 non-null  int64  \n",
      " 49  Acceleration       19260 non-null  int64  \n",
      " 50  SprintSpeed        19260 non-null  int64  \n",
      " 51  Agility            19260 non-null  int64  \n",
      " 52  Reactions          19260 non-null  int64  \n",
      " 53  Balance            19260 non-null  int64  \n",
      " 54  ShotPower          19260 non-null  int64  \n",
      " 55  Jumping            19260 non-null  int64  \n",
      " 56  Stamina            19260 non-null  int64  \n",
      " 57  Strength           19260 non-null  int64  \n",
      " 58  LongShots          19260 non-null  int64  \n",
      " 59  Aggression         19260 non-null  int64  \n",
      " 60  Interceptions      19260 non-null  int64  \n",
      " 61  Positioning        19260 non-null  int64  \n",
      " 62  Vision             19260 non-null  int64  \n",
      " 63  Penalties          19260 non-null  int64  \n",
      " 64  Composure          19260 non-null  int64  \n",
      " 65  Marking            19260 non-null  int64  \n",
      " 66  StandingTackle     19260 non-null  int64  \n",
      " 67  SlidingTackle      19260 non-null  int64  \n",
      " 68  GKDiving           19260 non-null  int64  \n",
      " 69  GKHandling         19260 non-null  int64  \n",
      " 70  GKKicking          19260 non-null  int64  \n",
      " 71  GKPositioning      19260 non-null  int64  \n",
      " 72  GKReflexes         19260 non-null  int64  \n",
      " 73  STRating           19260 non-null  int64  \n",
      " 74  LWRating           19260 non-null  int64  \n",
      " 75  LFRating           19260 non-null  int64  \n",
      " 76  CFRating           19260 non-null  int64  \n",
      " 77  RFRating           19260 non-null  int64  \n",
      " 78  RWRating           19260 non-null  int64  \n",
      " 79  CAMRating          19260 non-null  int64  \n",
      " 80  LMRating           19260 non-null  int64  \n",
      " 81  CMRating           19260 non-null  int64  \n",
      " 82  RMRating           19260 non-null  int64  \n",
      " 83  LWBRating          19260 non-null  int64  \n",
      " 84  CDMRating          19260 non-null  int64  \n",
      " 85  RWBRating          19260 non-null  int64  \n",
      " 86  LBRating           19260 non-null  int64  \n",
      " 87  CBRating           19260 non-null  int64  \n",
      " 88  RBRating           19260 non-null  int64  \n",
      " 89  GKRating           19260 non-null  int64  \n",
      "dtypes: bool(1), float64(3), int64(73), object(13)\n",
      "memory usage: 13.1+ MB\n"
     ]
    }
   ],
   "source": [
    "#dataframe information:-\n",
    "df.info()"
   ]
  },
  {
   "cell_type": "markdown",
   "id": "fce0126c",
   "metadata": {
    "id": "fce0126c"
   },
   "source": [
    "# Handeling null values:-"
   ]
  },
  {
   "cell_type": "code",
   "execution_count": 37,
   "id": "2cb76aab",
   "metadata": {
    "colab": {
     "base_uri": "https://localhost:8080/"
    },
    "executionInfo": {
     "elapsed": 20,
     "status": "ok",
     "timestamp": 1675678022298,
     "user": {
      "displayName": "Amaan Tamboli",
      "userId": "12292215664820239199"
     },
     "user_tz": -330
    },
    "id": "2cb76aab",
    "outputId": "06a0a46b-2702-4b54-ec0b-c7383ba845dd"
   },
   "outputs": [
    {
     "data": {
      "text/plain": [
       "NationalNumber       18503\n",
       "NationalPosition     18503\n",
       "ClubNumber              76\n",
       "ContractUntil           76\n",
       "ClubPosition            76\n",
       "                     ...  \n",
       "DefensiveWorkRate        0\n",
       "AttackingWorkRate        0\n",
       "SkillMoves               0\n",
       "WeakFoot                 0\n",
       "GKRating                 0\n",
       "Length: 90, dtype: int64"
      ]
     },
     "execution_count": 37,
     "metadata": {},
     "output_type": "execute_result"
    }
   ],
   "source": [
    "#Finding null values:-\n",
    "df.isnull().sum().sort_values(ascending=False)"
   ]
  },
  {
   "cell_type": "code",
   "execution_count": 38,
   "id": "1aff0589",
   "metadata": {
    "colab": {
     "base_uri": "https://localhost:8080/",
     "height": 424
    },
    "executionInfo": {
     "elapsed": 18,
     "status": "ok",
     "timestamp": 1675678022299,
     "user": {
      "displayName": "Amaan Tamboli",
      "userId": "12292215664820239199"
     },
     "user_tz": -330
    },
    "id": "1aff0589",
    "outputId": "884d9068-32f8-41f0-e5f6-29d90351adb9"
   },
   "outputs": [
    {
     "data": {
      "text/html": [
       "<div>\n",
       "<style scoped>\n",
       "    .dataframe tbody tr th:only-of-type {\n",
       "        vertical-align: middle;\n",
       "    }\n",
       "\n",
       "    .dataframe tbody tr th {\n",
       "        vertical-align: top;\n",
       "    }\n",
       "\n",
       "    .dataframe thead th {\n",
       "        text-align: right;\n",
       "    }\n",
       "</style>\n",
       "<table border=\"1\" class=\"dataframe\">\n",
       "  <thead>\n",
       "    <tr style=\"text-align: right;\">\n",
       "      <th></th>\n",
       "      <th>ClubPosition</th>\n",
       "      <th>ContractUntil</th>\n",
       "      <th>ClubNumber</th>\n",
       "    </tr>\n",
       "  </thead>\n",
       "  <tbody>\n",
       "    <tr>\n",
       "      <th>0</th>\n",
       "      <td>RW</td>\n",
       "      <td>2023.0</td>\n",
       "      <td>30.0</td>\n",
       "    </tr>\n",
       "    <tr>\n",
       "      <th>1</th>\n",
       "      <td>ST</td>\n",
       "      <td>2023.0</td>\n",
       "      <td>9.0</td>\n",
       "    </tr>\n",
       "    <tr>\n",
       "      <th>2</th>\n",
       "      <td>ST</td>\n",
       "      <td>2023.0</td>\n",
       "      <td>7.0</td>\n",
       "    </tr>\n",
       "    <tr>\n",
       "      <th>3</th>\n",
       "      <td>ST</td>\n",
       "      <td>2022.0</td>\n",
       "      <td>7.0</td>\n",
       "    </tr>\n",
       "    <tr>\n",
       "      <th>4</th>\n",
       "      <td>GK</td>\n",
       "      <td>2023.0</td>\n",
       "      <td>13.0</td>\n",
       "    </tr>\n",
       "    <tr>\n",
       "      <th>...</th>\n",
       "      <td>...</td>\n",
       "      <td>...</td>\n",
       "      <td>...</td>\n",
       "    </tr>\n",
       "    <tr>\n",
       "      <th>19255</th>\n",
       "      <td>SUB</td>\n",
       "      <td>2021.0</td>\n",
       "      <td>27.0</td>\n",
       "    </tr>\n",
       "    <tr>\n",
       "      <th>19256</th>\n",
       "      <td>SUB</td>\n",
       "      <td>2021.0</td>\n",
       "      <td>1.0</td>\n",
       "    </tr>\n",
       "    <tr>\n",
       "      <th>19257</th>\n",
       "      <td>SUB</td>\n",
       "      <td>2021.0</td>\n",
       "      <td>37.0</td>\n",
       "    </tr>\n",
       "    <tr>\n",
       "      <th>19258</th>\n",
       "      <td>RES</td>\n",
       "      <td>2022.0</td>\n",
       "      <td>34.0</td>\n",
       "    </tr>\n",
       "    <tr>\n",
       "      <th>19259</th>\n",
       "      <td>RES</td>\n",
       "      <td>2022.0</td>\n",
       "      <td>33.0</td>\n",
       "    </tr>\n",
       "  </tbody>\n",
       "</table>\n",
       "<p>19260 rows × 3 columns</p>\n",
       "</div>"
      ],
      "text/plain": [
       "      ClubPosition  ContractUntil  ClubNumber\n",
       "0               RW         2023.0        30.0\n",
       "1               ST         2023.0         9.0\n",
       "2               ST         2023.0         7.0\n",
       "3               ST         2022.0         7.0\n",
       "4               GK         2023.0        13.0\n",
       "...            ...            ...         ...\n",
       "19255          SUB         2021.0        27.0\n",
       "19256          SUB         2021.0         1.0\n",
       "19257          SUB         2021.0        37.0\n",
       "19258          RES         2022.0        34.0\n",
       "19259          RES         2022.0        33.0\n",
       "\n",
       "[19260 rows x 3 columns]"
      ]
     },
     "execution_count": 38,
     "metadata": {},
     "output_type": "execute_result"
    }
   ],
   "source": [
    "df[['ClubPosition','ContractUntil','ClubNumber']]"
   ]
  },
  {
   "cell_type": "code",
   "execution_count": 39,
   "id": "be9ff30f",
   "metadata": {
    "executionInfo": {
     "elapsed": 18,
     "status": "ok",
     "timestamp": 1675678022300,
     "user": {
      "displayName": "Amaan Tamboli",
      "userId": "12292215664820239199"
     },
     "user_tz": -330
    },
    "id": "be9ff30f"
   },
   "outputs": [],
   "source": [
    "#dropping null columns:-\n",
    "df.drop(['NationalPosition','NationalNumber'], axis=1,inplace=True)"
   ]
  },
  {
   "cell_type": "code",
   "execution_count": 40,
   "id": "b0d3ec8f",
   "metadata": {
    "colab": {
     "base_uri": "https://localhost:8080/"
    },
    "executionInfo": {
     "elapsed": 20,
     "status": "ok",
     "timestamp": 1675678022302,
     "user": {
      "displayName": "Amaan Tamboli",
      "userId": "12292215664820239199"
     },
     "user_tz": -330
    },
    "id": "b0d3ec8f",
    "outputId": "017308b6-98ef-4d78-d0d2-d5a6a67b3e23"
   },
   "outputs": [
    {
     "data": {
      "text/plain": [
       "(19260, 88)"
      ]
     },
     "execution_count": 40,
     "metadata": {},
     "output_type": "execute_result"
    }
   ],
   "source": [
    "#New shape:-\n",
    "df.shape"
   ]
  },
  {
   "cell_type": "code",
   "execution_count": 41,
   "id": "7270aadd",
   "metadata": {
    "executionInfo": {
     "elapsed": 19,
     "status": "ok",
     "timestamp": 1675678022302,
     "user": {
      "displayName": "Amaan Tamboli",
      "userId": "12292215664820239199"
     },
     "user_tz": -330
    },
    "id": "7270aadd"
   },
   "outputs": [],
   "source": [
    "#filling null values:-\n",
    "df.fillna({\n",
    "    'ClubPosition' : 'Notknown',\n",
    "    'ContractUntil': 'Notknown',\n",
    "    'ClubNumber'   :  0\n",
    "},inplace=True)"
   ]
  },
  {
   "cell_type": "markdown",
   "id": "1065f6aa",
   "metadata": {
    "id": "1065f6aa"
   },
   "source": [
    "# Data Visualization:-"
   ]
  },
  {
   "cell_type": "markdown",
   "id": "03e58140",
   "metadata": {
    "id": "03e58140"
   },
   "source": [
    "Top tallents in countries:-"
   ]
  },
  {
   "cell_type": "code",
   "execution_count": 42,
   "id": "33669722",
   "metadata": {
    "executionInfo": {
     "elapsed": 19,
     "status": "ok",
     "timestamp": 1675678022303,
     "user": {
      "displayName": "Amaan Tamboli",
      "userId": "12292215664820239199"
     },
     "user_tz": -330
    },
    "id": "33669722"
   },
   "outputs": [],
   "source": [
    "top_players=df[df['Overall']>85]"
   ]
  },
  {
   "cell_type": "code",
   "execution_count": 43,
   "id": "d5f66310",
   "metadata": {
    "colab": {
     "base_uri": "https://localhost:8080/",
     "height": 713
    },
    "executionInfo": {
     "elapsed": 19,
     "status": "ok",
     "timestamp": 1675678022303,
     "user": {
      "displayName": "Amaan Tamboli",
      "userId": "12292215664820239199"
     },
     "user_tz": -330
    },
    "id": "d5f66310",
    "outputId": "b49a9208-4ad3-4a8a-f2fa-04636eccca1a"
   },
   "outputs": [
    {
     "data": {
      "text/html": [
       "<div>\n",
       "<style scoped>\n",
       "    .dataframe tbody tr th:only-of-type {\n",
       "        vertical-align: middle;\n",
       "    }\n",
       "\n",
       "    .dataframe tbody tr th {\n",
       "        vertical-align: top;\n",
       "    }\n",
       "\n",
       "    .dataframe thead th {\n",
       "        text-align: right;\n",
       "    }\n",
       "</style>\n",
       "<table border=\"1\" class=\"dataframe\">\n",
       "  <thead>\n",
       "    <tr style=\"text-align: right;\">\n",
       "      <th></th>\n",
       "      <th>ID</th>\n",
       "      <th>Name</th>\n",
       "      <th>FullName</th>\n",
       "      <th>Age</th>\n",
       "      <th>Height</th>\n",
       "      <th>Weight</th>\n",
       "      <th>PhotoUrl</th>\n",
       "      <th>Nationality</th>\n",
       "      <th>Overall</th>\n",
       "      <th>Potential</th>\n",
       "      <th>...</th>\n",
       "      <th>LMRating</th>\n",
       "      <th>CMRating</th>\n",
       "      <th>RMRating</th>\n",
       "      <th>LWBRating</th>\n",
       "      <th>CDMRating</th>\n",
       "      <th>RWBRating</th>\n",
       "      <th>LBRating</th>\n",
       "      <th>CBRating</th>\n",
       "      <th>RBRating</th>\n",
       "      <th>GKRating</th>\n",
       "    </tr>\n",
       "  </thead>\n",
       "  <tbody>\n",
       "    <tr>\n",
       "      <th>0</th>\n",
       "      <td>158023</td>\n",
       "      <td>L. Messi</td>\n",
       "      <td>Lionel Messi</td>\n",
       "      <td>34</td>\n",
       "      <td>170</td>\n",
       "      <td>72</td>\n",
       "      <td>https://cdn.sofifa.com/players/158/023/22_60.png</td>\n",
       "      <td>Argentina</td>\n",
       "      <td>93</td>\n",
       "      <td>93</td>\n",
       "      <td>...</td>\n",
       "      <td>93</td>\n",
       "      <td>90</td>\n",
       "      <td>93</td>\n",
       "      <td>69</td>\n",
       "      <td>67</td>\n",
       "      <td>69</td>\n",
       "      <td>64</td>\n",
       "      <td>53</td>\n",
       "      <td>64</td>\n",
       "      <td>22</td>\n",
       "    </tr>\n",
       "    <tr>\n",
       "      <th>1</th>\n",
       "      <td>188545</td>\n",
       "      <td>R. Lewandowski</td>\n",
       "      <td>Robert Lewandowski</td>\n",
       "      <td>32</td>\n",
       "      <td>185</td>\n",
       "      <td>81</td>\n",
       "      <td>https://cdn.sofifa.com/players/188/545/22_60.png</td>\n",
       "      <td>Poland</td>\n",
       "      <td>92</td>\n",
       "      <td>92</td>\n",
       "      <td>...</td>\n",
       "      <td>87</td>\n",
       "      <td>83</td>\n",
       "      <td>87</td>\n",
       "      <td>67</td>\n",
       "      <td>69</td>\n",
       "      <td>67</td>\n",
       "      <td>64</td>\n",
       "      <td>63</td>\n",
       "      <td>64</td>\n",
       "      <td>22</td>\n",
       "    </tr>\n",
       "    <tr>\n",
       "      <th>2</th>\n",
       "      <td>20801</td>\n",
       "      <td>Cristiano Ronaldo</td>\n",
       "      <td>C. Ronaldo dos Santos Aveiro</td>\n",
       "      <td>36</td>\n",
       "      <td>187</td>\n",
       "      <td>83</td>\n",
       "      <td>https://cdn.sofifa.com/players/020/801/22_60.png</td>\n",
       "      <td>Portugal</td>\n",
       "      <td>91</td>\n",
       "      <td>91</td>\n",
       "      <td>...</td>\n",
       "      <td>89</td>\n",
       "      <td>81</td>\n",
       "      <td>89</td>\n",
       "      <td>66</td>\n",
       "      <td>62</td>\n",
       "      <td>66</td>\n",
       "      <td>63</td>\n",
       "      <td>56</td>\n",
       "      <td>63</td>\n",
       "      <td>23</td>\n",
       "    </tr>\n",
       "    <tr>\n",
       "      <th>3</th>\n",
       "      <td>231747</td>\n",
       "      <td>K. Mbappé</td>\n",
       "      <td>Kylian Mbappé</td>\n",
       "      <td>22</td>\n",
       "      <td>182</td>\n",
       "      <td>73</td>\n",
       "      <td>https://cdn.sofifa.com/players/231/747/22_60.png</td>\n",
       "      <td>France</td>\n",
       "      <td>91</td>\n",
       "      <td>95</td>\n",
       "      <td>...</td>\n",
       "      <td>92</td>\n",
       "      <td>84</td>\n",
       "      <td>92</td>\n",
       "      <td>70</td>\n",
       "      <td>66</td>\n",
       "      <td>70</td>\n",
       "      <td>66</td>\n",
       "      <td>57</td>\n",
       "      <td>66</td>\n",
       "      <td>21</td>\n",
       "    </tr>\n",
       "    <tr>\n",
       "      <th>4</th>\n",
       "      <td>200389</td>\n",
       "      <td>J. Oblak</td>\n",
       "      <td>Jan Oblak</td>\n",
       "      <td>28</td>\n",
       "      <td>188</td>\n",
       "      <td>87</td>\n",
       "      <td>https://cdn.sofifa.com/players/200/389/22_60.png</td>\n",
       "      <td>Slovenia</td>\n",
       "      <td>91</td>\n",
       "      <td>93</td>\n",
       "      <td>...</td>\n",
       "      <td>38</td>\n",
       "      <td>41</td>\n",
       "      <td>38</td>\n",
       "      <td>35</td>\n",
       "      <td>39</td>\n",
       "      <td>35</td>\n",
       "      <td>35</td>\n",
       "      <td>36</td>\n",
       "      <td>35</td>\n",
       "      <td>92</td>\n",
       "    </tr>\n",
       "    <tr>\n",
       "      <th>...</th>\n",
       "      <td>...</td>\n",
       "      <td>...</td>\n",
       "      <td>...</td>\n",
       "      <td>...</td>\n",
       "      <td>...</td>\n",
       "      <td>...</td>\n",
       "      <td>...</td>\n",
       "      <td>...</td>\n",
       "      <td>...</td>\n",
       "      <td>...</td>\n",
       "      <td>...</td>\n",
       "      <td>...</td>\n",
       "      <td>...</td>\n",
       "      <td>...</td>\n",
       "      <td>...</td>\n",
       "      <td>...</td>\n",
       "      <td>...</td>\n",
       "      <td>...</td>\n",
       "      <td>...</td>\n",
       "      <td>...</td>\n",
       "      <td>...</td>\n",
       "    </tr>\n",
       "    <tr>\n",
       "      <th>64</th>\n",
       "      <td>210514</td>\n",
       "      <td>João Cancelo</td>\n",
       "      <td>João Pedro Cavaco Cancelo</td>\n",
       "      <td>27</td>\n",
       "      <td>182</td>\n",
       "      <td>74</td>\n",
       "      <td>https://cdn.sofifa.com/players/210/514/22_60.png</td>\n",
       "      <td>Portugal</td>\n",
       "      <td>86</td>\n",
       "      <td>87</td>\n",
       "      <td>...</td>\n",
       "      <td>86</td>\n",
       "      <td>86</td>\n",
       "      <td>86</td>\n",
       "      <td>87</td>\n",
       "      <td>84</td>\n",
       "      <td>87</td>\n",
       "      <td>86</td>\n",
       "      <td>81</td>\n",
       "      <td>86</td>\n",
       "      <td>22</td>\n",
       "    </tr>\n",
       "    <tr>\n",
       "      <th>65</th>\n",
       "      <td>212218</td>\n",
       "      <td>A. Laporte</td>\n",
       "      <td>Aymeric Laporte</td>\n",
       "      <td>27</td>\n",
       "      <td>191</td>\n",
       "      <td>85</td>\n",
       "      <td>https://cdn.sofifa.com/players/212/218/22_60.png</td>\n",
       "      <td>Spain</td>\n",
       "      <td>86</td>\n",
       "      <td>89</td>\n",
       "      <td>...</td>\n",
       "      <td>71</td>\n",
       "      <td>77</td>\n",
       "      <td>71</td>\n",
       "      <td>80</td>\n",
       "      <td>85</td>\n",
       "      <td>80</td>\n",
       "      <td>82</td>\n",
       "      <td>88</td>\n",
       "      <td>82</td>\n",
       "      <td>21</td>\n",
       "    </tr>\n",
       "    <tr>\n",
       "      <th>66</th>\n",
       "      <td>213345</td>\n",
       "      <td>K. Coman</td>\n",
       "      <td>Kingsley Coman</td>\n",
       "      <td>25</td>\n",
       "      <td>180</td>\n",
       "      <td>76</td>\n",
       "      <td>https://cdn.sofifa.com/players/213/345/22_60.png</td>\n",
       "      <td>France</td>\n",
       "      <td>86</td>\n",
       "      <td>87</td>\n",
       "      <td>...</td>\n",
       "      <td>87</td>\n",
       "      <td>78</td>\n",
       "      <td>87</td>\n",
       "      <td>63</td>\n",
       "      <td>58</td>\n",
       "      <td>63</td>\n",
       "      <td>59</td>\n",
       "      <td>48</td>\n",
       "      <td>59</td>\n",
       "      <td>16</td>\n",
       "    </tr>\n",
       "    <tr>\n",
       "      <th>67</th>\n",
       "      <td>218667</td>\n",
       "      <td>Bernardo Silva</td>\n",
       "      <td>Bernardo Mota Carvalho e Silva</td>\n",
       "      <td>26</td>\n",
       "      <td>173</td>\n",
       "      <td>64</td>\n",
       "      <td>https://cdn.sofifa.com/players/218/667/22_60.png</td>\n",
       "      <td>Portugal</td>\n",
       "      <td>86</td>\n",
       "      <td>86</td>\n",
       "      <td>...</td>\n",
       "      <td>86</td>\n",
       "      <td>84</td>\n",
       "      <td>86</td>\n",
       "      <td>76</td>\n",
       "      <td>73</td>\n",
       "      <td>76</td>\n",
       "      <td>71</td>\n",
       "      <td>62</td>\n",
       "      <td>71</td>\n",
       "      <td>20</td>\n",
       "    </tr>\n",
       "    <tr>\n",
       "      <th>68</th>\n",
       "      <td>209499</td>\n",
       "      <td>Fabinho</td>\n",
       "      <td>Fábio Henrique Tavares</td>\n",
       "      <td>27</td>\n",
       "      <td>188</td>\n",
       "      <td>78</td>\n",
       "      <td>https://cdn.sofifa.com/players/209/499/22_60.png</td>\n",
       "      <td>Brazil</td>\n",
       "      <td>86</td>\n",
       "      <td>88</td>\n",
       "      <td>...</td>\n",
       "      <td>80</td>\n",
       "      <td>84</td>\n",
       "      <td>80</td>\n",
       "      <td>85</td>\n",
       "      <td>87</td>\n",
       "      <td>85</td>\n",
       "      <td>85</td>\n",
       "      <td>87</td>\n",
       "      <td>85</td>\n",
       "      <td>21</td>\n",
       "    </tr>\n",
       "  </tbody>\n",
       "</table>\n",
       "<p>69 rows × 88 columns</p>\n",
       "</div>"
      ],
      "text/plain": [
       "        ID               Name                        FullName  Age  Height  \\\n",
       "0   158023           L. Messi                    Lionel Messi   34     170   \n",
       "1   188545     R. Lewandowski              Robert Lewandowski   32     185   \n",
       "2    20801  Cristiano Ronaldo    C. Ronaldo dos Santos Aveiro   36     187   \n",
       "3   231747          K. Mbappé                   Kylian Mbappé   22     182   \n",
       "4   200389           J. Oblak                       Jan Oblak   28     188   \n",
       "..     ...                ...                             ...  ...     ...   \n",
       "64  210514       João Cancelo       João Pedro Cavaco Cancelo   27     182   \n",
       "65  212218         A. Laporte                 Aymeric Laporte   27     191   \n",
       "66  213345           K. Coman                  Kingsley Coman   25     180   \n",
       "67  218667     Bernardo Silva  Bernardo Mota Carvalho e Silva   26     173   \n",
       "68  209499            Fabinho          Fábio Henrique Tavares   27     188   \n",
       "\n",
       "    Weight                                          PhotoUrl Nationality  \\\n",
       "0       72  https://cdn.sofifa.com/players/158/023/22_60.png   Argentina   \n",
       "1       81  https://cdn.sofifa.com/players/188/545/22_60.png      Poland   \n",
       "2       83  https://cdn.sofifa.com/players/020/801/22_60.png    Portugal   \n",
       "3       73  https://cdn.sofifa.com/players/231/747/22_60.png      France   \n",
       "4       87  https://cdn.sofifa.com/players/200/389/22_60.png    Slovenia   \n",
       "..     ...                                               ...         ...   \n",
       "64      74  https://cdn.sofifa.com/players/210/514/22_60.png    Portugal   \n",
       "65      85  https://cdn.sofifa.com/players/212/218/22_60.png       Spain   \n",
       "66      76  https://cdn.sofifa.com/players/213/345/22_60.png      France   \n",
       "67      64  https://cdn.sofifa.com/players/218/667/22_60.png    Portugal   \n",
       "68      78  https://cdn.sofifa.com/players/209/499/22_60.png      Brazil   \n",
       "\n",
       "    Overall  Potential  ...  LMRating  CMRating  RMRating LWBRating CDMRating  \\\n",
       "0        93         93  ...        93        90        93        69        67   \n",
       "1        92         92  ...        87        83        87        67        69   \n",
       "2        91         91  ...        89        81        89        66        62   \n",
       "3        91         95  ...        92        84        92        70        66   \n",
       "4        91         93  ...        38        41        38        35        39   \n",
       "..      ...        ...  ...       ...       ...       ...       ...       ...   \n",
       "64       86         87  ...        86        86        86        87        84   \n",
       "65       86         89  ...        71        77        71        80        85   \n",
       "66       86         87  ...        87        78        87        63        58   \n",
       "67       86         86  ...        86        84        86        76        73   \n",
       "68       86         88  ...        80        84        80        85        87   \n",
       "\n",
       "   RWBRating  LBRating  CBRating  RBRating GKRating  \n",
       "0         69        64        53        64       22  \n",
       "1         67        64        63        64       22  \n",
       "2         66        63        56        63       23  \n",
       "3         70        66        57        66       21  \n",
       "4         35        35        36        35       92  \n",
       "..       ...       ...       ...       ...      ...  \n",
       "64        87        86        81        86       22  \n",
       "65        80        82        88        82       21  \n",
       "66        63        59        48        59       16  \n",
       "67        76        71        62        71       20  \n",
       "68        85        85        87        85       21  \n",
       "\n",
       "[69 rows x 88 columns]"
      ]
     },
     "execution_count": 43,
     "metadata": {},
     "output_type": "execute_result"
    }
   ],
   "source": [
    "top_players"
   ]
  },
  {
   "cell_type": "code",
   "execution_count": 44,
   "id": "e28e877c",
   "metadata": {
    "colab": {
     "base_uri": "https://localhost:8080/",
     "height": 363
    },
    "executionInfo": {
     "elapsed": 18,
     "status": "ok",
     "timestamp": 1675678022303,
     "user": {
      "displayName": "Amaan Tamboli",
      "userId": "12292215664820239199"
     },
     "user_tz": -330
    },
    "id": "e28e877c",
    "outputId": "00e524a9-901e-45c7-9484-8f056bd7abfd"
   },
   "outputs": [
    {
     "data": {
      "text/html": [
       "<div>\n",
       "<style scoped>\n",
       "    .dataframe tbody tr th:only-of-type {\n",
       "        vertical-align: middle;\n",
       "    }\n",
       "\n",
       "    .dataframe tbody tr th {\n",
       "        vertical-align: top;\n",
       "    }\n",
       "\n",
       "    .dataframe thead th {\n",
       "        text-align: right;\n",
       "    }\n",
       "</style>\n",
       "<table border=\"1\" class=\"dataframe\">\n",
       "  <thead>\n",
       "    <tr style=\"text-align: right;\">\n",
       "      <th></th>\n",
       "      <th>Name</th>\n",
       "      <th>Overall</th>\n",
       "      <th>Potential</th>\n",
       "      <th>Growth</th>\n",
       "      <th>Nationality</th>\n",
       "    </tr>\n",
       "  </thead>\n",
       "  <tbody>\n",
       "    <tr>\n",
       "      <th>0</th>\n",
       "      <td>L. Messi</td>\n",
       "      <td>93</td>\n",
       "      <td>93</td>\n",
       "      <td>0</td>\n",
       "      <td>Argentina</td>\n",
       "    </tr>\n",
       "    <tr>\n",
       "      <th>1</th>\n",
       "      <td>R. Lewandowski</td>\n",
       "      <td>92</td>\n",
       "      <td>92</td>\n",
       "      <td>0</td>\n",
       "      <td>Poland</td>\n",
       "    </tr>\n",
       "    <tr>\n",
       "      <th>2</th>\n",
       "      <td>Cristiano Ronaldo</td>\n",
       "      <td>91</td>\n",
       "      <td>91</td>\n",
       "      <td>0</td>\n",
       "      <td>Portugal</td>\n",
       "    </tr>\n",
       "    <tr>\n",
       "      <th>3</th>\n",
       "      <td>K. Mbappé</td>\n",
       "      <td>91</td>\n",
       "      <td>95</td>\n",
       "      <td>4</td>\n",
       "      <td>France</td>\n",
       "    </tr>\n",
       "    <tr>\n",
       "      <th>4</th>\n",
       "      <td>J. Oblak</td>\n",
       "      <td>91</td>\n",
       "      <td>93</td>\n",
       "      <td>2</td>\n",
       "      <td>Slovenia</td>\n",
       "    </tr>\n",
       "    <tr>\n",
       "      <th>5</th>\n",
       "      <td>K. De Bruyne</td>\n",
       "      <td>91</td>\n",
       "      <td>91</td>\n",
       "      <td>0</td>\n",
       "      <td>Belgium</td>\n",
       "    </tr>\n",
       "    <tr>\n",
       "      <th>6</th>\n",
       "      <td>Neymar Jr</td>\n",
       "      <td>91</td>\n",
       "      <td>91</td>\n",
       "      <td>0</td>\n",
       "      <td>Brazil</td>\n",
       "    </tr>\n",
       "    <tr>\n",
       "      <th>7</th>\n",
       "      <td>N. Kanté</td>\n",
       "      <td>90</td>\n",
       "      <td>90</td>\n",
       "      <td>0</td>\n",
       "      <td>France</td>\n",
       "    </tr>\n",
       "    <tr>\n",
       "      <th>8</th>\n",
       "      <td>H. Kane</td>\n",
       "      <td>90</td>\n",
       "      <td>90</td>\n",
       "      <td>0</td>\n",
       "      <td>England</td>\n",
       "    </tr>\n",
       "    <tr>\n",
       "      <th>9</th>\n",
       "      <td>M. ter Stegen</td>\n",
       "      <td>90</td>\n",
       "      <td>92</td>\n",
       "      <td>2</td>\n",
       "      <td>Germany</td>\n",
       "    </tr>\n",
       "  </tbody>\n",
       "</table>\n",
       "</div>"
      ],
      "text/plain": [
       "                Name  Overall  Potential  Growth Nationality\n",
       "0           L. Messi       93         93       0   Argentina\n",
       "1     R. Lewandowski       92         92       0      Poland\n",
       "2  Cristiano Ronaldo       91         91       0    Portugal\n",
       "3          K. Mbappé       91         95       4      France\n",
       "4           J. Oblak       91         93       2    Slovenia\n",
       "5       K. De Bruyne       91         91       0     Belgium\n",
       "6          Neymar Jr       91         91       0      Brazil\n",
       "7           N. Kanté       90         90       0      France\n",
       "8            H. Kane       90         90       0     England\n",
       "9      M. ter Stegen       90         92       2     Germany"
      ]
     },
     "execution_count": 44,
     "metadata": {},
     "output_type": "execute_result"
    }
   ],
   "source": [
    "top_players[['Name','Overall','Potential','Growth','Nationality']].sort_values(by='Overall',ascending=False)[:10]"
   ]
  },
  {
   "cell_type": "code",
   "execution_count": 45,
   "id": "997ee6fe",
   "metadata": {
    "executionInfo": {
     "elapsed": 19,
     "status": "ok",
     "timestamp": 1675678022304,
     "user": {
      "displayName": "Amaan Tamboli",
      "userId": "12292215664820239199"
     },
     "user_tz": -330
    },
    "id": "997ee6fe"
   },
   "outputs": [],
   "source": [
    "count_nationality=top_players.Nationality.value_counts().sort_values(ascending=False)[:20]"
   ]
  },
  {
   "cell_type": "code",
   "execution_count": 46,
   "id": "b06e82b4",
   "metadata": {
    "colab": {
     "base_uri": "https://localhost:8080/"
    },
    "executionInfo": {
     "elapsed": 19,
     "status": "ok",
     "timestamp": 1675678022304,
     "user": {
      "displayName": "Amaan Tamboli",
      "userId": "12292215664820239199"
     },
     "user_tz": -330
    },
    "id": "b06e82b4",
    "outputId": "2aa5927a-cb55-4a1c-bf37-facf644e2dda"
   },
   "outputs": [
    {
     "data": {
      "text/plain": [
       "Spain             9\n",
       "France            7\n",
       "Germany           7\n",
       "Brazil            6\n",
       "Portugal          5\n",
       "England           5\n",
       "Italy             5\n",
       "Argentina         4\n",
       "Belgium           4\n",
       "Slovenia          2\n",
       "Senegal           2\n",
       "Netherlands       2\n",
       "Poland            2\n",
       "Korea Republic    1\n",
       "Egypt             1\n",
       "Uruguay           1\n",
       "Norway            1\n",
       "Costa Rica        1\n",
       "Croatia           1\n",
       "Scotland          1\n",
       "Name: Nationality, dtype: int64"
      ]
     },
     "execution_count": 46,
     "metadata": {},
     "output_type": "execute_result"
    }
   ],
   "source": [
    "count_nationality"
   ]
  },
  {
   "cell_type": "markdown",
   "id": "791cee7f",
   "metadata": {
    "id": "791cee7f"
   },
   "source": [
    " Bar graph of countries with most tallented players:-"
   ]
  },
  {
   "cell_type": "code",
   "execution_count": 47,
   "id": "b60c911a",
   "metadata": {
    "colab": {
     "base_uri": "https://localhost:8080/",
     "height": 542
    },
    "executionInfo": {
     "elapsed": 1377,
     "status": "ok",
     "timestamp": 1675678023664,
     "user": {
      "displayName": "Amaan Tamboli",
      "userId": "12292215664820239199"
     },
     "user_tz": -330
    },
    "id": "b60c911a",
    "outputId": "cbb99fc7-99ee-43c5-986e-1c5369736def"
   },
   "outputs": [
    {
     "data": {
      "application/vnd.plotly.v1+json": {
       "config": {
        "plotlyServerURL": "https://plot.ly"
       },
       "data": [
        {
         "alignmentgroup": "True",
         "hovertemplate": "Country=%{x}<br>No. of Players=%{y}<br>color=%{marker.color}<extra></extra>",
         "legendgroup": "",
         "marker": {
          "color": [
           9,
           7,
           7,
           6,
           5,
           5,
           5,
           4,
           4,
           2,
           2,
           2,
           2,
           1,
           1,
           1,
           1,
           1,
           1,
           1
          ],
          "coloraxis": "coloraxis",
          "pattern": {
           "shape": ""
          }
         },
         "name": "",
         "offsetgroup": "",
         "orientation": "v",
         "showlegend": false,
         "textposition": "auto",
         "type": "bar",
         "x": [
          "Spain",
          "France",
          "Germany",
          "Brazil",
          "Portugal",
          "England",
          "Italy",
          "Argentina",
          "Belgium",
          "Slovenia",
          "Senegal",
          "Netherlands",
          "Poland",
          "Korea Republic",
          "Egypt",
          "Uruguay",
          "Norway",
          "Costa Rica",
          "Croatia",
          "Scotland"
         ],
         "xaxis": "x",
         "y": [
          9,
          7,
          7,
          6,
          5,
          5,
          5,
          4,
          4,
          2,
          2,
          2,
          2,
          1,
          1,
          1,
          1,
          1,
          1,
          1
         ],
         "yaxis": "y"
        }
       ],
       "layout": {
        "barmode": "relative",
        "coloraxis": {
         "colorbar": {
          "title": {
           "text": "color"
          }
         },
         "colorscale": [
          [
           0,
           "#0d0887"
          ],
          [
           0.1111111111111111,
           "#46039f"
          ],
          [
           0.2222222222222222,
           "#7201a8"
          ],
          [
           0.3333333333333333,
           "#9c179e"
          ],
          [
           0.4444444444444444,
           "#bd3786"
          ],
          [
           0.5555555555555556,
           "#d8576b"
          ],
          [
           0.6666666666666666,
           "#ed7953"
          ],
          [
           0.7777777777777778,
           "#fb9f3a"
          ],
          [
           0.8888888888888888,
           "#fdca26"
          ],
          [
           1,
           "#f0f921"
          ]
         ]
        },
        "legend": {
         "tracegroupgap": 0
        },
        "template": {
         "data": {
          "bar": [
           {
            "error_x": {
             "color": "#2a3f5f"
            },
            "error_y": {
             "color": "#2a3f5f"
            },
            "marker": {
             "line": {
              "color": "#E5ECF6",
              "width": 0.5
             },
             "pattern": {
              "fillmode": "overlay",
              "size": 10,
              "solidity": 0.2
             }
            },
            "type": "bar"
           }
          ],
          "barpolar": [
           {
            "marker": {
             "line": {
              "color": "#E5ECF6",
              "width": 0.5
             },
             "pattern": {
              "fillmode": "overlay",
              "size": 10,
              "solidity": 0.2
             }
            },
            "type": "barpolar"
           }
          ],
          "carpet": [
           {
            "aaxis": {
             "endlinecolor": "#2a3f5f",
             "gridcolor": "white",
             "linecolor": "white",
             "minorgridcolor": "white",
             "startlinecolor": "#2a3f5f"
            },
            "baxis": {
             "endlinecolor": "#2a3f5f",
             "gridcolor": "white",
             "linecolor": "white",
             "minorgridcolor": "white",
             "startlinecolor": "#2a3f5f"
            },
            "type": "carpet"
           }
          ],
          "choropleth": [
           {
            "colorbar": {
             "outlinewidth": 0,
             "ticks": ""
            },
            "type": "choropleth"
           }
          ],
          "contour": [
           {
            "colorbar": {
             "outlinewidth": 0,
             "ticks": ""
            },
            "colorscale": [
             [
              0,
              "#0d0887"
             ],
             [
              0.1111111111111111,
              "#46039f"
             ],
             [
              0.2222222222222222,
              "#7201a8"
             ],
             [
              0.3333333333333333,
              "#9c179e"
             ],
             [
              0.4444444444444444,
              "#bd3786"
             ],
             [
              0.5555555555555556,
              "#d8576b"
             ],
             [
              0.6666666666666666,
              "#ed7953"
             ],
             [
              0.7777777777777778,
              "#fb9f3a"
             ],
             [
              0.8888888888888888,
              "#fdca26"
             ],
             [
              1,
              "#f0f921"
             ]
            ],
            "type": "contour"
           }
          ],
          "contourcarpet": [
           {
            "colorbar": {
             "outlinewidth": 0,
             "ticks": ""
            },
            "type": "contourcarpet"
           }
          ],
          "heatmap": [
           {
            "colorbar": {
             "outlinewidth": 0,
             "ticks": ""
            },
            "colorscale": [
             [
              0,
              "#0d0887"
             ],
             [
              0.1111111111111111,
              "#46039f"
             ],
             [
              0.2222222222222222,
              "#7201a8"
             ],
             [
              0.3333333333333333,
              "#9c179e"
             ],
             [
              0.4444444444444444,
              "#bd3786"
             ],
             [
              0.5555555555555556,
              "#d8576b"
             ],
             [
              0.6666666666666666,
              "#ed7953"
             ],
             [
              0.7777777777777778,
              "#fb9f3a"
             ],
             [
              0.8888888888888888,
              "#fdca26"
             ],
             [
              1,
              "#f0f921"
             ]
            ],
            "type": "heatmap"
           }
          ],
          "heatmapgl": [
           {
            "colorbar": {
             "outlinewidth": 0,
             "ticks": ""
            },
            "colorscale": [
             [
              0,
              "#0d0887"
             ],
             [
              0.1111111111111111,
              "#46039f"
             ],
             [
              0.2222222222222222,
              "#7201a8"
             ],
             [
              0.3333333333333333,
              "#9c179e"
             ],
             [
              0.4444444444444444,
              "#bd3786"
             ],
             [
              0.5555555555555556,
              "#d8576b"
             ],
             [
              0.6666666666666666,
              "#ed7953"
             ],
             [
              0.7777777777777778,
              "#fb9f3a"
             ],
             [
              0.8888888888888888,
              "#fdca26"
             ],
             [
              1,
              "#f0f921"
             ]
            ],
            "type": "heatmapgl"
           }
          ],
          "histogram": [
           {
            "marker": {
             "pattern": {
              "fillmode": "overlay",
              "size": 10,
              "solidity": 0.2
             }
            },
            "type": "histogram"
           }
          ],
          "histogram2d": [
           {
            "colorbar": {
             "outlinewidth": 0,
             "ticks": ""
            },
            "colorscale": [
             [
              0,
              "#0d0887"
             ],
             [
              0.1111111111111111,
              "#46039f"
             ],
             [
              0.2222222222222222,
              "#7201a8"
             ],
             [
              0.3333333333333333,
              "#9c179e"
             ],
             [
              0.4444444444444444,
              "#bd3786"
             ],
             [
              0.5555555555555556,
              "#d8576b"
             ],
             [
              0.6666666666666666,
              "#ed7953"
             ],
             [
              0.7777777777777778,
              "#fb9f3a"
             ],
             [
              0.8888888888888888,
              "#fdca26"
             ],
             [
              1,
              "#f0f921"
             ]
            ],
            "type": "histogram2d"
           }
          ],
          "histogram2dcontour": [
           {
            "colorbar": {
             "outlinewidth": 0,
             "ticks": ""
            },
            "colorscale": [
             [
              0,
              "#0d0887"
             ],
             [
              0.1111111111111111,
              "#46039f"
             ],
             [
              0.2222222222222222,
              "#7201a8"
             ],
             [
              0.3333333333333333,
              "#9c179e"
             ],
             [
              0.4444444444444444,
              "#bd3786"
             ],
             [
              0.5555555555555556,
              "#d8576b"
             ],
             [
              0.6666666666666666,
              "#ed7953"
             ],
             [
              0.7777777777777778,
              "#fb9f3a"
             ],
             [
              0.8888888888888888,
              "#fdca26"
             ],
             [
              1,
              "#f0f921"
             ]
            ],
            "type": "histogram2dcontour"
           }
          ],
          "mesh3d": [
           {
            "colorbar": {
             "outlinewidth": 0,
             "ticks": ""
            },
            "type": "mesh3d"
           }
          ],
          "parcoords": [
           {
            "line": {
             "colorbar": {
              "outlinewidth": 0,
              "ticks": ""
             }
            },
            "type": "parcoords"
           }
          ],
          "pie": [
           {
            "automargin": true,
            "type": "pie"
           }
          ],
          "scatter": [
           {
            "fillpattern": {
             "fillmode": "overlay",
             "size": 10,
             "solidity": 0.2
            },
            "type": "scatter"
           }
          ],
          "scatter3d": [
           {
            "line": {
             "colorbar": {
              "outlinewidth": 0,
              "ticks": ""
             }
            },
            "marker": {
             "colorbar": {
              "outlinewidth": 0,
              "ticks": ""
             }
            },
            "type": "scatter3d"
           }
          ],
          "scattercarpet": [
           {
            "marker": {
             "colorbar": {
              "outlinewidth": 0,
              "ticks": ""
             }
            },
            "type": "scattercarpet"
           }
          ],
          "scattergeo": [
           {
            "marker": {
             "colorbar": {
              "outlinewidth": 0,
              "ticks": ""
             }
            },
            "type": "scattergeo"
           }
          ],
          "scattergl": [
           {
            "marker": {
             "colorbar": {
              "outlinewidth": 0,
              "ticks": ""
             }
            },
            "type": "scattergl"
           }
          ],
          "scattermapbox": [
           {
            "marker": {
             "colorbar": {
              "outlinewidth": 0,
              "ticks": ""
             }
            },
            "type": "scattermapbox"
           }
          ],
          "scatterpolar": [
           {
            "marker": {
             "colorbar": {
              "outlinewidth": 0,
              "ticks": ""
             }
            },
            "type": "scatterpolar"
           }
          ],
          "scatterpolargl": [
           {
            "marker": {
             "colorbar": {
              "outlinewidth": 0,
              "ticks": ""
             }
            },
            "type": "scatterpolargl"
           }
          ],
          "scatterternary": [
           {
            "marker": {
             "colorbar": {
              "outlinewidth": 0,
              "ticks": ""
             }
            },
            "type": "scatterternary"
           }
          ],
          "surface": [
           {
            "colorbar": {
             "outlinewidth": 0,
             "ticks": ""
            },
            "colorscale": [
             [
              0,
              "#0d0887"
             ],
             [
              0.1111111111111111,
              "#46039f"
             ],
             [
              0.2222222222222222,
              "#7201a8"
             ],
             [
              0.3333333333333333,
              "#9c179e"
             ],
             [
              0.4444444444444444,
              "#bd3786"
             ],
             [
              0.5555555555555556,
              "#d8576b"
             ],
             [
              0.6666666666666666,
              "#ed7953"
             ],
             [
              0.7777777777777778,
              "#fb9f3a"
             ],
             [
              0.8888888888888888,
              "#fdca26"
             ],
             [
              1,
              "#f0f921"
             ]
            ],
            "type": "surface"
           }
          ],
          "table": [
           {
            "cells": {
             "fill": {
              "color": "#EBF0F8"
             },
             "line": {
              "color": "white"
             }
            },
            "header": {
             "fill": {
              "color": "#C8D4E3"
             },
             "line": {
              "color": "white"
             }
            },
            "type": "table"
           }
          ]
         },
         "layout": {
          "annotationdefaults": {
           "arrowcolor": "#2a3f5f",
           "arrowhead": 0,
           "arrowwidth": 1
          },
          "autotypenumbers": "strict",
          "coloraxis": {
           "colorbar": {
            "outlinewidth": 0,
            "ticks": ""
           }
          },
          "colorscale": {
           "diverging": [
            [
             0,
             "#8e0152"
            ],
            [
             0.1,
             "#c51b7d"
            ],
            [
             0.2,
             "#de77ae"
            ],
            [
             0.3,
             "#f1b6da"
            ],
            [
             0.4,
             "#fde0ef"
            ],
            [
             0.5,
             "#f7f7f7"
            ],
            [
             0.6,
             "#e6f5d0"
            ],
            [
             0.7,
             "#b8e186"
            ],
            [
             0.8,
             "#7fbc41"
            ],
            [
             0.9,
             "#4d9221"
            ],
            [
             1,
             "#276419"
            ]
           ],
           "sequential": [
            [
             0,
             "#0d0887"
            ],
            [
             0.1111111111111111,
             "#46039f"
            ],
            [
             0.2222222222222222,
             "#7201a8"
            ],
            [
             0.3333333333333333,
             "#9c179e"
            ],
            [
             0.4444444444444444,
             "#bd3786"
            ],
            [
             0.5555555555555556,
             "#d8576b"
            ],
            [
             0.6666666666666666,
             "#ed7953"
            ],
            [
             0.7777777777777778,
             "#fb9f3a"
            ],
            [
             0.8888888888888888,
             "#fdca26"
            ],
            [
             1,
             "#f0f921"
            ]
           ],
           "sequentialminus": [
            [
             0,
             "#0d0887"
            ],
            [
             0.1111111111111111,
             "#46039f"
            ],
            [
             0.2222222222222222,
             "#7201a8"
            ],
            [
             0.3333333333333333,
             "#9c179e"
            ],
            [
             0.4444444444444444,
             "#bd3786"
            ],
            [
             0.5555555555555556,
             "#d8576b"
            ],
            [
             0.6666666666666666,
             "#ed7953"
            ],
            [
             0.7777777777777778,
             "#fb9f3a"
            ],
            [
             0.8888888888888888,
             "#fdca26"
            ],
            [
             1,
             "#f0f921"
            ]
           ]
          },
          "colorway": [
           "#636efa",
           "#EF553B",
           "#00cc96",
           "#ab63fa",
           "#FFA15A",
           "#19d3f3",
           "#FF6692",
           "#B6E880",
           "#FF97FF",
           "#FECB52"
          ],
          "font": {
           "color": "#2a3f5f"
          },
          "geo": {
           "bgcolor": "white",
           "lakecolor": "white",
           "landcolor": "#E5ECF6",
           "showlakes": true,
           "showland": true,
           "subunitcolor": "white"
          },
          "hoverlabel": {
           "align": "left"
          },
          "hovermode": "closest",
          "mapbox": {
           "style": "light"
          },
          "paper_bgcolor": "white",
          "plot_bgcolor": "#E5ECF6",
          "polar": {
           "angularaxis": {
            "gridcolor": "white",
            "linecolor": "white",
            "ticks": ""
           },
           "bgcolor": "#E5ECF6",
           "radialaxis": {
            "gridcolor": "white",
            "linecolor": "white",
            "ticks": ""
           }
          },
          "scene": {
           "xaxis": {
            "backgroundcolor": "#E5ECF6",
            "gridcolor": "white",
            "gridwidth": 2,
            "linecolor": "white",
            "showbackground": true,
            "ticks": "",
            "zerolinecolor": "white"
           },
           "yaxis": {
            "backgroundcolor": "#E5ECF6",
            "gridcolor": "white",
            "gridwidth": 2,
            "linecolor": "white",
            "showbackground": true,
            "ticks": "",
            "zerolinecolor": "white"
           },
           "zaxis": {
            "backgroundcolor": "#E5ECF6",
            "gridcolor": "white",
            "gridwidth": 2,
            "linecolor": "white",
            "showbackground": true,
            "ticks": "",
            "zerolinecolor": "white"
           }
          },
          "shapedefaults": {
           "line": {
            "color": "#2a3f5f"
           }
          },
          "ternary": {
           "aaxis": {
            "gridcolor": "white",
            "linecolor": "white",
            "ticks": ""
           },
           "baxis": {
            "gridcolor": "white",
            "linecolor": "white",
            "ticks": ""
           },
           "bgcolor": "#E5ECF6",
           "caxis": {
            "gridcolor": "white",
            "linecolor": "white",
            "ticks": ""
           }
          },
          "title": {
           "x": 0.05
          },
          "xaxis": {
           "automargin": true,
           "gridcolor": "white",
           "linecolor": "white",
           "ticks": "",
           "title": {
            "standoff": 15
           },
           "zerolinecolor": "white",
           "zerolinewidth": 2
          },
          "yaxis": {
           "automargin": true,
           "gridcolor": "white",
           "linecolor": "white",
           "ticks": "",
           "title": {
            "standoff": 15
           },
           "zerolinecolor": "white",
           "zerolinewidth": 2
          }
         }
        },
        "title": {
         "text": "Tallents in countries"
        },
        "xaxis": {
         "anchor": "y",
         "domain": [
          0,
          1
         ],
         "title": {
          "text": "Country"
         }
        },
        "yaxis": {
         "anchor": "x",
         "domain": [
          0,
          1
         ],
         "title": {
          "text": "No. of Players"
         }
        }
       }
      },
      "text/html": [
       "<div>                            <div id=\"a3b49bb7-7657-41d7-b4e3-c87d05203889\" class=\"plotly-graph-div\" style=\"height:525px; width:100%;\"></div>            <script type=\"text/javascript\">                require([\"plotly\"], function(Plotly) {                    window.PLOTLYENV=window.PLOTLYENV || {};                                    if (document.getElementById(\"a3b49bb7-7657-41d7-b4e3-c87d05203889\")) {                    Plotly.newPlot(                        \"a3b49bb7-7657-41d7-b4e3-c87d05203889\",                        [{\"alignmentgroup\":\"True\",\"hovertemplate\":\"Country=%{x}<br>No. of Players=%{y}<br>color=%{marker.color}<extra></extra>\",\"legendgroup\":\"\",\"marker\":{\"color\":[9,7,7,6,5,5,5,4,4,2,2,2,2,1,1,1,1,1,1,1],\"coloraxis\":\"coloraxis\",\"pattern\":{\"shape\":\"\"}},\"name\":\"\",\"offsetgroup\":\"\",\"orientation\":\"v\",\"showlegend\":false,\"textposition\":\"auto\",\"x\":[\"Spain\",\"France\",\"Germany\",\"Brazil\",\"Portugal\",\"England\",\"Italy\",\"Argentina\",\"Belgium\",\"Slovenia\",\"Senegal\",\"Netherlands\",\"Poland\",\"Korea Republic\",\"Egypt\",\"Uruguay\",\"Norway\",\"Costa Rica\",\"Croatia\",\"Scotland\"],\"xaxis\":\"x\",\"y\":[9,7,7,6,5,5,5,4,4,2,2,2,2,1,1,1,1,1,1,1],\"yaxis\":\"y\",\"type\":\"bar\"}],                        {\"template\":{\"data\":{\"histogram2dcontour\":[{\"type\":\"histogram2dcontour\",\"colorbar\":{\"outlinewidth\":0,\"ticks\":\"\"},\"colorscale\":[[0.0,\"#0d0887\"],[0.1111111111111111,\"#46039f\"],[0.2222222222222222,\"#7201a8\"],[0.3333333333333333,\"#9c179e\"],[0.4444444444444444,\"#bd3786\"],[0.5555555555555556,\"#d8576b\"],[0.6666666666666666,\"#ed7953\"],[0.7777777777777778,\"#fb9f3a\"],[0.8888888888888888,\"#fdca26\"],[1.0,\"#f0f921\"]]}],\"choropleth\":[{\"type\":\"choropleth\",\"colorbar\":{\"outlinewidth\":0,\"ticks\":\"\"}}],\"histogram2d\":[{\"type\":\"histogram2d\",\"colorbar\":{\"outlinewidth\":0,\"ticks\":\"\"},\"colorscale\":[[0.0,\"#0d0887\"],[0.1111111111111111,\"#46039f\"],[0.2222222222222222,\"#7201a8\"],[0.3333333333333333,\"#9c179e\"],[0.4444444444444444,\"#bd3786\"],[0.5555555555555556,\"#d8576b\"],[0.6666666666666666,\"#ed7953\"],[0.7777777777777778,\"#fb9f3a\"],[0.8888888888888888,\"#fdca26\"],[1.0,\"#f0f921\"]]}],\"heatmap\":[{\"type\":\"heatmap\",\"colorbar\":{\"outlinewidth\":0,\"ticks\":\"\"},\"colorscale\":[[0.0,\"#0d0887\"],[0.1111111111111111,\"#46039f\"],[0.2222222222222222,\"#7201a8\"],[0.3333333333333333,\"#9c179e\"],[0.4444444444444444,\"#bd3786\"],[0.5555555555555556,\"#d8576b\"],[0.6666666666666666,\"#ed7953\"],[0.7777777777777778,\"#fb9f3a\"],[0.8888888888888888,\"#fdca26\"],[1.0,\"#f0f921\"]]}],\"heatmapgl\":[{\"type\":\"heatmapgl\",\"colorbar\":{\"outlinewidth\":0,\"ticks\":\"\"},\"colorscale\":[[0.0,\"#0d0887\"],[0.1111111111111111,\"#46039f\"],[0.2222222222222222,\"#7201a8\"],[0.3333333333333333,\"#9c179e\"],[0.4444444444444444,\"#bd3786\"],[0.5555555555555556,\"#d8576b\"],[0.6666666666666666,\"#ed7953\"],[0.7777777777777778,\"#fb9f3a\"],[0.8888888888888888,\"#fdca26\"],[1.0,\"#f0f921\"]]}],\"contourcarpet\":[{\"type\":\"contourcarpet\",\"colorbar\":{\"outlinewidth\":0,\"ticks\":\"\"}}],\"contour\":[{\"type\":\"contour\",\"colorbar\":{\"outlinewidth\":0,\"ticks\":\"\"},\"colorscale\":[[0.0,\"#0d0887\"],[0.1111111111111111,\"#46039f\"],[0.2222222222222222,\"#7201a8\"],[0.3333333333333333,\"#9c179e\"],[0.4444444444444444,\"#bd3786\"],[0.5555555555555556,\"#d8576b\"],[0.6666666666666666,\"#ed7953\"],[0.7777777777777778,\"#fb9f3a\"],[0.8888888888888888,\"#fdca26\"],[1.0,\"#f0f921\"]]}],\"surface\":[{\"type\":\"surface\",\"colorbar\":{\"outlinewidth\":0,\"ticks\":\"\"},\"colorscale\":[[0.0,\"#0d0887\"],[0.1111111111111111,\"#46039f\"],[0.2222222222222222,\"#7201a8\"],[0.3333333333333333,\"#9c179e\"],[0.4444444444444444,\"#bd3786\"],[0.5555555555555556,\"#d8576b\"],[0.6666666666666666,\"#ed7953\"],[0.7777777777777778,\"#fb9f3a\"],[0.8888888888888888,\"#fdca26\"],[1.0,\"#f0f921\"]]}],\"mesh3d\":[{\"type\":\"mesh3d\",\"colorbar\":{\"outlinewidth\":0,\"ticks\":\"\"}}],\"scatter\":[{\"fillpattern\":{\"fillmode\":\"overlay\",\"size\":10,\"solidity\":0.2},\"type\":\"scatter\"}],\"parcoords\":[{\"type\":\"parcoords\",\"line\":{\"colorbar\":{\"outlinewidth\":0,\"ticks\":\"\"}}}],\"scatterpolargl\":[{\"type\":\"scatterpolargl\",\"marker\":{\"colorbar\":{\"outlinewidth\":0,\"ticks\":\"\"}}}],\"bar\":[{\"error_x\":{\"color\":\"#2a3f5f\"},\"error_y\":{\"color\":\"#2a3f5f\"},\"marker\":{\"line\":{\"color\":\"#E5ECF6\",\"width\":0.5},\"pattern\":{\"fillmode\":\"overlay\",\"size\":10,\"solidity\":0.2}},\"type\":\"bar\"}],\"scattergeo\":[{\"type\":\"scattergeo\",\"marker\":{\"colorbar\":{\"outlinewidth\":0,\"ticks\":\"\"}}}],\"scatterpolar\":[{\"type\":\"scatterpolar\",\"marker\":{\"colorbar\":{\"outlinewidth\":0,\"ticks\":\"\"}}}],\"histogram\":[{\"marker\":{\"pattern\":{\"fillmode\":\"overlay\",\"size\":10,\"solidity\":0.2}},\"type\":\"histogram\"}],\"scattergl\":[{\"type\":\"scattergl\",\"marker\":{\"colorbar\":{\"outlinewidth\":0,\"ticks\":\"\"}}}],\"scatter3d\":[{\"type\":\"scatter3d\",\"line\":{\"colorbar\":{\"outlinewidth\":0,\"ticks\":\"\"}},\"marker\":{\"colorbar\":{\"outlinewidth\":0,\"ticks\":\"\"}}}],\"scattermapbox\":[{\"type\":\"scattermapbox\",\"marker\":{\"colorbar\":{\"outlinewidth\":0,\"ticks\":\"\"}}}],\"scatterternary\":[{\"type\":\"scatterternary\",\"marker\":{\"colorbar\":{\"outlinewidth\":0,\"ticks\":\"\"}}}],\"scattercarpet\":[{\"type\":\"scattercarpet\",\"marker\":{\"colorbar\":{\"outlinewidth\":0,\"ticks\":\"\"}}}],\"carpet\":[{\"aaxis\":{\"endlinecolor\":\"#2a3f5f\",\"gridcolor\":\"white\",\"linecolor\":\"white\",\"minorgridcolor\":\"white\",\"startlinecolor\":\"#2a3f5f\"},\"baxis\":{\"endlinecolor\":\"#2a3f5f\",\"gridcolor\":\"white\",\"linecolor\":\"white\",\"minorgridcolor\":\"white\",\"startlinecolor\":\"#2a3f5f\"},\"type\":\"carpet\"}],\"table\":[{\"cells\":{\"fill\":{\"color\":\"#EBF0F8\"},\"line\":{\"color\":\"white\"}},\"header\":{\"fill\":{\"color\":\"#C8D4E3\"},\"line\":{\"color\":\"white\"}},\"type\":\"table\"}],\"barpolar\":[{\"marker\":{\"line\":{\"color\":\"#E5ECF6\",\"width\":0.5},\"pattern\":{\"fillmode\":\"overlay\",\"size\":10,\"solidity\":0.2}},\"type\":\"barpolar\"}],\"pie\":[{\"automargin\":true,\"type\":\"pie\"}]},\"layout\":{\"autotypenumbers\":\"strict\",\"colorway\":[\"#636efa\",\"#EF553B\",\"#00cc96\",\"#ab63fa\",\"#FFA15A\",\"#19d3f3\",\"#FF6692\",\"#B6E880\",\"#FF97FF\",\"#FECB52\"],\"font\":{\"color\":\"#2a3f5f\"},\"hovermode\":\"closest\",\"hoverlabel\":{\"align\":\"left\"},\"paper_bgcolor\":\"white\",\"plot_bgcolor\":\"#E5ECF6\",\"polar\":{\"bgcolor\":\"#E5ECF6\",\"angularaxis\":{\"gridcolor\":\"white\",\"linecolor\":\"white\",\"ticks\":\"\"},\"radialaxis\":{\"gridcolor\":\"white\",\"linecolor\":\"white\",\"ticks\":\"\"}},\"ternary\":{\"bgcolor\":\"#E5ECF6\",\"aaxis\":{\"gridcolor\":\"white\",\"linecolor\":\"white\",\"ticks\":\"\"},\"baxis\":{\"gridcolor\":\"white\",\"linecolor\":\"white\",\"ticks\":\"\"},\"caxis\":{\"gridcolor\":\"white\",\"linecolor\":\"white\",\"ticks\":\"\"}},\"coloraxis\":{\"colorbar\":{\"outlinewidth\":0,\"ticks\":\"\"}},\"colorscale\":{\"sequential\":[[0.0,\"#0d0887\"],[0.1111111111111111,\"#46039f\"],[0.2222222222222222,\"#7201a8\"],[0.3333333333333333,\"#9c179e\"],[0.4444444444444444,\"#bd3786\"],[0.5555555555555556,\"#d8576b\"],[0.6666666666666666,\"#ed7953\"],[0.7777777777777778,\"#fb9f3a\"],[0.8888888888888888,\"#fdca26\"],[1.0,\"#f0f921\"]],\"sequentialminus\":[[0.0,\"#0d0887\"],[0.1111111111111111,\"#46039f\"],[0.2222222222222222,\"#7201a8\"],[0.3333333333333333,\"#9c179e\"],[0.4444444444444444,\"#bd3786\"],[0.5555555555555556,\"#d8576b\"],[0.6666666666666666,\"#ed7953\"],[0.7777777777777778,\"#fb9f3a\"],[0.8888888888888888,\"#fdca26\"],[1.0,\"#f0f921\"]],\"diverging\":[[0,\"#8e0152\"],[0.1,\"#c51b7d\"],[0.2,\"#de77ae\"],[0.3,\"#f1b6da\"],[0.4,\"#fde0ef\"],[0.5,\"#f7f7f7\"],[0.6,\"#e6f5d0\"],[0.7,\"#b8e186\"],[0.8,\"#7fbc41\"],[0.9,\"#4d9221\"],[1,\"#276419\"]]},\"xaxis\":{\"gridcolor\":\"white\",\"linecolor\":\"white\",\"ticks\":\"\",\"title\":{\"standoff\":15},\"zerolinecolor\":\"white\",\"automargin\":true,\"zerolinewidth\":2},\"yaxis\":{\"gridcolor\":\"white\",\"linecolor\":\"white\",\"ticks\":\"\",\"title\":{\"standoff\":15},\"zerolinecolor\":\"white\",\"automargin\":true,\"zerolinewidth\":2},\"scene\":{\"xaxis\":{\"backgroundcolor\":\"#E5ECF6\",\"gridcolor\":\"white\",\"linecolor\":\"white\",\"showbackground\":true,\"ticks\":\"\",\"zerolinecolor\":\"white\",\"gridwidth\":2},\"yaxis\":{\"backgroundcolor\":\"#E5ECF6\",\"gridcolor\":\"white\",\"linecolor\":\"white\",\"showbackground\":true,\"ticks\":\"\",\"zerolinecolor\":\"white\",\"gridwidth\":2},\"zaxis\":{\"backgroundcolor\":\"#E5ECF6\",\"gridcolor\":\"white\",\"linecolor\":\"white\",\"showbackground\":true,\"ticks\":\"\",\"zerolinecolor\":\"white\",\"gridwidth\":2}},\"shapedefaults\":{\"line\":{\"color\":\"#2a3f5f\"}},\"annotationdefaults\":{\"arrowcolor\":\"#2a3f5f\",\"arrowhead\":0,\"arrowwidth\":1},\"geo\":{\"bgcolor\":\"white\",\"landcolor\":\"#E5ECF6\",\"subunitcolor\":\"white\",\"showland\":true,\"showlakes\":true,\"lakecolor\":\"white\"},\"title\":{\"x\":0.05},\"mapbox\":{\"style\":\"light\"}}},\"xaxis\":{\"anchor\":\"y\",\"domain\":[0.0,1.0],\"title\":{\"text\":\"Country\"}},\"yaxis\":{\"anchor\":\"x\",\"domain\":[0.0,1.0],\"title\":{\"text\":\"No. of Players\"}},\"coloraxis\":{\"colorbar\":{\"title\":{\"text\":\"color\"}},\"colorscale\":[[0.0,\"#0d0887\"],[0.1111111111111111,\"#46039f\"],[0.2222222222222222,\"#7201a8\"],[0.3333333333333333,\"#9c179e\"],[0.4444444444444444,\"#bd3786\"],[0.5555555555555556,\"#d8576b\"],[0.6666666666666666,\"#ed7953\"],[0.7777777777777778,\"#fb9f3a\"],[0.8888888888888888,\"#fdca26\"],[1.0,\"#f0f921\"]]},\"legend\":{\"tracegroupgap\":0},\"title\":{\"text\":\"Tallents in countries\"},\"barmode\":\"relative\"},                        {\"responsive\": true}                    ).then(function(){\n",
       "                            \n",
       "var gd = document.getElementById('a3b49bb7-7657-41d7-b4e3-c87d05203889');\n",
       "var x = new MutationObserver(function (mutations, observer) {{\n",
       "        var display = window.getComputedStyle(gd).display;\n",
       "        if (!display || display === 'none') {{\n",
       "            console.log([gd, 'removed!']);\n",
       "            Plotly.purge(gd);\n",
       "            observer.disconnect();\n",
       "        }}\n",
       "}});\n",
       "\n",
       "// Listen for the removal of the full notebook cells\n",
       "var notebookContainer = gd.closest('#notebook-container');\n",
       "if (notebookContainer) {{\n",
       "    x.observe(notebookContainer, {childList: true});\n",
       "}}\n",
       "\n",
       "// Listen for the clearing of the current output cell\n",
       "var outputEl = gd.closest('.output');\n",
       "if (outputEl) {{\n",
       "    x.observe(outputEl, {childList: true});\n",
       "}}\n",
       "\n",
       "                        })                };                });            </script>        </div>"
      ]
     },
     "metadata": {},
     "output_type": "display_data"
    }
   ],
   "source": [
    "fig=px.bar(top_players,\n",
    "       x=count_nationality.index,y=count_nationality.values,\n",
    "       color=count_nationality,\n",
    "       labels={'x': 'Country', 'y':'No. of Players'},\n",
    "       title=\"Tallents in countries\"\n",
    "      )\n",
    "fig.show()"
   ]
  },
  {
   "cell_type": "code",
   "execution_count": 48,
   "id": "088a651a",
   "metadata": {
    "executionInfo": {
     "elapsed": 13,
     "status": "ok",
     "timestamp": 1675678023664,
     "user": {
      "displayName": "Amaan Tamboli",
      "userId": "12292215664820239199"
     },
     "user_tz": -330
    },
    "id": "088a651a"
   },
   "outputs": [],
   "source": [
    "count_clubs=top_players['Club'].value_counts().sort_values(ascending=False)"
   ]
  },
  {
   "cell_type": "code",
   "execution_count": 49,
   "id": "08db2f7c",
   "metadata": {
    "colab": {
     "base_uri": "https://localhost:8080/"
    },
    "executionInfo": {
     "elapsed": 13,
     "status": "ok",
     "timestamp": 1675678023664,
     "user": {
      "displayName": "Amaan Tamboli",
      "userId": "12292215664820239199"
     },
     "user_tz": -330
    },
    "id": "08db2f7c",
    "outputId": "0065f12b-8adf-4903-e69f-13bbe5669398"
   },
   "outputs": [
    {
     "data": {
      "text/plain": [
       "Paris Saint-Germain    9\n",
       "Manchester City        9\n",
       "Liverpool              8\n",
       "FC Bayern München      6\n",
       "Manchester United      5\n",
       "FC Barcelona           5\n",
       "Real Madrid CF         5\n",
       "Tottenham Hotspur      3\n",
       "Juventus               3\n",
       "Atlético de Madrid     3\n",
       "Chelsea                2\n",
       "Borussia Dortmund      2\n",
       "Napoli                 2\n",
       "Inter                  2\n",
       "Villarreal CF          2\n",
       "Lazio                  1\n",
       "VfL Wolfsburg          1\n",
       "Leicester City         1\n",
       "Name: Club, dtype: int64"
      ]
     },
     "execution_count": 49,
     "metadata": {},
     "output_type": "execute_result"
    }
   ],
   "source": [
    "count_clubs"
   ]
  },
  {
   "cell_type": "markdown",
   "id": "2a35f0aa",
   "metadata": {
    "id": "2a35f0aa"
   },
   "source": [
    "Bar graph of clubs with most tallented players:-"
   ]
  },
  {
   "cell_type": "code",
   "execution_count": 50,
   "id": "40e2b2e3",
   "metadata": {
    "colab": {
     "base_uri": "https://localhost:8080/",
     "height": 542
    },
    "executionInfo": {
     "elapsed": 11,
     "status": "ok",
     "timestamp": 1675678023664,
     "user": {
      "displayName": "Amaan Tamboli",
      "userId": "12292215664820239199"
     },
     "user_tz": -330
    },
    "id": "40e2b2e3",
    "outputId": "9f511858-917b-4e2a-db28-6fafbc7845bb"
   },
   "outputs": [
    {
     "data": {
      "application/vnd.plotly.v1+json": {
       "config": {
        "plotlyServerURL": "https://plot.ly"
       },
       "data": [
        {
         "alignmentgroup": "True",
         "hovertemplate": "Clubs=%{x}<br>No. of Players=%{y}<br>color=%{marker.color}<extra></extra>",
         "legendgroup": "",
         "marker": {
          "color": [
           9,
           9,
           8,
           6,
           5,
           5,
           5,
           3,
           3,
           3,
           2,
           2,
           2,
           2,
           2,
           1,
           1,
           1
          ],
          "coloraxis": "coloraxis",
          "pattern": {
           "shape": ""
          }
         },
         "name": "",
         "offsetgroup": "",
         "orientation": "v",
         "showlegend": false,
         "textposition": "auto",
         "type": "bar",
         "x": [
          "Paris Saint-Germain",
          "Manchester City",
          "Liverpool",
          "FC Bayern München",
          "Manchester United",
          "FC Barcelona",
          "Real Madrid CF",
          "Tottenham Hotspur",
          "Juventus",
          "Atlético de Madrid",
          "Chelsea",
          "Borussia Dortmund",
          "Napoli",
          "Inter",
          "Villarreal CF",
          "Lazio",
          "VfL Wolfsburg",
          "Leicester City"
         ],
         "xaxis": "x",
         "y": [
          9,
          9,
          8,
          6,
          5,
          5,
          5,
          3,
          3,
          3,
          2,
          2,
          2,
          2,
          2,
          1,
          1,
          1
         ],
         "yaxis": "y"
        }
       ],
       "layout": {
        "barmode": "relative",
        "coloraxis": {
         "colorbar": {
          "title": {
           "text": "color"
          }
         },
         "colorscale": [
          [
           0,
           "#0d0887"
          ],
          [
           0.1111111111111111,
           "#46039f"
          ],
          [
           0.2222222222222222,
           "#7201a8"
          ],
          [
           0.3333333333333333,
           "#9c179e"
          ],
          [
           0.4444444444444444,
           "#bd3786"
          ],
          [
           0.5555555555555556,
           "#d8576b"
          ],
          [
           0.6666666666666666,
           "#ed7953"
          ],
          [
           0.7777777777777778,
           "#fb9f3a"
          ],
          [
           0.8888888888888888,
           "#fdca26"
          ],
          [
           1,
           "#f0f921"
          ]
         ]
        },
        "legend": {
         "tracegroupgap": 0
        },
        "template": {
         "data": {
          "bar": [
           {
            "error_x": {
             "color": "#2a3f5f"
            },
            "error_y": {
             "color": "#2a3f5f"
            },
            "marker": {
             "line": {
              "color": "#E5ECF6",
              "width": 0.5
             },
             "pattern": {
              "fillmode": "overlay",
              "size": 10,
              "solidity": 0.2
             }
            },
            "type": "bar"
           }
          ],
          "barpolar": [
           {
            "marker": {
             "line": {
              "color": "#E5ECF6",
              "width": 0.5
             },
             "pattern": {
              "fillmode": "overlay",
              "size": 10,
              "solidity": 0.2
             }
            },
            "type": "barpolar"
           }
          ],
          "carpet": [
           {
            "aaxis": {
             "endlinecolor": "#2a3f5f",
             "gridcolor": "white",
             "linecolor": "white",
             "minorgridcolor": "white",
             "startlinecolor": "#2a3f5f"
            },
            "baxis": {
             "endlinecolor": "#2a3f5f",
             "gridcolor": "white",
             "linecolor": "white",
             "minorgridcolor": "white",
             "startlinecolor": "#2a3f5f"
            },
            "type": "carpet"
           }
          ],
          "choropleth": [
           {
            "colorbar": {
             "outlinewidth": 0,
             "ticks": ""
            },
            "type": "choropleth"
           }
          ],
          "contour": [
           {
            "colorbar": {
             "outlinewidth": 0,
             "ticks": ""
            },
            "colorscale": [
             [
              0,
              "#0d0887"
             ],
             [
              0.1111111111111111,
              "#46039f"
             ],
             [
              0.2222222222222222,
              "#7201a8"
             ],
             [
              0.3333333333333333,
              "#9c179e"
             ],
             [
              0.4444444444444444,
              "#bd3786"
             ],
             [
              0.5555555555555556,
              "#d8576b"
             ],
             [
              0.6666666666666666,
              "#ed7953"
             ],
             [
              0.7777777777777778,
              "#fb9f3a"
             ],
             [
              0.8888888888888888,
              "#fdca26"
             ],
             [
              1,
              "#f0f921"
             ]
            ],
            "type": "contour"
           }
          ],
          "contourcarpet": [
           {
            "colorbar": {
             "outlinewidth": 0,
             "ticks": ""
            },
            "type": "contourcarpet"
           }
          ],
          "heatmap": [
           {
            "colorbar": {
             "outlinewidth": 0,
             "ticks": ""
            },
            "colorscale": [
             [
              0,
              "#0d0887"
             ],
             [
              0.1111111111111111,
              "#46039f"
             ],
             [
              0.2222222222222222,
              "#7201a8"
             ],
             [
              0.3333333333333333,
              "#9c179e"
             ],
             [
              0.4444444444444444,
              "#bd3786"
             ],
             [
              0.5555555555555556,
              "#d8576b"
             ],
             [
              0.6666666666666666,
              "#ed7953"
             ],
             [
              0.7777777777777778,
              "#fb9f3a"
             ],
             [
              0.8888888888888888,
              "#fdca26"
             ],
             [
              1,
              "#f0f921"
             ]
            ],
            "type": "heatmap"
           }
          ],
          "heatmapgl": [
           {
            "colorbar": {
             "outlinewidth": 0,
             "ticks": ""
            },
            "colorscale": [
             [
              0,
              "#0d0887"
             ],
             [
              0.1111111111111111,
              "#46039f"
             ],
             [
              0.2222222222222222,
              "#7201a8"
             ],
             [
              0.3333333333333333,
              "#9c179e"
             ],
             [
              0.4444444444444444,
              "#bd3786"
             ],
             [
              0.5555555555555556,
              "#d8576b"
             ],
             [
              0.6666666666666666,
              "#ed7953"
             ],
             [
              0.7777777777777778,
              "#fb9f3a"
             ],
             [
              0.8888888888888888,
              "#fdca26"
             ],
             [
              1,
              "#f0f921"
             ]
            ],
            "type": "heatmapgl"
           }
          ],
          "histogram": [
           {
            "marker": {
             "pattern": {
              "fillmode": "overlay",
              "size": 10,
              "solidity": 0.2
             }
            },
            "type": "histogram"
           }
          ],
          "histogram2d": [
           {
            "colorbar": {
             "outlinewidth": 0,
             "ticks": ""
            },
            "colorscale": [
             [
              0,
              "#0d0887"
             ],
             [
              0.1111111111111111,
              "#46039f"
             ],
             [
              0.2222222222222222,
              "#7201a8"
             ],
             [
              0.3333333333333333,
              "#9c179e"
             ],
             [
              0.4444444444444444,
              "#bd3786"
             ],
             [
              0.5555555555555556,
              "#d8576b"
             ],
             [
              0.6666666666666666,
              "#ed7953"
             ],
             [
              0.7777777777777778,
              "#fb9f3a"
             ],
             [
              0.8888888888888888,
              "#fdca26"
             ],
             [
              1,
              "#f0f921"
             ]
            ],
            "type": "histogram2d"
           }
          ],
          "histogram2dcontour": [
           {
            "colorbar": {
             "outlinewidth": 0,
             "ticks": ""
            },
            "colorscale": [
             [
              0,
              "#0d0887"
             ],
             [
              0.1111111111111111,
              "#46039f"
             ],
             [
              0.2222222222222222,
              "#7201a8"
             ],
             [
              0.3333333333333333,
              "#9c179e"
             ],
             [
              0.4444444444444444,
              "#bd3786"
             ],
             [
              0.5555555555555556,
              "#d8576b"
             ],
             [
              0.6666666666666666,
              "#ed7953"
             ],
             [
              0.7777777777777778,
              "#fb9f3a"
             ],
             [
              0.8888888888888888,
              "#fdca26"
             ],
             [
              1,
              "#f0f921"
             ]
            ],
            "type": "histogram2dcontour"
           }
          ],
          "mesh3d": [
           {
            "colorbar": {
             "outlinewidth": 0,
             "ticks": ""
            },
            "type": "mesh3d"
           }
          ],
          "parcoords": [
           {
            "line": {
             "colorbar": {
              "outlinewidth": 0,
              "ticks": ""
             }
            },
            "type": "parcoords"
           }
          ],
          "pie": [
           {
            "automargin": true,
            "type": "pie"
           }
          ],
          "scatter": [
           {
            "fillpattern": {
             "fillmode": "overlay",
             "size": 10,
             "solidity": 0.2
            },
            "type": "scatter"
           }
          ],
          "scatter3d": [
           {
            "line": {
             "colorbar": {
              "outlinewidth": 0,
              "ticks": ""
             }
            },
            "marker": {
             "colorbar": {
              "outlinewidth": 0,
              "ticks": ""
             }
            },
            "type": "scatter3d"
           }
          ],
          "scattercarpet": [
           {
            "marker": {
             "colorbar": {
              "outlinewidth": 0,
              "ticks": ""
             }
            },
            "type": "scattercarpet"
           }
          ],
          "scattergeo": [
           {
            "marker": {
             "colorbar": {
              "outlinewidth": 0,
              "ticks": ""
             }
            },
            "type": "scattergeo"
           }
          ],
          "scattergl": [
           {
            "marker": {
             "colorbar": {
              "outlinewidth": 0,
              "ticks": ""
             }
            },
            "type": "scattergl"
           }
          ],
          "scattermapbox": [
           {
            "marker": {
             "colorbar": {
              "outlinewidth": 0,
              "ticks": ""
             }
            },
            "type": "scattermapbox"
           }
          ],
          "scatterpolar": [
           {
            "marker": {
             "colorbar": {
              "outlinewidth": 0,
              "ticks": ""
             }
            },
            "type": "scatterpolar"
           }
          ],
          "scatterpolargl": [
           {
            "marker": {
             "colorbar": {
              "outlinewidth": 0,
              "ticks": ""
             }
            },
            "type": "scatterpolargl"
           }
          ],
          "scatterternary": [
           {
            "marker": {
             "colorbar": {
              "outlinewidth": 0,
              "ticks": ""
             }
            },
            "type": "scatterternary"
           }
          ],
          "surface": [
           {
            "colorbar": {
             "outlinewidth": 0,
             "ticks": ""
            },
            "colorscale": [
             [
              0,
              "#0d0887"
             ],
             [
              0.1111111111111111,
              "#46039f"
             ],
             [
              0.2222222222222222,
              "#7201a8"
             ],
             [
              0.3333333333333333,
              "#9c179e"
             ],
             [
              0.4444444444444444,
              "#bd3786"
             ],
             [
              0.5555555555555556,
              "#d8576b"
             ],
             [
              0.6666666666666666,
              "#ed7953"
             ],
             [
              0.7777777777777778,
              "#fb9f3a"
             ],
             [
              0.8888888888888888,
              "#fdca26"
             ],
             [
              1,
              "#f0f921"
             ]
            ],
            "type": "surface"
           }
          ],
          "table": [
           {
            "cells": {
             "fill": {
              "color": "#EBF0F8"
             },
             "line": {
              "color": "white"
             }
            },
            "header": {
             "fill": {
              "color": "#C8D4E3"
             },
             "line": {
              "color": "white"
             }
            },
            "type": "table"
           }
          ]
         },
         "layout": {
          "annotationdefaults": {
           "arrowcolor": "#2a3f5f",
           "arrowhead": 0,
           "arrowwidth": 1
          },
          "autotypenumbers": "strict",
          "coloraxis": {
           "colorbar": {
            "outlinewidth": 0,
            "ticks": ""
           }
          },
          "colorscale": {
           "diverging": [
            [
             0,
             "#8e0152"
            ],
            [
             0.1,
             "#c51b7d"
            ],
            [
             0.2,
             "#de77ae"
            ],
            [
             0.3,
             "#f1b6da"
            ],
            [
             0.4,
             "#fde0ef"
            ],
            [
             0.5,
             "#f7f7f7"
            ],
            [
             0.6,
             "#e6f5d0"
            ],
            [
             0.7,
             "#b8e186"
            ],
            [
             0.8,
             "#7fbc41"
            ],
            [
             0.9,
             "#4d9221"
            ],
            [
             1,
             "#276419"
            ]
           ],
           "sequential": [
            [
             0,
             "#0d0887"
            ],
            [
             0.1111111111111111,
             "#46039f"
            ],
            [
             0.2222222222222222,
             "#7201a8"
            ],
            [
             0.3333333333333333,
             "#9c179e"
            ],
            [
             0.4444444444444444,
             "#bd3786"
            ],
            [
             0.5555555555555556,
             "#d8576b"
            ],
            [
             0.6666666666666666,
             "#ed7953"
            ],
            [
             0.7777777777777778,
             "#fb9f3a"
            ],
            [
             0.8888888888888888,
             "#fdca26"
            ],
            [
             1,
             "#f0f921"
            ]
           ],
           "sequentialminus": [
            [
             0,
             "#0d0887"
            ],
            [
             0.1111111111111111,
             "#46039f"
            ],
            [
             0.2222222222222222,
             "#7201a8"
            ],
            [
             0.3333333333333333,
             "#9c179e"
            ],
            [
             0.4444444444444444,
             "#bd3786"
            ],
            [
             0.5555555555555556,
             "#d8576b"
            ],
            [
             0.6666666666666666,
             "#ed7953"
            ],
            [
             0.7777777777777778,
             "#fb9f3a"
            ],
            [
             0.8888888888888888,
             "#fdca26"
            ],
            [
             1,
             "#f0f921"
            ]
           ]
          },
          "colorway": [
           "#636efa",
           "#EF553B",
           "#00cc96",
           "#ab63fa",
           "#FFA15A",
           "#19d3f3",
           "#FF6692",
           "#B6E880",
           "#FF97FF",
           "#FECB52"
          ],
          "font": {
           "color": "#2a3f5f"
          },
          "geo": {
           "bgcolor": "white",
           "lakecolor": "white",
           "landcolor": "#E5ECF6",
           "showlakes": true,
           "showland": true,
           "subunitcolor": "white"
          },
          "hoverlabel": {
           "align": "left"
          },
          "hovermode": "closest",
          "mapbox": {
           "style": "light"
          },
          "paper_bgcolor": "white",
          "plot_bgcolor": "#E5ECF6",
          "polar": {
           "angularaxis": {
            "gridcolor": "white",
            "linecolor": "white",
            "ticks": ""
           },
           "bgcolor": "#E5ECF6",
           "radialaxis": {
            "gridcolor": "white",
            "linecolor": "white",
            "ticks": ""
           }
          },
          "scene": {
           "xaxis": {
            "backgroundcolor": "#E5ECF6",
            "gridcolor": "white",
            "gridwidth": 2,
            "linecolor": "white",
            "showbackground": true,
            "ticks": "",
            "zerolinecolor": "white"
           },
           "yaxis": {
            "backgroundcolor": "#E5ECF6",
            "gridcolor": "white",
            "gridwidth": 2,
            "linecolor": "white",
            "showbackground": true,
            "ticks": "",
            "zerolinecolor": "white"
           },
           "zaxis": {
            "backgroundcolor": "#E5ECF6",
            "gridcolor": "white",
            "gridwidth": 2,
            "linecolor": "white",
            "showbackground": true,
            "ticks": "",
            "zerolinecolor": "white"
           }
          },
          "shapedefaults": {
           "line": {
            "color": "#2a3f5f"
           }
          },
          "ternary": {
           "aaxis": {
            "gridcolor": "white",
            "linecolor": "white",
            "ticks": ""
           },
           "baxis": {
            "gridcolor": "white",
            "linecolor": "white",
            "ticks": ""
           },
           "bgcolor": "#E5ECF6",
           "caxis": {
            "gridcolor": "white",
            "linecolor": "white",
            "ticks": ""
           }
          },
          "title": {
           "x": 0.05
          },
          "xaxis": {
           "automargin": true,
           "gridcolor": "white",
           "linecolor": "white",
           "ticks": "",
           "title": {
            "standoff": 15
           },
           "zerolinecolor": "white",
           "zerolinewidth": 2
          },
          "yaxis": {
           "automargin": true,
           "gridcolor": "white",
           "linecolor": "white",
           "ticks": "",
           "title": {
            "standoff": 15
           },
           "zerolinecolor": "white",
           "zerolinewidth": 2
          }
         }
        },
        "title": {
         "text": "Tallents in clubs"
        },
        "xaxis": {
         "anchor": "y",
         "domain": [
          0,
          1
         ],
         "title": {
          "text": "Clubs"
         }
        },
        "yaxis": {
         "anchor": "x",
         "domain": [
          0,
          1
         ],
         "title": {
          "text": "No. of Players"
         }
        }
       }
      },
      "text/html": [
       "<div>                            <div id=\"2b2c525b-2b4a-41e1-a6b4-c0dc4550530d\" class=\"plotly-graph-div\" style=\"height:525px; width:100%;\"></div>            <script type=\"text/javascript\">                require([\"plotly\"], function(Plotly) {                    window.PLOTLYENV=window.PLOTLYENV || {};                                    if (document.getElementById(\"2b2c525b-2b4a-41e1-a6b4-c0dc4550530d\")) {                    Plotly.newPlot(                        \"2b2c525b-2b4a-41e1-a6b4-c0dc4550530d\",                        [{\"alignmentgroup\":\"True\",\"hovertemplate\":\"Clubs=%{x}<br>No. of Players=%{y}<br>color=%{marker.color}<extra></extra>\",\"legendgroup\":\"\",\"marker\":{\"color\":[9,9,8,6,5,5,5,3,3,3,2,2,2,2,2,1,1,1],\"coloraxis\":\"coloraxis\",\"pattern\":{\"shape\":\"\"}},\"name\":\"\",\"offsetgroup\":\"\",\"orientation\":\"v\",\"showlegend\":false,\"textposition\":\"auto\",\"x\":[\"Paris Saint-Germain\",\"Manchester City\",\"Liverpool\",\"FC Bayern M\\u00fcnchen\",\"Manchester United\",\"FC Barcelona\",\"Real Madrid CF\",\"Tottenham Hotspur\",\"Juventus\",\"Atl\\u00e9tico de Madrid\",\"Chelsea\",\"Borussia Dortmund\",\"Napoli\",\"Inter\",\"Villarreal CF\",\"Lazio\",\"VfL Wolfsburg\",\"Leicester City\"],\"xaxis\":\"x\",\"y\":[9,9,8,6,5,5,5,3,3,3,2,2,2,2,2,1,1,1],\"yaxis\":\"y\",\"type\":\"bar\"}],                        {\"template\":{\"data\":{\"histogram2dcontour\":[{\"type\":\"histogram2dcontour\",\"colorbar\":{\"outlinewidth\":0,\"ticks\":\"\"},\"colorscale\":[[0.0,\"#0d0887\"],[0.1111111111111111,\"#46039f\"],[0.2222222222222222,\"#7201a8\"],[0.3333333333333333,\"#9c179e\"],[0.4444444444444444,\"#bd3786\"],[0.5555555555555556,\"#d8576b\"],[0.6666666666666666,\"#ed7953\"],[0.7777777777777778,\"#fb9f3a\"],[0.8888888888888888,\"#fdca26\"],[1.0,\"#f0f921\"]]}],\"choropleth\":[{\"type\":\"choropleth\",\"colorbar\":{\"outlinewidth\":0,\"ticks\":\"\"}}],\"histogram2d\":[{\"type\":\"histogram2d\",\"colorbar\":{\"outlinewidth\":0,\"ticks\":\"\"},\"colorscale\":[[0.0,\"#0d0887\"],[0.1111111111111111,\"#46039f\"],[0.2222222222222222,\"#7201a8\"],[0.3333333333333333,\"#9c179e\"],[0.4444444444444444,\"#bd3786\"],[0.5555555555555556,\"#d8576b\"],[0.6666666666666666,\"#ed7953\"],[0.7777777777777778,\"#fb9f3a\"],[0.8888888888888888,\"#fdca26\"],[1.0,\"#f0f921\"]]}],\"heatmap\":[{\"type\":\"heatmap\",\"colorbar\":{\"outlinewidth\":0,\"ticks\":\"\"},\"colorscale\":[[0.0,\"#0d0887\"],[0.1111111111111111,\"#46039f\"],[0.2222222222222222,\"#7201a8\"],[0.3333333333333333,\"#9c179e\"],[0.4444444444444444,\"#bd3786\"],[0.5555555555555556,\"#d8576b\"],[0.6666666666666666,\"#ed7953\"],[0.7777777777777778,\"#fb9f3a\"],[0.8888888888888888,\"#fdca26\"],[1.0,\"#f0f921\"]]}],\"heatmapgl\":[{\"type\":\"heatmapgl\",\"colorbar\":{\"outlinewidth\":0,\"ticks\":\"\"},\"colorscale\":[[0.0,\"#0d0887\"],[0.1111111111111111,\"#46039f\"],[0.2222222222222222,\"#7201a8\"],[0.3333333333333333,\"#9c179e\"],[0.4444444444444444,\"#bd3786\"],[0.5555555555555556,\"#d8576b\"],[0.6666666666666666,\"#ed7953\"],[0.7777777777777778,\"#fb9f3a\"],[0.8888888888888888,\"#fdca26\"],[1.0,\"#f0f921\"]]}],\"contourcarpet\":[{\"type\":\"contourcarpet\",\"colorbar\":{\"outlinewidth\":0,\"ticks\":\"\"}}],\"contour\":[{\"type\":\"contour\",\"colorbar\":{\"outlinewidth\":0,\"ticks\":\"\"},\"colorscale\":[[0.0,\"#0d0887\"],[0.1111111111111111,\"#46039f\"],[0.2222222222222222,\"#7201a8\"],[0.3333333333333333,\"#9c179e\"],[0.4444444444444444,\"#bd3786\"],[0.5555555555555556,\"#d8576b\"],[0.6666666666666666,\"#ed7953\"],[0.7777777777777778,\"#fb9f3a\"],[0.8888888888888888,\"#fdca26\"],[1.0,\"#f0f921\"]]}],\"surface\":[{\"type\":\"surface\",\"colorbar\":{\"outlinewidth\":0,\"ticks\":\"\"},\"colorscale\":[[0.0,\"#0d0887\"],[0.1111111111111111,\"#46039f\"],[0.2222222222222222,\"#7201a8\"],[0.3333333333333333,\"#9c179e\"],[0.4444444444444444,\"#bd3786\"],[0.5555555555555556,\"#d8576b\"],[0.6666666666666666,\"#ed7953\"],[0.7777777777777778,\"#fb9f3a\"],[0.8888888888888888,\"#fdca26\"],[1.0,\"#f0f921\"]]}],\"mesh3d\":[{\"type\":\"mesh3d\",\"colorbar\":{\"outlinewidth\":0,\"ticks\":\"\"}}],\"scatter\":[{\"fillpattern\":{\"fillmode\":\"overlay\",\"size\":10,\"solidity\":0.2},\"type\":\"scatter\"}],\"parcoords\":[{\"type\":\"parcoords\",\"line\":{\"colorbar\":{\"outlinewidth\":0,\"ticks\":\"\"}}}],\"scatterpolargl\":[{\"type\":\"scatterpolargl\",\"marker\":{\"colorbar\":{\"outlinewidth\":0,\"ticks\":\"\"}}}],\"bar\":[{\"error_x\":{\"color\":\"#2a3f5f\"},\"error_y\":{\"color\":\"#2a3f5f\"},\"marker\":{\"line\":{\"color\":\"#E5ECF6\",\"width\":0.5},\"pattern\":{\"fillmode\":\"overlay\",\"size\":10,\"solidity\":0.2}},\"type\":\"bar\"}],\"scattergeo\":[{\"type\":\"scattergeo\",\"marker\":{\"colorbar\":{\"outlinewidth\":0,\"ticks\":\"\"}}}],\"scatterpolar\":[{\"type\":\"scatterpolar\",\"marker\":{\"colorbar\":{\"outlinewidth\":0,\"ticks\":\"\"}}}],\"histogram\":[{\"marker\":{\"pattern\":{\"fillmode\":\"overlay\",\"size\":10,\"solidity\":0.2}},\"type\":\"histogram\"}],\"scattergl\":[{\"type\":\"scattergl\",\"marker\":{\"colorbar\":{\"outlinewidth\":0,\"ticks\":\"\"}}}],\"scatter3d\":[{\"type\":\"scatter3d\",\"line\":{\"colorbar\":{\"outlinewidth\":0,\"ticks\":\"\"}},\"marker\":{\"colorbar\":{\"outlinewidth\":0,\"ticks\":\"\"}}}],\"scattermapbox\":[{\"type\":\"scattermapbox\",\"marker\":{\"colorbar\":{\"outlinewidth\":0,\"ticks\":\"\"}}}],\"scatterternary\":[{\"type\":\"scatterternary\",\"marker\":{\"colorbar\":{\"outlinewidth\":0,\"ticks\":\"\"}}}],\"scattercarpet\":[{\"type\":\"scattercarpet\",\"marker\":{\"colorbar\":{\"outlinewidth\":0,\"ticks\":\"\"}}}],\"carpet\":[{\"aaxis\":{\"endlinecolor\":\"#2a3f5f\",\"gridcolor\":\"white\",\"linecolor\":\"white\",\"minorgridcolor\":\"white\",\"startlinecolor\":\"#2a3f5f\"},\"baxis\":{\"endlinecolor\":\"#2a3f5f\",\"gridcolor\":\"white\",\"linecolor\":\"white\",\"minorgridcolor\":\"white\",\"startlinecolor\":\"#2a3f5f\"},\"type\":\"carpet\"}],\"table\":[{\"cells\":{\"fill\":{\"color\":\"#EBF0F8\"},\"line\":{\"color\":\"white\"}},\"header\":{\"fill\":{\"color\":\"#C8D4E3\"},\"line\":{\"color\":\"white\"}},\"type\":\"table\"}],\"barpolar\":[{\"marker\":{\"line\":{\"color\":\"#E5ECF6\",\"width\":0.5},\"pattern\":{\"fillmode\":\"overlay\",\"size\":10,\"solidity\":0.2}},\"type\":\"barpolar\"}],\"pie\":[{\"automargin\":true,\"type\":\"pie\"}]},\"layout\":{\"autotypenumbers\":\"strict\",\"colorway\":[\"#636efa\",\"#EF553B\",\"#00cc96\",\"#ab63fa\",\"#FFA15A\",\"#19d3f3\",\"#FF6692\",\"#B6E880\",\"#FF97FF\",\"#FECB52\"],\"font\":{\"color\":\"#2a3f5f\"},\"hovermode\":\"closest\",\"hoverlabel\":{\"align\":\"left\"},\"paper_bgcolor\":\"white\",\"plot_bgcolor\":\"#E5ECF6\",\"polar\":{\"bgcolor\":\"#E5ECF6\",\"angularaxis\":{\"gridcolor\":\"white\",\"linecolor\":\"white\",\"ticks\":\"\"},\"radialaxis\":{\"gridcolor\":\"white\",\"linecolor\":\"white\",\"ticks\":\"\"}},\"ternary\":{\"bgcolor\":\"#E5ECF6\",\"aaxis\":{\"gridcolor\":\"white\",\"linecolor\":\"white\",\"ticks\":\"\"},\"baxis\":{\"gridcolor\":\"white\",\"linecolor\":\"white\",\"ticks\":\"\"},\"caxis\":{\"gridcolor\":\"white\",\"linecolor\":\"white\",\"ticks\":\"\"}},\"coloraxis\":{\"colorbar\":{\"outlinewidth\":0,\"ticks\":\"\"}},\"colorscale\":{\"sequential\":[[0.0,\"#0d0887\"],[0.1111111111111111,\"#46039f\"],[0.2222222222222222,\"#7201a8\"],[0.3333333333333333,\"#9c179e\"],[0.4444444444444444,\"#bd3786\"],[0.5555555555555556,\"#d8576b\"],[0.6666666666666666,\"#ed7953\"],[0.7777777777777778,\"#fb9f3a\"],[0.8888888888888888,\"#fdca26\"],[1.0,\"#f0f921\"]],\"sequentialminus\":[[0.0,\"#0d0887\"],[0.1111111111111111,\"#46039f\"],[0.2222222222222222,\"#7201a8\"],[0.3333333333333333,\"#9c179e\"],[0.4444444444444444,\"#bd3786\"],[0.5555555555555556,\"#d8576b\"],[0.6666666666666666,\"#ed7953\"],[0.7777777777777778,\"#fb9f3a\"],[0.8888888888888888,\"#fdca26\"],[1.0,\"#f0f921\"]],\"diverging\":[[0,\"#8e0152\"],[0.1,\"#c51b7d\"],[0.2,\"#de77ae\"],[0.3,\"#f1b6da\"],[0.4,\"#fde0ef\"],[0.5,\"#f7f7f7\"],[0.6,\"#e6f5d0\"],[0.7,\"#b8e186\"],[0.8,\"#7fbc41\"],[0.9,\"#4d9221\"],[1,\"#276419\"]]},\"xaxis\":{\"gridcolor\":\"white\",\"linecolor\":\"white\",\"ticks\":\"\",\"title\":{\"standoff\":15},\"zerolinecolor\":\"white\",\"automargin\":true,\"zerolinewidth\":2},\"yaxis\":{\"gridcolor\":\"white\",\"linecolor\":\"white\",\"ticks\":\"\",\"title\":{\"standoff\":15},\"zerolinecolor\":\"white\",\"automargin\":true,\"zerolinewidth\":2},\"scene\":{\"xaxis\":{\"backgroundcolor\":\"#E5ECF6\",\"gridcolor\":\"white\",\"linecolor\":\"white\",\"showbackground\":true,\"ticks\":\"\",\"zerolinecolor\":\"white\",\"gridwidth\":2},\"yaxis\":{\"backgroundcolor\":\"#E5ECF6\",\"gridcolor\":\"white\",\"linecolor\":\"white\",\"showbackground\":true,\"ticks\":\"\",\"zerolinecolor\":\"white\",\"gridwidth\":2},\"zaxis\":{\"backgroundcolor\":\"#E5ECF6\",\"gridcolor\":\"white\",\"linecolor\":\"white\",\"showbackground\":true,\"ticks\":\"\",\"zerolinecolor\":\"white\",\"gridwidth\":2}},\"shapedefaults\":{\"line\":{\"color\":\"#2a3f5f\"}},\"annotationdefaults\":{\"arrowcolor\":\"#2a3f5f\",\"arrowhead\":0,\"arrowwidth\":1},\"geo\":{\"bgcolor\":\"white\",\"landcolor\":\"#E5ECF6\",\"subunitcolor\":\"white\",\"showland\":true,\"showlakes\":true,\"lakecolor\":\"white\"},\"title\":{\"x\":0.05},\"mapbox\":{\"style\":\"light\"}}},\"xaxis\":{\"anchor\":\"y\",\"domain\":[0.0,1.0],\"title\":{\"text\":\"Clubs\"}},\"yaxis\":{\"anchor\":\"x\",\"domain\":[0.0,1.0],\"title\":{\"text\":\"No. of Players\"}},\"coloraxis\":{\"colorbar\":{\"title\":{\"text\":\"color\"}},\"colorscale\":[[0.0,\"#0d0887\"],[0.1111111111111111,\"#46039f\"],[0.2222222222222222,\"#7201a8\"],[0.3333333333333333,\"#9c179e\"],[0.4444444444444444,\"#bd3786\"],[0.5555555555555556,\"#d8576b\"],[0.6666666666666666,\"#ed7953\"],[0.7777777777777778,\"#fb9f3a\"],[0.8888888888888888,\"#fdca26\"],[1.0,\"#f0f921\"]]},\"legend\":{\"tracegroupgap\":0},\"title\":{\"text\":\"Tallents in clubs\"},\"barmode\":\"relative\"},                        {\"responsive\": true}                    ).then(function(){\n",
       "                            \n",
       "var gd = document.getElementById('2b2c525b-2b4a-41e1-a6b4-c0dc4550530d');\n",
       "var x = new MutationObserver(function (mutations, observer) {{\n",
       "        var display = window.getComputedStyle(gd).display;\n",
       "        if (!display || display === 'none') {{\n",
       "            console.log([gd, 'removed!']);\n",
       "            Plotly.purge(gd);\n",
       "            observer.disconnect();\n",
       "        }}\n",
       "}});\n",
       "\n",
       "// Listen for the removal of the full notebook cells\n",
       "var notebookContainer = gd.closest('#notebook-container');\n",
       "if (notebookContainer) {{\n",
       "    x.observe(notebookContainer, {childList: true});\n",
       "}}\n",
       "\n",
       "// Listen for the clearing of the current output cell\n",
       "var outputEl = gd.closest('.output');\n",
       "if (outputEl) {{\n",
       "    x.observe(outputEl, {childList: true});\n",
       "}}\n",
       "\n",
       "                        })                };                });            </script>        </div>"
      ]
     },
     "metadata": {},
     "output_type": "display_data"
    }
   ],
   "source": [
    "px.bar(top_players,\n",
    "       x=count_clubs.index,y=count_clubs.values,\n",
    "       color=count_clubs,\n",
    "       labels={'x': 'Clubs', 'y':'No. of Players'},\n",
    "       title=\"Tallents in clubs\"\n",
    "      )"
   ]
  },
  {
   "cell_type": "code",
   "execution_count": 51,
   "id": "9c255d6c",
   "metadata": {
    "executionInfo": {
     "elapsed": 11,
     "status": "ok",
     "timestamp": 1675678023665,
     "user": {
      "displayName": "Amaan Tamboli",
      "userId": "12292215664820239199"
     },
     "user_tz": -330
    },
    "id": "9c255d6c"
   },
   "outputs": [],
   "source": [
    "nationality_player_counts=df['Nationality'].value_counts(ascending=False)"
   ]
  },
  {
   "cell_type": "code",
   "execution_count": 52,
   "id": "d88f87bb",
   "metadata": {
    "executionInfo": {
     "elapsed": 11,
     "status": "ok",
     "timestamp": 1675678023665,
     "user": {
      "displayName": "Amaan Tamboli",
      "userId": "12292215664820239199"
     },
     "user_tz": -330
    },
    "id": "d88f87bb"
   },
   "outputs": [],
   "source": [
    "ind=df['Nationality'].value_counts(ascending=False).index\n",
    "val=df['Nationality'].value_counts(ascending=False).values"
   ]
  },
  {
   "cell_type": "code",
   "execution_count": 53,
   "id": "7f981c1e",
   "metadata": {
    "executionInfo": {
     "elapsed": 11,
     "status": "ok",
     "timestamp": 1675678023665,
     "user": {
      "displayName": "Amaan Tamboli",
      "userId": "12292215664820239199"
     },
     "user_tz": -330
    },
    "id": "7f981c1e"
   },
   "outputs": [],
   "source": [
    "dict = {'country': ind, 'no_of_players': val}  \n",
    "nationality_df= pd.DataFrame(dict) "
   ]
  },
  {
   "cell_type": "code",
   "execution_count": 54,
   "id": "da87d5e5",
   "metadata": {
    "colab": {
     "base_uri": "https://localhost:8080/",
     "height": 424
    },
    "executionInfo": {
     "elapsed": 11,
     "status": "ok",
     "timestamp": 1675678023665,
     "user": {
      "displayName": "Amaan Tamboli",
      "userId": "12292215664820239199"
     },
     "user_tz": -330
    },
    "id": "da87d5e5",
    "outputId": "31cbd570-97d1-4b32-c39c-057290440311"
   },
   "outputs": [
    {
     "data": {
      "text/html": [
       "<div>\n",
       "<style scoped>\n",
       "    .dataframe tbody tr th:only-of-type {\n",
       "        vertical-align: middle;\n",
       "    }\n",
       "\n",
       "    .dataframe tbody tr th {\n",
       "        vertical-align: top;\n",
       "    }\n",
       "\n",
       "    .dataframe thead th {\n",
       "        text-align: right;\n",
       "    }\n",
       "</style>\n",
       "<table border=\"1\" class=\"dataframe\">\n",
       "  <thead>\n",
       "    <tr style=\"text-align: right;\">\n",
       "      <th></th>\n",
       "      <th>country</th>\n",
       "      <th>no_of_players</th>\n",
       "    </tr>\n",
       "  </thead>\n",
       "  <tbody>\n",
       "    <tr>\n",
       "      <th>0</th>\n",
       "      <td>England</td>\n",
       "      <td>1718</td>\n",
       "    </tr>\n",
       "    <tr>\n",
       "      <th>1</th>\n",
       "      <td>Germany</td>\n",
       "      <td>1214</td>\n",
       "    </tr>\n",
       "    <tr>\n",
       "      <th>2</th>\n",
       "      <td>Spain</td>\n",
       "      <td>1091</td>\n",
       "    </tr>\n",
       "    <tr>\n",
       "      <th>3</th>\n",
       "      <td>France</td>\n",
       "      <td>987</td>\n",
       "    </tr>\n",
       "    <tr>\n",
       "      <th>4</th>\n",
       "      <td>Argentina</td>\n",
       "      <td>955</td>\n",
       "    </tr>\n",
       "    <tr>\n",
       "      <th>...</th>\n",
       "      <td>...</td>\n",
       "      <td>...</td>\n",
       "    </tr>\n",
       "    <tr>\n",
       "      <th>158</th>\n",
       "      <td>Tanzania</td>\n",
       "      <td>1</td>\n",
       "    </tr>\n",
       "    <tr>\n",
       "      <th>159</th>\n",
       "      <td>Fiji</td>\n",
       "      <td>1</td>\n",
       "    </tr>\n",
       "    <tr>\n",
       "      <th>160</th>\n",
       "      <td>Bermuda</td>\n",
       "      <td>1</td>\n",
       "    </tr>\n",
       "    <tr>\n",
       "      <th>161</th>\n",
       "      <td>Malawi</td>\n",
       "      <td>1</td>\n",
       "    </tr>\n",
       "    <tr>\n",
       "      <th>162</th>\n",
       "      <td>Indonesia</td>\n",
       "      <td>1</td>\n",
       "    </tr>\n",
       "  </tbody>\n",
       "</table>\n",
       "<p>163 rows × 2 columns</p>\n",
       "</div>"
      ],
      "text/plain": [
       "       country  no_of_players\n",
       "0      England           1718\n",
       "1      Germany           1214\n",
       "2        Spain           1091\n",
       "3       France            987\n",
       "4    Argentina            955\n",
       "..         ...            ...\n",
       "158   Tanzania              1\n",
       "159       Fiji              1\n",
       "160    Bermuda              1\n",
       "161     Malawi              1\n",
       "162  Indonesia              1\n",
       "\n",
       "[163 rows x 2 columns]"
      ]
     },
     "execution_count": 54,
     "metadata": {},
     "output_type": "execute_result"
    }
   ],
   "source": [
    "nationality_df"
   ]
  },
  {
   "cell_type": "code",
   "execution_count": 55,
   "id": "81329581",
   "metadata": {
    "colab": {
     "base_uri": "https://localhost:8080/"
    },
    "executionInfo": {
     "elapsed": 10,
     "status": "ok",
     "timestamp": 1675678023665,
     "user": {
      "displayName": "Amaan Tamboli",
      "userId": "12292215664820239199"
     },
     "user_tz": -330
    },
    "id": "81329581",
    "outputId": "dfd4e931-750f-4b8a-cd21-07a22715619a"
   },
   "outputs": [
    {
     "data": {
      "text/plain": [
       "Index(['country', 'no_of_players'], dtype='object')"
      ]
     },
     "execution_count": 55,
     "metadata": {},
     "output_type": "execute_result"
    }
   ],
   "source": [
    "nationality_df.columns"
   ]
  },
  {
   "cell_type": "markdown",
   "id": "8b6a0c58",
   "metadata": {
    "id": "8b6a0c58"
   },
   "source": [
    "Number of players per country:-"
   ]
  },
  {
   "cell_type": "code",
   "execution_count": 56,
   "id": "3a74e6db",
   "metadata": {
    "colab": {
     "base_uri": "https://localhost:8080/",
     "height": 542
    },
    "executionInfo": {
     "elapsed": 887,
     "status": "ok",
     "timestamp": 1675678024545,
     "user": {
      "displayName": "Amaan Tamboli",
      "userId": "12292215664820239199"
     },
     "user_tz": -330
    },
    "id": "3a74e6db",
    "outputId": "5a55763b-5a79-4797-fd0b-234cdb459ba1"
   },
   "outputs": [
    {
     "data": {
      "application/vnd.plotly.v1+json": {
       "config": {
        "plotlyServerURL": "https://plot.ly"
       },
       "data": [
        {
         "geo": "geo",
         "hovertemplate": "country=%{location}<br>no_of_players=%{marker.size}<extra></extra>",
         "legendgroup": "England",
         "locationmode": "country names",
         "locations": [
          "England"
         ],
         "marker": {
          "color": "#636efa",
          "size": [
           1718
          ],
          "sizemode": "area",
          "sizeref": 4.295,
          "symbol": "circle"
         },
         "mode": "markers",
         "name": "England",
         "showlegend": true,
         "type": "scattergeo"
        },
        {
         "geo": "geo",
         "hovertemplate": "country=%{location}<br>no_of_players=%{marker.size}<extra></extra>",
         "legendgroup": "Germany",
         "locationmode": "country names",
         "locations": [
          "Germany"
         ],
         "marker": {
          "color": "#EF553B",
          "size": [
           1214
          ],
          "sizemode": "area",
          "sizeref": 4.295,
          "symbol": "circle"
         },
         "mode": "markers",
         "name": "Germany",
         "showlegend": true,
         "type": "scattergeo"
        },
        {
         "geo": "geo",
         "hovertemplate": "country=%{location}<br>no_of_players=%{marker.size}<extra></extra>",
         "legendgroup": "Spain",
         "locationmode": "country names",
         "locations": [
          "Spain"
         ],
         "marker": {
          "color": "#00cc96",
          "size": [
           1091
          ],
          "sizemode": "area",
          "sizeref": 4.295,
          "symbol": "circle"
         },
         "mode": "markers",
         "name": "Spain",
         "showlegend": true,
         "type": "scattergeo"
        },
        {
         "geo": "geo",
         "hovertemplate": "country=%{location}<br>no_of_players=%{marker.size}<extra></extra>",
         "legendgroup": "France",
         "locationmode": "country names",
         "locations": [
          "France"
         ],
         "marker": {
          "color": "#ab63fa",
          "size": [
           987
          ],
          "sizemode": "area",
          "sizeref": 4.295,
          "symbol": "circle"
         },
         "mode": "markers",
         "name": "France",
         "showlegend": true,
         "type": "scattergeo"
        },
        {
         "geo": "geo",
         "hovertemplate": "country=%{location}<br>no_of_players=%{marker.size}<extra></extra>",
         "legendgroup": "Argentina",
         "locationmode": "country names",
         "locations": [
          "Argentina"
         ],
         "marker": {
          "color": "#FFA15A",
          "size": [
           955
          ],
          "sizemode": "area",
          "sizeref": 4.295,
          "symbol": "circle"
         },
         "mode": "markers",
         "name": "Argentina",
         "showlegend": true,
         "type": "scattergeo"
        },
        {
         "geo": "geo",
         "hovertemplate": "country=%{location}<br>no_of_players=%{marker.size}<extra></extra>",
         "legendgroup": "Brazil",
         "locationmode": "country names",
         "locations": [
          "Brazil"
         ],
         "marker": {
          "color": "#19d3f3",
          "size": [
           913
          ],
          "sizemode": "area",
          "sizeref": 4.295,
          "symbol": "circle"
         },
         "mode": "markers",
         "name": "Brazil",
         "showlegend": true,
         "type": "scattergeo"
        },
        {
         "geo": "geo",
         "hovertemplate": "country=%{location}<br>no_of_players=%{marker.size}<extra></extra>",
         "legendgroup": "Japan",
         "locationmode": "country names",
         "locations": [
          "Japan"
         ],
         "marker": {
          "color": "#FF6692",
          "size": [
           544
          ],
          "sizemode": "area",
          "sizeref": 4.295,
          "symbol": "circle"
         },
         "mode": "markers",
         "name": "Japan",
         "showlegend": true,
         "type": "scattergeo"
        },
        {
         "geo": "geo",
         "hovertemplate": "country=%{location}<br>no_of_players=%{marker.size}<extra></extra>",
         "legendgroup": "Netherlands",
         "locationmode": "country names",
         "locations": [
          "Netherlands"
         ],
         "marker": {
          "color": "#B6E880",
          "size": [
           439
          ],
          "sizemode": "area",
          "sizeref": 4.295,
          "symbol": "circle"
         },
         "mode": "markers",
         "name": "Netherlands",
         "showlegend": true,
         "type": "scattergeo"
        },
        {
         "geo": "geo",
         "hovertemplate": "country=%{location}<br>no_of_players=%{marker.size}<extra></extra>",
         "legendgroup": "United States",
         "locationmode": "country names",
         "locations": [
          "United States"
         ],
         "marker": {
          "color": "#FF97FF",
          "size": [
           411
          ],
          "sizemode": "area",
          "sizeref": 4.295,
          "symbol": "circle"
         },
         "mode": "markers",
         "name": "United States",
         "showlegend": true,
         "type": "scattergeo"
        },
        {
         "geo": "geo",
         "hovertemplate": "country=%{location}<br>no_of_players=%{marker.size}<extra></extra>",
         "legendgroup": "Poland",
         "locationmode": "country names",
         "locations": [
          "Poland"
         ],
         "marker": {
          "color": "#FECB52",
          "size": [
           403
          ],
          "sizemode": "area",
          "sizeref": 4.295,
          "symbol": "circle"
         },
         "mode": "markers",
         "name": "Poland",
         "showlegend": true,
         "type": "scattergeo"
        },
        {
         "geo": "geo",
         "hovertemplate": "country=%{location}<br>no_of_players=%{marker.size}<extra></extra>",
         "legendgroup": "Sweden",
         "locationmode": "country names",
         "locations": [
          "Sweden"
         ],
         "marker": {
          "color": "#636efa",
          "size": [
           387
          ],
          "sizemode": "area",
          "sizeref": 4.295,
          "symbol": "circle"
         },
         "mode": "markers",
         "name": "Sweden",
         "showlegend": true,
         "type": "scattergeo"
        },
        {
         "geo": "geo",
         "hovertemplate": "country=%{location}<br>no_of_players=%{marker.size}<extra></extra>",
         "legendgroup": "Norway",
         "locationmode": "country names",
         "locations": [
          "Norway"
         ],
         "marker": {
          "color": "#EF553B",
          "size": [
           377
          ],
          "sizemode": "area",
          "sizeref": 4.295,
          "symbol": "circle"
         },
         "mode": "markers",
         "name": "Norway",
         "showlegend": true,
         "type": "scattergeo"
        },
        {
         "geo": "geo",
         "hovertemplate": "country=%{location}<br>no_of_players=%{marker.size}<extra></extra>",
         "legendgroup": "Portugal",
         "locationmode": "country names",
         "locations": [
          "Portugal"
         ],
         "marker": {
          "color": "#00cc96",
          "size": [
           377
          ],
          "sizemode": "area",
          "sizeref": 4.295,
          "symbol": "circle"
         },
         "mode": "markers",
         "name": "Portugal",
         "showlegend": true,
         "type": "scattergeo"
        },
        {
         "geo": "geo",
         "hovertemplate": "country=%{location}<br>no_of_players=%{marker.size}<extra></extra>",
         "legendgroup": "China PR",
         "locationmode": "country names",
         "locations": [
          "China PR"
         ],
         "marker": {
          "color": "#ab63fa",
          "size": [
           377
          ],
          "sizemode": "area",
          "sizeref": 4.295,
          "symbol": "circle"
         },
         "mode": "markers",
         "name": "China PR",
         "showlegend": true,
         "type": "scattergeo"
        },
        {
         "geo": "geo",
         "hovertemplate": "country=%{location}<br>no_of_players=%{marker.size}<extra></extra>",
         "legendgroup": "Republic of Ireland",
         "locationmode": "country names",
         "locations": [
          "Republic of Ireland"
         ],
         "marker": {
          "color": "#FFA15A",
          "size": [
           360
          ],
          "sizemode": "area",
          "sizeref": 4.295,
          "symbol": "circle"
         },
         "mode": "markers",
         "name": "Republic of Ireland",
         "showlegend": true,
         "type": "scattergeo"
        },
        {
         "geo": "geo",
         "hovertemplate": "country=%{location}<br>no_of_players=%{marker.size}<extra></extra>",
         "legendgroup": "Mexico",
         "locationmode": "country names",
         "locations": [
          "Mexico"
         ],
         "marker": {
          "color": "#19d3f3",
          "size": [
           355
          ],
          "sizemode": "area",
          "sizeref": 4.295,
          "symbol": "circle"
         },
         "mode": "markers",
         "name": "Mexico",
         "showlegend": true,
         "type": "scattergeo"
        },
        {
         "geo": "geo",
         "hovertemplate": "country=%{location}<br>no_of_players=%{marker.size}<extra></extra>",
         "legendgroup": "Saudi Arabia",
         "locationmode": "country names",
         "locations": [
          "Saudi Arabia"
         ],
         "marker": {
          "color": "#FF6692",
          "size": [
           355
          ],
          "sizemode": "area",
          "sizeref": 4.295,
          "symbol": "circle"
         },
         "mode": "markers",
         "name": "Saudi Arabia",
         "showlegend": true,
         "type": "scattergeo"
        },
        {
         "geo": "geo",
         "hovertemplate": "country=%{location}<br>no_of_players=%{marker.size}<extra></extra>",
         "legendgroup": "Italy",
         "locationmode": "country names",
         "locations": [
          "Italy"
         ],
         "marker": {
          "color": "#B6E880",
          "size": [
           339
          ],
          "sizemode": "area",
          "sizeref": 4.295,
          "symbol": "circle"
         },
         "mode": "markers",
         "name": "Italy",
         "showlegend": true,
         "type": "scattergeo"
        },
        {
         "geo": "geo",
         "hovertemplate": "country=%{location}<br>no_of_players=%{marker.size}<extra></extra>",
         "legendgroup": "Romania",
         "locationmode": "country names",
         "locations": [
          "Romania"
         ],
         "marker": {
          "color": "#FF97FF",
          "size": [
           338
          ],
          "sizemode": "area",
          "sizeref": 4.295,
          "symbol": "circle"
         },
         "mode": "markers",
         "name": "Romania",
         "showlegend": true,
         "type": "scattergeo"
        },
        {
         "geo": "geo",
         "hovertemplate": "country=%{location}<br>no_of_players=%{marker.size}<extra></extra>",
         "legendgroup": "Korea Republic",
         "locationmode": "country names",
         "locations": [
          "Korea Republic"
         ],
         "marker": {
          "color": "#FECB52",
          "size": [
           323
          ],
          "sizemode": "area",
          "sizeref": 4.295,
          "symbol": "circle"
         },
         "mode": "markers",
         "name": "Korea Republic",
         "showlegend": true,
         "type": "scattergeo"
        },
        {
         "geo": "geo",
         "hovertemplate": "country=%{location}<br>no_of_players=%{marker.size}<extra></extra>",
         "legendgroup": "Colombia",
         "locationmode": "country names",
         "locations": [
          "Colombia"
         ],
         "marker": {
          "color": "#636efa",
          "size": [
           322
          ],
          "sizemode": "area",
          "sizeref": 4.295,
          "symbol": "circle"
         },
         "mode": "markers",
         "name": "Colombia",
         "showlegend": true,
         "type": "scattergeo"
        },
        {
         "geo": "geo",
         "hovertemplate": "country=%{location}<br>no_of_players=%{marker.size}<extra></extra>",
         "legendgroup": "Austria",
         "locationmode": "country names",
         "locations": [
          "Austria"
         ],
         "marker": {
          "color": "#EF553B",
          "size": [
           319
          ],
          "sizemode": "area",
          "sizeref": 4.295,
          "symbol": "circle"
         },
         "mode": "markers",
         "name": "Austria",
         "showlegend": true,
         "type": "scattergeo"
        },
        {
         "geo": "geo",
         "hovertemplate": "country=%{location}<br>no_of_players=%{marker.size}<extra></extra>",
         "legendgroup": "Belgium",
         "locationmode": "country names",
         "locations": [
          "Belgium"
         ],
         "marker": {
          "color": "#00cc96",
          "size": [
           313
          ],
          "sizemode": "area",
          "sizeref": 4.295,
          "symbol": "circle"
         },
         "mode": "markers",
         "name": "Belgium",
         "showlegend": true,
         "type": "scattergeo"
        },
        {
         "geo": "geo",
         "hovertemplate": "country=%{location}<br>no_of_players=%{marker.size}<extra></extra>",
         "legendgroup": "Denmark",
         "locationmode": "country names",
         "locations": [
          "Denmark"
         ],
         "marker": {
          "color": "#ab63fa",
          "size": [
           306
          ],
          "sizemode": "area",
          "sizeref": 4.295,
          "symbol": "circle"
         },
         "mode": "markers",
         "name": "Denmark",
         "showlegend": true,
         "type": "scattergeo"
        },
        {
         "geo": "geo",
         "hovertemplate": "country=%{location}<br>no_of_players=%{marker.size}<extra></extra>",
         "legendgroup": "Turkey",
         "locationmode": "country names",
         "locations": [
          "Turkey"
         ],
         "marker": {
          "color": "#FFA15A",
          "size": [
           292
          ],
          "sizemode": "area",
          "sizeref": 4.295,
          "symbol": "circle"
         },
         "mode": "markers",
         "name": "Turkey",
         "showlegend": true,
         "type": "scattergeo"
        },
        {
         "geo": "geo",
         "hovertemplate": "country=%{location}<br>no_of_players=%{marker.size}<extra></extra>",
         "legendgroup": "Scotland",
         "locationmode": "country names",
         "locations": [
          "Scotland"
         ],
         "marker": {
          "color": "#19d3f3",
          "size": [
           289
          ],
          "sizemode": "area",
          "sizeref": 4.295,
          "symbol": "circle"
         },
         "mode": "markers",
         "name": "Scotland",
         "showlegend": true,
         "type": "scattergeo"
        },
        {
         "geo": "geo",
         "hovertemplate": "country=%{location}<br>no_of_players=%{marker.size}<extra></extra>",
         "legendgroup": "Uruguay",
         "locationmode": "country names",
         "locations": [
          "Uruguay"
         ],
         "marker": {
          "color": "#FF6692",
          "size": [
           284
          ],
          "sizemode": "area",
          "sizeref": 4.295,
          "symbol": "circle"
         },
         "mode": "markers",
         "name": "Uruguay",
         "showlegend": true,
         "type": "scattergeo"
        },
        {
         "geo": "geo",
         "hovertemplate": "country=%{location}<br>no_of_players=%{marker.size}<extra></extra>",
         "legendgroup": "Australia",
         "locationmode": "country names",
         "locations": [
          "Australia"
         ],
         "marker": {
          "color": "#B6E880",
          "size": [
           266
          ],
          "sizemode": "area",
          "sizeref": 4.295,
          "symbol": "circle"
         },
         "mode": "markers",
         "name": "Australia",
         "showlegend": true,
         "type": "scattergeo"
        },
        {
         "geo": "geo",
         "hovertemplate": "country=%{location}<br>no_of_players=%{marker.size}<extra></extra>",
         "legendgroup": "India",
         "locationmode": "country names",
         "locations": [
          "India"
         ],
         "marker": {
          "color": "#FF97FF",
          "size": [
           213
          ],
          "sizemode": "area",
          "sizeref": 4.295,
          "symbol": "circle"
         },
         "mode": "markers",
         "name": "India",
         "showlegend": true,
         "type": "scattergeo"
        },
        {
         "geo": "geo",
         "hovertemplate": "country=%{location}<br>no_of_players=%{marker.size}<extra></extra>",
         "legendgroup": "Venezuela",
         "locationmode": "country names",
         "locations": [
          "Venezuela"
         ],
         "marker": {
          "color": "#FECB52",
          "size": [
           211
          ],
          "sizemode": "area",
          "sizeref": 4.295,
          "symbol": "circle"
         },
         "mode": "markers",
         "name": "Venezuela",
         "showlegend": true,
         "type": "scattergeo"
        },
        {
         "geo": "geo",
         "hovertemplate": "country=%{location}<br>no_of_players=%{marker.size}<extra></extra>",
         "legendgroup": "Switzerland",
         "locationmode": "country names",
         "locations": [
          "Switzerland"
         ],
         "marker": {
          "color": "#636efa",
          "size": [
           196
          ],
          "sizemode": "area",
          "sizeref": 4.295,
          "symbol": "circle"
         },
         "mode": "markers",
         "name": "Switzerland",
         "showlegend": true,
         "type": "scattergeo"
        },
        {
         "geo": "geo",
         "hovertemplate": "country=%{location}<br>no_of_players=%{marker.size}<extra></extra>",
         "legendgroup": "Paraguay",
         "locationmode": "country names",
         "locations": [
          "Paraguay"
         ],
         "marker": {
          "color": "#EF553B",
          "size": [
           195
          ],
          "sizemode": "area",
          "sizeref": 4.295,
          "symbol": "circle"
         },
         "mode": "markers",
         "name": "Paraguay",
         "showlegend": true,
         "type": "scattergeo"
        },
        {
         "geo": "geo",
         "hovertemplate": "country=%{location}<br>no_of_players=%{marker.size}<extra></extra>",
         "legendgroup": "Ecuador",
         "locationmode": "country names",
         "locations": [
          "Ecuador"
         ],
         "marker": {
          "color": "#00cc96",
          "size": [
           180
          ],
          "sizemode": "area",
          "sizeref": 4.295,
          "symbol": "circle"
         },
         "mode": "markers",
         "name": "Ecuador",
         "showlegend": true,
         "type": "scattergeo"
        },
        {
         "geo": "geo",
         "hovertemplate": "country=%{location}<br>no_of_players=%{marker.size}<extra></extra>",
         "legendgroup": "Chile",
         "locationmode": "country names",
         "locations": [
          "Chile"
         ],
         "marker": {
          "color": "#ab63fa",
          "size": [
           162
          ],
          "sizemode": "area",
          "sizeref": 4.295,
          "symbol": "circle"
         },
         "mode": "markers",
         "name": "Chile",
         "showlegend": true,
         "type": "scattergeo"
        },
        {
         "geo": "geo",
         "hovertemplate": "country=%{location}<br>no_of_players=%{marker.size}<extra></extra>",
         "legendgroup": "Croatia",
         "locationmode": "country names",
         "locations": [
          "Croatia"
         ],
         "marker": {
          "color": "#FFA15A",
          "size": [
           158
          ],
          "sizemode": "area",
          "sizeref": 4.295,
          "symbol": "circle"
         },
         "mode": "markers",
         "name": "Croatia",
         "showlegend": true,
         "type": "scattergeo"
        },
        {
         "geo": "geo",
         "hovertemplate": "country=%{location}<br>no_of_players=%{marker.size}<extra></extra>",
         "legendgroup": "Peru",
         "locationmode": "country names",
         "locations": [
          "Peru"
         ],
         "marker": {
          "color": "#19d3f3",
          "size": [
           157
          ],
          "sizemode": "area",
          "sizeref": 4.295,
          "symbol": "circle"
         },
         "mode": "markers",
         "name": "Peru",
         "showlegend": true,
         "type": "scattergeo"
        },
        {
         "geo": "geo",
         "hovertemplate": "country=%{location}<br>no_of_players=%{marker.size}<extra></extra>",
         "legendgroup": "Bolivia",
         "locationmode": "country names",
         "locations": [
          "Bolivia"
         ],
         "marker": {
          "color": "#FF6692",
          "size": [
           151
          ],
          "sizemode": "area",
          "sizeref": 4.295,
          "symbol": "circle"
         },
         "mode": "markers",
         "name": "Bolivia",
         "showlegend": true,
         "type": "scattergeo"
        },
        {
         "geo": "geo",
         "hovertemplate": "country=%{location}<br>no_of_players=%{marker.size}<extra></extra>",
         "legendgroup": "Wales",
         "locationmode": "country names",
         "locations": [
          "Wales"
         ],
         "marker": {
          "color": "#B6E880",
          "size": [
           133
          ],
          "sizemode": "area",
          "sizeref": 4.295,
          "symbol": "circle"
         },
         "mode": "markers",
         "name": "Wales",
         "showlegend": true,
         "type": "scattergeo"
        },
        {
         "geo": "geo",
         "hovertemplate": "country=%{location}<br>no_of_players=%{marker.size}<extra></extra>",
         "legendgroup": "Ghana",
         "locationmode": "country names",
         "locations": [
          "Ghana"
         ],
         "marker": {
          "color": "#FF97FF",
          "size": [
           128
          ],
          "sizemode": "area",
          "sizeref": 4.295,
          "symbol": "circle"
         },
         "mode": "markers",
         "name": "Ghana",
         "showlegend": true,
         "type": "scattergeo"
        },
        {
         "geo": "geo",
         "hovertemplate": "country=%{location}<br>no_of_players=%{marker.size}<extra></extra>",
         "legendgroup": "Nigeria",
         "locationmode": "country names",
         "locations": [
          "Nigeria"
         ],
         "marker": {
          "color": "#FECB52",
          "size": [
           128
          ],
          "sizemode": "area",
          "sizeref": 4.295,
          "symbol": "circle"
         },
         "mode": "markers",
         "name": "Nigeria",
         "showlegend": true,
         "type": "scattergeo"
        },
        {
         "geo": "geo",
         "hovertemplate": "country=%{location}<br>no_of_players=%{marker.size}<extra></extra>",
         "legendgroup": "Senegal",
         "locationmode": "country names",
         "locations": [
          "Senegal"
         ],
         "marker": {
          "color": "#636efa",
          "size": [
           127
          ],
          "sizemode": "area",
          "sizeref": 4.295,
          "symbol": "circle"
         },
         "mode": "markers",
         "name": "Senegal",
         "showlegend": true,
         "type": "scattergeo"
        },
        {
         "geo": "geo",
         "hovertemplate": "country=%{location}<br>no_of_players=%{marker.size}<extra></extra>",
         "legendgroup": "Serbia",
         "locationmode": "country names",
         "locations": [
          "Serbia"
         ],
         "marker": {
          "color": "#EF553B",
          "size": [
           127
          ],
          "sizemode": "area",
          "sizeref": 4.295,
          "symbol": "circle"
         },
         "mode": "markers",
         "name": "Serbia",
         "showlegend": true,
         "type": "scattergeo"
        },
        {
         "geo": "geo",
         "hovertemplate": "country=%{location}<br>no_of_players=%{marker.size}<extra></extra>",
         "legendgroup": "Côte d'Ivoire",
         "locationmode": "country names",
         "locations": [
          "Côte d'Ivoire"
         ],
         "marker": {
          "color": "#00cc96",
          "size": [
           111
          ],
          "sizemode": "area",
          "sizeref": 4.295,
          "symbol": "circle"
         },
         "mode": "markers",
         "name": "Côte d'Ivoire",
         "showlegend": true,
         "type": "scattergeo"
        },
        {
         "geo": "geo",
         "hovertemplate": "country=%{location}<br>no_of_players=%{marker.size}<extra></extra>",
         "legendgroup": "Czech Republic",
         "locationmode": "country names",
         "locations": [
          "Czech Republic"
         ],
         "marker": {
          "color": "#ab63fa",
          "size": [
           105
          ],
          "sizemode": "area",
          "sizeref": 4.295,
          "symbol": "circle"
         },
         "mode": "markers",
         "name": "Czech Republic",
         "showlegend": true,
         "type": "scattergeo"
        },
        {
         "geo": "geo",
         "hovertemplate": "country=%{location}<br>no_of_players=%{marker.size}<extra></extra>",
         "legendgroup": "Morocco",
         "locationmode": "country names",
         "locations": [
          "Morocco"
         ],
         "marker": {
          "color": "#FFA15A",
          "size": [
           103
          ],
          "sizemode": "area",
          "sizeref": 4.295,
          "symbol": "circle"
         },
         "mode": "markers",
         "name": "Morocco",
         "showlegend": true,
         "type": "scattergeo"
        },
        {
         "geo": "geo",
         "hovertemplate": "country=%{location}<br>no_of_players=%{marker.size}<extra></extra>",
         "legendgroup": "Greece",
         "locationmode": "country names",
         "locations": [
          "Greece"
         ],
         "marker": {
          "color": "#19d3f3",
          "size": [
           93
          ],
          "sizemode": "area",
          "sizeref": 4.295,
          "symbol": "circle"
         },
         "mode": "markers",
         "name": "Greece",
         "showlegend": true,
         "type": "scattergeo"
        },
        {
         "geo": "geo",
         "hovertemplate": "country=%{location}<br>no_of_players=%{marker.size}<extra></extra>",
         "legendgroup": "Russia",
         "locationmode": "country names",
         "locations": [
          "Russia"
         ],
         "marker": {
          "color": "#FF6692",
          "size": [
           91
          ],
          "sizemode": "area",
          "sizeref": 4.295,
          "symbol": "circle"
         },
         "mode": "markers",
         "name": "Russia",
         "showlegend": true,
         "type": "scattergeo"
        },
        {
         "geo": "geo",
         "hovertemplate": "country=%{location}<br>no_of_players=%{marker.size}<extra></extra>",
         "legendgroup": "Northern Ireland",
         "locationmode": "country names",
         "locations": [
          "Northern Ireland"
         ],
         "marker": {
          "color": "#B6E880",
          "size": [
           77
          ],
          "sizemode": "area",
          "sizeref": 4.295,
          "symbol": "circle"
         },
         "mode": "markers",
         "name": "Northern Ireland",
         "showlegend": true,
         "type": "scattergeo"
        },
        {
         "geo": "geo",
         "hovertemplate": "country=%{location}<br>no_of_players=%{marker.size}<extra></extra>",
         "legendgroup": "Canada",
         "locationmode": "country names",
         "locations": [
          "Canada"
         ],
         "marker": {
          "color": "#FF97FF",
          "size": [
           75
          ],
          "sizemode": "area",
          "sizeref": 4.295,
          "symbol": "circle"
         },
         "mode": "markers",
         "name": "Canada",
         "showlegend": true,
         "type": "scattergeo"
        },
        {
         "geo": "geo",
         "hovertemplate": "country=%{location}<br>no_of_players=%{marker.size}<extra></extra>",
         "legendgroup": "Bosnia and Herzegovina",
         "locationmode": "country names",
         "locations": [
          "Bosnia and Herzegovina"
         ],
         "marker": {
          "color": "#FECB52",
          "size": [
           70
          ],
          "sizemode": "area",
          "sizeref": 4.295,
          "symbol": "circle"
         },
         "mode": "markers",
         "name": "Bosnia and Herzegovina",
         "showlegend": true,
         "type": "scattergeo"
        },
        {
         "geo": "geo",
         "hovertemplate": "country=%{location}<br>no_of_players=%{marker.size}<extra></extra>",
         "legendgroup": "Ukraine",
         "locationmode": "country names",
         "locations": [
          "Ukraine"
         ],
         "marker": {
          "color": "#636efa",
          "size": [
           68
          ],
          "sizemode": "area",
          "sizeref": 4.295,
          "symbol": "circle"
         },
         "mode": "markers",
         "name": "Ukraine",
         "showlegend": true,
         "type": "scattergeo"
        },
        {
         "geo": "geo",
         "hovertemplate": "country=%{location}<br>no_of_players=%{marker.size}<extra></extra>",
         "legendgroup": "Cameroon",
         "locationmode": "country names",
         "locations": [
          "Cameroon"
         ],
         "marker": {
          "color": "#EF553B",
          "size": [
           66
          ],
          "sizemode": "area",
          "sizeref": 4.295,
          "symbol": "circle"
         },
         "mode": "markers",
         "name": "Cameroon",
         "showlegend": true,
         "type": "scattergeo"
        },
        {
         "geo": "geo",
         "hovertemplate": "country=%{location}<br>no_of_players=%{marker.size}<extra></extra>",
         "legendgroup": "Finland",
         "locationmode": "country names",
         "locations": [
          "Finland"
         ],
         "marker": {
          "color": "#00cc96",
          "size": [
           63
          ],
          "sizemode": "area",
          "sizeref": 4.295,
          "symbol": "circle"
         },
         "mode": "markers",
         "name": "Finland",
         "showlegend": true,
         "type": "scattergeo"
        },
        {
         "geo": "geo",
         "hovertemplate": "country=%{location}<br>no_of_players=%{marker.size}<extra></extra>",
         "legendgroup": "South Africa",
         "locationmode": "country names",
         "locations": [
          "South Africa"
         ],
         "marker": {
          "color": "#ab63fa",
          "size": [
           63
          ],
          "sizemode": "area",
          "sizeref": 4.295,
          "symbol": "circle"
         },
         "mode": "markers",
         "name": "South Africa",
         "showlegend": true,
         "type": "scattergeo"
        },
        {
         "geo": "geo",
         "hovertemplate": "country=%{location}<br>no_of_players=%{marker.size}<extra></extra>",
         "legendgroup": "Slovakia",
         "locationmode": "country names",
         "locations": [
          "Slovakia"
         ],
         "marker": {
          "color": "#FFA15A",
          "size": [
           62
          ],
          "sizemode": "area",
          "sizeref": 4.295,
          "symbol": "circle"
         },
         "mode": "markers",
         "name": "Slovakia",
         "showlegend": true,
         "type": "scattergeo"
        },
        {
         "geo": "geo",
         "hovertemplate": "country=%{location}<br>no_of_players=%{marker.size}<extra></extra>",
         "legendgroup": "Mali",
         "locationmode": "country names",
         "locations": [
          "Mali"
         ],
         "marker": {
          "color": "#19d3f3",
          "size": [
           59
          ],
          "sizemode": "area",
          "sizeref": 4.295,
          "symbol": "circle"
         },
         "mode": "markers",
         "name": "Mali",
         "showlegend": true,
         "type": "scattergeo"
        },
        {
         "geo": "geo",
         "hovertemplate": "country=%{location}<br>no_of_players=%{marker.size}<extra></extra>",
         "legendgroup": "Iceland",
         "locationmode": "country names",
         "locations": [
          "Iceland"
         ],
         "marker": {
          "color": "#FF6692",
          "size": [
           58
          ],
          "sizemode": "area",
          "sizeref": 4.295,
          "symbol": "circle"
         },
         "mode": "markers",
         "name": "Iceland",
         "showlegend": true,
         "type": "scattergeo"
        },
        {
         "geo": "geo",
         "hovertemplate": "country=%{location}<br>no_of_players=%{marker.size}<extra></extra>",
         "legendgroup": "Congo DR",
         "locationmode": "country names",
         "locations": [
          "Congo DR"
         ],
         "marker": {
          "color": "#B6E880",
          "size": [
           55
          ],
          "sizemode": "area",
          "sizeref": 4.295,
          "symbol": "circle"
         },
         "mode": "markers",
         "name": "Congo DR",
         "showlegend": true,
         "type": "scattergeo"
        },
        {
         "geo": "geo",
         "hovertemplate": "country=%{location}<br>no_of_players=%{marker.size}<extra></extra>",
         "legendgroup": "Slovenia",
         "locationmode": "country names",
         "locations": [
          "Slovenia"
         ],
         "marker": {
          "color": "#FF97FF",
          "size": [
           54
          ],
          "sizemode": "area",
          "sizeref": 4.295,
          "symbol": "circle"
         },
         "mode": "markers",
         "name": "Slovenia",
         "showlegend": true,
         "type": "scattergeo"
        },
        {
         "geo": "geo",
         "hovertemplate": "country=%{location}<br>no_of_players=%{marker.size}<extra></extra>",
         "legendgroup": "Algeria",
         "locationmode": "country names",
         "locations": [
          "Algeria"
         ],
         "marker": {
          "color": "#FECB52",
          "size": [
           53
          ],
          "sizemode": "area",
          "sizeref": 4.295,
          "symbol": "circle"
         },
         "mode": "markers",
         "name": "Algeria",
         "showlegend": true,
         "type": "scattergeo"
        },
        {
         "geo": "geo",
         "hovertemplate": "country=%{location}<br>no_of_players=%{marker.size}<extra></extra>",
         "legendgroup": "Albania",
         "locationmode": "country names",
         "locations": [
          "Albania"
         ],
         "marker": {
          "color": "#636efa",
          "size": [
           49
          ],
          "sizemode": "area",
          "sizeref": 4.295,
          "symbol": "circle"
         },
         "mode": "markers",
         "name": "Albania",
         "showlegend": true,
         "type": "scattergeo"
        },
        {
         "geo": "geo",
         "hovertemplate": "country=%{location}<br>no_of_players=%{marker.size}<extra></extra>",
         "legendgroup": "Hungary",
         "locationmode": "country names",
         "locations": [
          "Hungary"
         ],
         "marker": {
          "color": "#EF553B",
          "size": [
           48
          ],
          "sizemode": "area",
          "sizeref": 4.295,
          "symbol": "circle"
         },
         "mode": "markers",
         "name": "Hungary",
         "showlegend": true,
         "type": "scattergeo"
        },
        {
         "geo": "geo",
         "hovertemplate": "country=%{location}<br>no_of_players=%{marker.size}<extra></extra>",
         "legendgroup": "Kosovo",
         "locationmode": "country names",
         "locations": [
          "Kosovo"
         ],
         "marker": {
          "color": "#00cc96",
          "size": [
           46
          ],
          "sizemode": "area",
          "sizeref": 4.295,
          "symbol": "circle"
         },
         "mode": "markers",
         "name": "Kosovo",
         "showlegend": true,
         "type": "scattergeo"
        },
        {
         "geo": "geo",
         "hovertemplate": "country=%{location}<br>no_of_players=%{marker.size}<extra></extra>",
         "legendgroup": "New Zealand",
         "locationmode": "country names",
         "locations": [
          "New Zealand"
         ],
         "marker": {
          "color": "#ab63fa",
          "size": [
           43
          ],
          "sizemode": "area",
          "sizeref": 4.295,
          "symbol": "circle"
         },
         "mode": "markers",
         "name": "New Zealand",
         "showlegend": true,
         "type": "scattergeo"
        },
        {
         "geo": "geo",
         "hovertemplate": "country=%{location}<br>no_of_players=%{marker.size}<extra></extra>",
         "legendgroup": "Jamaica",
         "locationmode": "country names",
         "locations": [
          "Jamaica"
         ],
         "marker": {
          "color": "#FFA15A",
          "size": [
           37
          ],
          "sizemode": "area",
          "sizeref": 4.295,
          "symbol": "circle"
         },
         "mode": "markers",
         "name": "Jamaica",
         "showlegend": true,
         "type": "scattergeo"
        },
        {
         "geo": "geo",
         "hovertemplate": "country=%{location}<br>no_of_players=%{marker.size}<extra></extra>",
         "legendgroup": "Guinea",
         "locationmode": "country names",
         "locations": [
          "Guinea"
         ],
         "marker": {
          "color": "#19d3f3",
          "size": [
           33
          ],
          "sizemode": "area",
          "sizeref": 4.295,
          "symbol": "circle"
         },
         "mode": "markers",
         "name": "Guinea",
         "showlegend": true,
         "type": "scattergeo"
        },
        {
         "geo": "geo",
         "hovertemplate": "country=%{location}<br>no_of_players=%{marker.size}<extra></extra>",
         "legendgroup": "Tunisia",
         "locationmode": "country names",
         "locations": [
          "Tunisia"
         ],
         "marker": {
          "color": "#FF6692",
          "size": [
           32
          ],
          "sizemode": "area",
          "sizeref": 4.295,
          "symbol": "circle"
         },
         "mode": "markers",
         "name": "Tunisia",
         "showlegend": true,
         "type": "scattergeo"
        },
        {
         "geo": "geo",
         "hovertemplate": "country=%{location}<br>no_of_players=%{marker.size}<extra></extra>",
         "legendgroup": "Gambia",
         "locationmode": "country names",
         "locations": [
          "Gambia"
         ],
         "marker": {
          "color": "#B6E880",
          "size": [
           27
          ],
          "sizemode": "area",
          "sizeref": 4.295,
          "symbol": "circle"
         },
         "mode": "markers",
         "name": "Gambia",
         "showlegend": true,
         "type": "scattergeo"
        },
        {
         "geo": "geo",
         "hovertemplate": "country=%{location}<br>no_of_players=%{marker.size}<extra></extra>",
         "legendgroup": "Georgia",
         "locationmode": "country names",
         "locations": [
          "Georgia"
         ],
         "marker": {
          "color": "#FF97FF",
          "size": [
           26
          ],
          "sizemode": "area",
          "sizeref": 4.295,
          "symbol": "circle"
         },
         "mode": "markers",
         "name": "Georgia",
         "showlegend": true,
         "type": "scattergeo"
        },
        {
         "geo": "geo",
         "hovertemplate": "country=%{location}<br>no_of_players=%{marker.size}<extra></extra>",
         "legendgroup": "North Macedonia",
         "locationmode": "country names",
         "locations": [
          "North Macedonia"
         ],
         "marker": {
          "color": "#FECB52",
          "size": [
           26
          ],
          "sizemode": "area",
          "sizeref": 4.295,
          "symbol": "circle"
         },
         "mode": "markers",
         "name": "North Macedonia",
         "showlegend": true,
         "type": "scattergeo"
        },
        {
         "geo": "geo",
         "hovertemplate": "country=%{location}<br>no_of_players=%{marker.size}<extra></extra>",
         "legendgroup": "Bulgaria",
         "locationmode": "country names",
         "locations": [
          "Bulgaria"
         ],
         "marker": {
          "color": "#636efa",
          "size": [
           25
          ],
          "sizemode": "area",
          "sizeref": 4.295,
          "symbol": "circle"
         },
         "mode": "markers",
         "name": "Bulgaria",
         "showlegend": true,
         "type": "scattergeo"
        },
        {
         "geo": "geo",
         "hovertemplate": "country=%{location}<br>no_of_players=%{marker.size}<extra></extra>",
         "legendgroup": "United Arab Emirates",
         "locationmode": "country names",
         "locations": [
          "United Arab Emirates"
         ],
         "marker": {
          "color": "#EF553B",
          "size": [
           24
          ],
          "sizemode": "area",
          "sizeref": 4.295,
          "symbol": "circle"
         },
         "mode": "markers",
         "name": "United Arab Emirates",
         "showlegend": true,
         "type": "scattergeo"
        },
        {
         "geo": "geo",
         "hovertemplate": "country=%{location}<br>no_of_players=%{marker.size}<extra></extra>",
         "legendgroup": "Guinea Bissau",
         "locationmode": "country names",
         "locations": [
          "Guinea Bissau"
         ],
         "marker": {
          "color": "#00cc96",
          "size": [
           23
          ],
          "sizemode": "area",
          "sizeref": 4.295,
          "symbol": "circle"
         },
         "mode": "markers",
         "name": "Guinea Bissau",
         "showlegend": true,
         "type": "scattergeo"
        },
        {
         "geo": "geo",
         "hovertemplate": "country=%{location}<br>no_of_players=%{marker.size}<extra></extra>",
         "legendgroup": "Cyprus",
         "locationmode": "country names",
         "locations": [
          "Cyprus"
         ],
         "marker": {
          "color": "#ab63fa",
          "size": [
           23
          ],
          "sizemode": "area",
          "sizeref": 4.295,
          "symbol": "circle"
         },
         "mode": "markers",
         "name": "Cyprus",
         "showlegend": true,
         "type": "scattergeo"
        },
        {
         "geo": "geo",
         "hovertemplate": "country=%{location}<br>no_of_players=%{marker.size}<extra></extra>",
         "legendgroup": "Costa Rica",
         "locationmode": "country names",
         "locations": [
          "Costa Rica"
         ],
         "marker": {
          "color": "#FFA15A",
          "size": [
           23
          ],
          "sizemode": "area",
          "sizeref": 4.295,
          "symbol": "circle"
         },
         "mode": "markers",
         "name": "Costa Rica",
         "showlegend": true,
         "type": "scattergeo"
        },
        {
         "geo": "geo",
         "hovertemplate": "country=%{location}<br>no_of_players=%{marker.size}<extra></extra>",
         "legendgroup": "Montenegro",
         "locationmode": "country names",
         "locations": [
          "Montenegro"
         ],
         "marker": {
          "color": "#19d3f3",
          "size": [
           23
          ],
          "sizemode": "area",
          "sizeref": 4.295,
          "symbol": "circle"
         },
         "mode": "markers",
         "name": "Montenegro",
         "showlegend": true,
         "type": "scattergeo"
        },
        {
         "geo": "geo",
         "hovertemplate": "country=%{location}<br>no_of_players=%{marker.size}<extra></extra>",
         "legendgroup": "Israel",
         "locationmode": "country names",
         "locations": [
          "Israel"
         ],
         "marker": {
          "color": "#FF6692",
          "size": [
           23
          ],
          "sizemode": "area",
          "sizeref": 4.295,
          "symbol": "circle"
         },
         "mode": "markers",
         "name": "Israel",
         "showlegend": true,
         "type": "scattergeo"
        },
        {
         "geo": "geo",
         "hovertemplate": "country=%{location}<br>no_of_players=%{marker.size}<extra></extra>",
         "legendgroup": "Cape Verde Islands",
         "locationmode": "country names",
         "locations": [
          "Cape Verde Islands"
         ],
         "marker": {
          "color": "#B6E880",
          "size": [
           22
          ],
          "sizemode": "area",
          "sizeref": 4.295,
          "symbol": "circle"
         },
         "mode": "markers",
         "name": "Cape Verde Islands",
         "showlegend": true,
         "type": "scattergeo"
        },
        {
         "geo": "geo",
         "hovertemplate": "country=%{location}<br>no_of_players=%{marker.size}<extra></extra>",
         "legendgroup": "Iran",
         "locationmode": "country names",
         "locations": [
          "Iran"
         ],
         "marker": {
          "color": "#FF97FF",
          "size": [
           21
          ],
          "sizemode": "area",
          "sizeref": 4.295,
          "symbol": "circle"
         },
         "mode": "markers",
         "name": "Iran",
         "showlegend": true,
         "type": "scattergeo"
        },
        {
         "geo": "geo",
         "hovertemplate": "country=%{location}<br>no_of_players=%{marker.size}<extra></extra>",
         "legendgroup": "Angola",
         "locationmode": "country names",
         "locations": [
          "Angola"
         ],
         "marker": {
          "color": "#FECB52",
          "size": [
           17
          ],
          "sizemode": "area",
          "sizeref": 4.295,
          "symbol": "circle"
         },
         "mode": "markers",
         "name": "Angola",
         "showlegend": true,
         "type": "scattergeo"
        },
        {
         "geo": "geo",
         "hovertemplate": "country=%{location}<br>no_of_players=%{marker.size}<extra></extra>",
         "legendgroup": "Luxembourg",
         "locationmode": "country names",
         "locations": [
          "Luxembourg"
         ],
         "marker": {
          "color": "#636efa",
          "size": [
           16
          ],
          "sizemode": "area",
          "sizeref": 4.295,
          "symbol": "circle"
         },
         "mode": "markers",
         "name": "Luxembourg",
         "showlegend": true,
         "type": "scattergeo"
        },
        {
         "geo": "geo",
         "hovertemplate": "country=%{location}<br>no_of_players=%{marker.size}<extra></extra>",
         "legendgroup": "Panama",
         "locationmode": "country names",
         "locations": [
          "Panama"
         ],
         "marker": {
          "color": "#EF553B",
          "size": [
           16
          ],
          "sizemode": "area",
          "sizeref": 4.295,
          "symbol": "circle"
         },
         "mode": "markers",
         "name": "Panama",
         "showlegend": true,
         "type": "scattergeo"
        },
        {
         "geo": "geo",
         "hovertemplate": "country=%{location}<br>no_of_players=%{marker.size}<extra></extra>",
         "legendgroup": "Burkina Faso",
         "locationmode": "country names",
         "locations": [
          "Burkina Faso"
         ],
         "marker": {
          "color": "#00cc96",
          "size": [
           16
          ],
          "sizemode": "area",
          "sizeref": 4.295,
          "symbol": "circle"
         },
         "mode": "markers",
         "name": "Burkina Faso",
         "showlegend": true,
         "type": "scattergeo"
        },
        {
         "geo": "geo",
         "hovertemplate": "country=%{location}<br>no_of_players=%{marker.size}<extra></extra>",
         "legendgroup": "Congo",
         "locationmode": "country names",
         "locations": [
          "Congo"
         ],
         "marker": {
          "color": "#ab63fa",
          "size": [
           15
          ],
          "sizemode": "area",
          "sizeref": 4.295,
          "symbol": "circle"
         },
         "mode": "markers",
         "name": "Congo",
         "showlegend": true,
         "type": "scattergeo"
        },
        {
         "geo": "geo",
         "hovertemplate": "country=%{location}<br>no_of_players=%{marker.size}<extra></extra>",
         "legendgroup": "Gabon",
         "locationmode": "country names",
         "locations": [
          "Gabon"
         ],
         "marker": {
          "color": "#FFA15A",
          "size": [
           12
          ],
          "sizemode": "area",
          "sizeref": 4.295,
          "symbol": "circle"
         },
         "mode": "markers",
         "name": "Gabon",
         "showlegend": true,
         "type": "scattergeo"
        },
        {
         "geo": "geo",
         "hovertemplate": "country=%{location}<br>no_of_players=%{marker.size}<extra></extra>",
         "legendgroup": "Togo",
         "locationmode": "country names",
         "locations": [
          "Togo"
         ],
         "marker": {
          "color": "#19d3f3",
          "size": [
           12
          ],
          "sizemode": "area",
          "sizeref": 4.295,
          "symbol": "circle"
         },
         "mode": "markers",
         "name": "Togo",
         "showlegend": true,
         "type": "scattergeo"
        },
        {
         "geo": "geo",
         "hovertemplate": "country=%{location}<br>no_of_players=%{marker.size}<extra></extra>",
         "legendgroup": "Suriname",
         "locationmode": "country names",
         "locations": [
          "Suriname"
         ],
         "marker": {
          "color": "#FF6692",
          "size": [
           12
          ],
          "sizemode": "area",
          "sizeref": 4.295,
          "symbol": "circle"
         },
         "mode": "markers",
         "name": "Suriname",
         "showlegend": true,
         "type": "scattergeo"
        },
        {
         "geo": "geo",
         "hovertemplate": "country=%{location}<br>no_of_players=%{marker.size}<extra></extra>",
         "legendgroup": "Honduras",
         "locationmode": "country names",
         "locations": [
          "Honduras"
         ],
         "marker": {
          "color": "#B6E880",
          "size": [
           12
          ],
          "sizemode": "area",
          "sizeref": 4.295,
          "symbol": "circle"
         },
         "mode": "markers",
         "name": "Honduras",
         "showlegend": true,
         "type": "scattergeo"
        },
        {
         "geo": "geo",
         "hovertemplate": "country=%{location}<br>no_of_players=%{marker.size}<extra></extra>",
         "legendgroup": "Zimbabwe",
         "locationmode": "country names",
         "locations": [
          "Zimbabwe"
         ],
         "marker": {
          "color": "#FF97FF",
          "size": [
           12
          ],
          "sizemode": "area",
          "sizeref": 4.295,
          "symbol": "circle"
         },
         "mode": "markers",
         "name": "Zimbabwe",
         "showlegend": true,
         "type": "scattergeo"
        },
        {
         "geo": "geo",
         "hovertemplate": "country=%{location}<br>no_of_players=%{marker.size}<extra></extra>",
         "legendgroup": "Curacao",
         "locationmode": "country names",
         "locations": [
          "Curacao"
         ],
         "marker": {
          "color": "#FECB52",
          "size": [
           11
          ],
          "sizemode": "area",
          "sizeref": 4.295,
          "symbol": "circle"
         },
         "mode": "markers",
         "name": "Curacao",
         "showlegend": true,
         "type": "scattergeo"
        },
        {
         "geo": "geo",
         "hovertemplate": "country=%{location}<br>no_of_players=%{marker.size}<extra></extra>",
         "legendgroup": "Egypt",
         "locationmode": "country names",
         "locations": [
          "Egypt"
         ],
         "marker": {
          "color": "#636efa",
          "size": [
           11
          ],
          "sizemode": "area",
          "sizeref": 4.295,
          "symbol": "circle"
         },
         "mode": "markers",
         "name": "Egypt",
         "showlegend": true,
         "type": "scattergeo"
        },
        {
         "geo": "geo",
         "hovertemplate": "country=%{location}<br>no_of_players=%{marker.size}<extra></extra>",
         "legendgroup": "Zambia",
         "locationmode": "country names",
         "locations": [
          "Zambia"
         ],
         "marker": {
          "color": "#EF553B",
          "size": [
           10
          ],
          "sizemode": "area",
          "sizeref": 4.295,
          "symbol": "circle"
         },
         "mode": "markers",
         "name": "Zambia",
         "showlegend": true,
         "type": "scattergeo"
        },
        {
         "geo": "geo",
         "hovertemplate": "country=%{location}<br>no_of_players=%{marker.size}<extra></extra>",
         "legendgroup": "Sierra Leone",
         "locationmode": "country names",
         "locations": [
          "Sierra Leone"
         ],
         "marker": {
          "color": "#00cc96",
          "size": [
           10
          ],
          "sizemode": "area",
          "sizeref": 4.295,
          "symbol": "circle"
         },
         "mode": "markers",
         "name": "Sierra Leone",
         "showlegend": true,
         "type": "scattergeo"
        },
        {
         "geo": "geo",
         "hovertemplate": "country=%{location}<br>no_of_players=%{marker.size}<extra></extra>",
         "legendgroup": "Benin",
         "locationmode": "country names",
         "locations": [
          "Benin"
         ],
         "marker": {
          "color": "#ab63fa",
          "size": [
           10
          ],
          "sizemode": "area",
          "sizeref": 4.295,
          "symbol": "circle"
         },
         "mode": "markers",
         "name": "Benin",
         "showlegend": true,
         "type": "scattergeo"
        },
        {
         "geo": "geo",
         "hovertemplate": "country=%{location}<br>no_of_players=%{marker.size}<extra></extra>",
         "legendgroup": "Haiti",
         "locationmode": "country names",
         "locations": [
          "Haiti"
         ],
         "marker": {
          "color": "#FFA15A",
          "size": [
           10
          ],
          "sizemode": "area",
          "sizeref": 4.295,
          "symbol": "circle"
         },
         "mode": "markers",
         "name": "Haiti",
         "showlegend": true,
         "type": "scattergeo"
        },
        {
         "geo": "geo",
         "hovertemplate": "country=%{location}<br>no_of_players=%{marker.size}<extra></extra>",
         "legendgroup": "Burundi",
         "locationmode": "country names",
         "locations": [
          "Burundi"
         ],
         "marker": {
          "color": "#19d3f3",
          "size": [
           9
          ],
          "sizemode": "area",
          "sizeref": 4.295,
          "symbol": "circle"
         },
         "mode": "markers",
         "name": "Burundi",
         "showlegend": true,
         "type": "scattergeo"
        },
        {
         "geo": "geo",
         "hovertemplate": "country=%{location}<br>no_of_players=%{marker.size}<extra></extra>",
         "legendgroup": "Madagascar",
         "locationmode": "country names",
         "locations": [
          "Madagascar"
         ],
         "marker": {
          "color": "#FF6692",
          "size": [
           8
          ],
          "sizemode": "area",
          "sizeref": 4.295,
          "symbol": "circle"
         },
         "mode": "markers",
         "name": "Madagascar",
         "showlegend": true,
         "type": "scattergeo"
        },
        {
         "geo": "geo",
         "hovertemplate": "country=%{location}<br>no_of_players=%{marker.size}<extra></extra>",
         "legendgroup": "Azerbaijan",
         "locationmode": "country names",
         "locations": [
          "Azerbaijan"
         ],
         "marker": {
          "color": "#B6E880",
          "size": [
           8
          ],
          "sizemode": "area",
          "sizeref": 4.295,
          "symbol": "circle"
         },
         "mode": "markers",
         "name": "Azerbaijan",
         "showlegend": true,
         "type": "scattergeo"
        },
        {
         "geo": "geo",
         "hovertemplate": "country=%{location}<br>no_of_players=%{marker.size}<extra></extra>",
         "legendgroup": "Lithuania",
         "locationmode": "country names",
         "locations": [
          "Lithuania"
         ],
         "marker": {
          "color": "#FF97FF",
          "size": [
           8
          ],
          "sizemode": "area",
          "sizeref": 4.295,
          "symbol": "circle"
         },
         "mode": "markers",
         "name": "Lithuania",
         "showlegend": true,
         "type": "scattergeo"
        },
        {
         "geo": "geo",
         "hovertemplate": "country=%{location}<br>no_of_players=%{marker.size}<extra></extra>",
         "legendgroup": "Comoros",
         "locationmode": "country names",
         "locations": [
          "Comoros"
         ],
         "marker": {
          "color": "#FECB52",
          "size": [
           8
          ],
          "sizemode": "area",
          "sizeref": 4.295,
          "symbol": "circle"
         },
         "mode": "markers",
         "name": "Comoros",
         "showlegend": true,
         "type": "scattergeo"
        },
        {
         "geo": "geo",
         "hovertemplate": "country=%{location}<br>no_of_players=%{marker.size}<extra></extra>",
         "legendgroup": "Uganda",
         "locationmode": "country names",
         "locations": [
          "Uganda"
         ],
         "marker": {
          "color": "#636efa",
          "size": [
           8
          ],
          "sizemode": "area",
          "sizeref": 4.295,
          "symbol": "circle"
         },
         "mode": "markers",
         "name": "Uganda",
         "showlegend": true,
         "type": "scattergeo"
        },
        {
         "geo": "geo",
         "hovertemplate": "country=%{location}<br>no_of_players=%{marker.size}<extra></extra>",
         "legendgroup": "Moldova",
         "locationmode": "country names",
         "locations": [
          "Moldova"
         ],
         "marker": {
          "color": "#EF553B",
          "size": [
           8
          ],
          "sizemode": "area",
          "sizeref": 4.295,
          "symbol": "circle"
         },
         "mode": "markers",
         "name": "Moldova",
         "showlegend": true,
         "type": "scattergeo"
        },
        {
         "geo": "geo",
         "hovertemplate": "country=%{location}<br>no_of_players=%{marker.size}<extra></extra>",
         "legendgroup": "Kenya",
         "locationmode": "country names",
         "locations": [
          "Kenya"
         ],
         "marker": {
          "color": "#00cc96",
          "size": [
           7
          ],
          "sizemode": "area",
          "sizeref": 4.295,
          "symbol": "circle"
         },
         "mode": "markers",
         "name": "Kenya",
         "showlegend": true,
         "type": "scattergeo"
        },
        {
         "geo": "geo",
         "hovertemplate": "country=%{location}<br>no_of_players=%{marker.size}<extra></extra>",
         "legendgroup": "Trinidad and Tobago",
         "locationmode": "country names",
         "locations": [
          "Trinidad and Tobago"
         ],
         "marker": {
          "color": "#ab63fa",
          "size": [
           7
          ],
          "sizemode": "area",
          "sizeref": 4.295,
          "symbol": "circle"
         },
         "mode": "markers",
         "name": "Trinidad and Tobago",
         "showlegend": true,
         "type": "scattergeo"
        },
        {
         "geo": "geo",
         "hovertemplate": "country=%{location}<br>no_of_players=%{marker.size}<extra></extra>",
         "legendgroup": "Armenia",
         "locationmode": "country names",
         "locations": [
          "Armenia"
         ],
         "marker": {
          "color": "#FFA15A",
          "size": [
           7
          ],
          "sizemode": "area",
          "sizeref": 4.295,
          "symbol": "circle"
         },
         "mode": "markers",
         "name": "Armenia",
         "showlegend": true,
         "type": "scattergeo"
        },
        {
         "geo": "geo",
         "hovertemplate": "country=%{location}<br>no_of_players=%{marker.size}<extra></extra>",
         "legendgroup": "Latvia",
         "locationmode": "country names",
         "locations": [
          "Latvia"
         ],
         "marker": {
          "color": "#19d3f3",
          "size": [
           7
          ],
          "sizemode": "area",
          "sizeref": 4.295,
          "symbol": "circle"
         },
         "mode": "markers",
         "name": "Latvia",
         "showlegend": true,
         "type": "scattergeo"
        },
        {
         "geo": "geo",
         "hovertemplate": "country=%{location}<br>no_of_players=%{marker.size}<extra></extra>",
         "legendgroup": "Guyana",
         "locationmode": "country names",
         "locations": [
          "Guyana"
         ],
         "marker": {
          "color": "#FF6692",
          "size": [
           7
          ],
          "sizemode": "area",
          "sizeref": 4.295,
          "symbol": "circle"
         },
         "mode": "markers",
         "name": "Guyana",
         "showlegend": true,
         "type": "scattergeo"
        },
        {
         "geo": "geo",
         "hovertemplate": "country=%{location}<br>no_of_players=%{marker.size}<extra></extra>",
         "legendgroup": "Philippines",
         "locationmode": "country names",
         "locations": [
          "Philippines"
         ],
         "marker": {
          "color": "#B6E880",
          "size": [
           6
          ],
          "sizemode": "area",
          "sizeref": 4.295,
          "symbol": "circle"
         },
         "mode": "markers",
         "name": "Philippines",
         "showlegend": true,
         "type": "scattergeo"
        },
        {
         "geo": "geo",
         "hovertemplate": "country=%{location}<br>no_of_players=%{marker.size}<extra></extra>",
         "legendgroup": "Thailand",
         "locationmode": "country names",
         "locations": [
          "Thailand"
         ],
         "marker": {
          "color": "#FF97FF",
          "size": [
           6
          ],
          "sizemode": "area",
          "sizeref": 4.295,
          "symbol": "circle"
         },
         "mode": "markers",
         "name": "Thailand",
         "showlegend": true,
         "type": "scattergeo"
        },
        {
         "geo": "geo",
         "hovertemplate": "country=%{location}<br>no_of_players=%{marker.size}<extra></extra>",
         "legendgroup": "Liberia",
         "locationmode": "country names",
         "locations": [
          "Liberia"
         ],
         "marker": {
          "color": "#FECB52",
          "size": [
           6
          ],
          "sizemode": "area",
          "sizeref": 4.295,
          "symbol": "circle"
         },
         "mode": "markers",
         "name": "Liberia",
         "showlegend": true,
         "type": "scattergeo"
        },
        {
         "geo": "geo",
         "hovertemplate": "country=%{location}<br>no_of_players=%{marker.size}<extra></extra>",
         "legendgroup": "Grenada",
         "locationmode": "country names",
         "locations": [
          "Grenada"
         ],
         "marker": {
          "color": "#636efa",
          "size": [
           6
          ],
          "sizemode": "area",
          "sizeref": 4.295,
          "symbol": "circle"
         },
         "mode": "markers",
         "name": "Grenada",
         "showlegend": true,
         "type": "scattergeo"
        },
        {
         "geo": "geo",
         "hovertemplate": "country=%{location}<br>no_of_players=%{marker.size}<extra></extra>",
         "legendgroup": "Uzbekistan",
         "locationmode": "country names",
         "locations": [
          "Uzbekistan"
         ],
         "marker": {
          "color": "#EF553B",
          "size": [
           6
          ],
          "sizemode": "area",
          "sizeref": 4.295,
          "symbol": "circle"
         },
         "mode": "markers",
         "name": "Uzbekistan",
         "showlegend": true,
         "type": "scattergeo"
        },
        {
         "geo": "geo",
         "hovertemplate": "country=%{location}<br>no_of_players=%{marker.size}<extra></extra>",
         "legendgroup": "Saint Kitts and Nevis",
         "locationmode": "country names",
         "locations": [
          "Saint Kitts and Nevis"
         ],
         "marker": {
          "color": "#00cc96",
          "size": [
           5
          ],
          "sizemode": "area",
          "sizeref": 4.295,
          "symbol": "circle"
         },
         "mode": "markers",
         "name": "Saint Kitts and Nevis",
         "showlegend": true,
         "type": "scattergeo"
        },
        {
         "geo": "geo",
         "hovertemplate": "country=%{location}<br>no_of_players=%{marker.size}<extra></extra>",
         "legendgroup": "South Sudan",
         "locationmode": "country names",
         "locations": [
          "South Sudan"
         ],
         "marker": {
          "color": "#ab63fa",
          "size": [
           5
          ],
          "sizemode": "area",
          "sizeref": 4.295,
          "symbol": "circle"
         },
         "mode": "markers",
         "name": "South Sudan",
         "showlegend": true,
         "type": "scattergeo"
        },
        {
         "geo": "geo",
         "hovertemplate": "country=%{location}<br>no_of_players=%{marker.size}<extra></extra>",
         "legendgroup": "Montserrat",
         "locationmode": "country names",
         "locations": [
          "Montserrat"
         ],
         "marker": {
          "color": "#FFA15A",
          "size": [
           5
          ],
          "sizemode": "area",
          "sizeref": 4.295,
          "symbol": "circle"
         },
         "mode": "markers",
         "name": "Montserrat",
         "showlegend": true,
         "type": "scattergeo"
        },
        {
         "geo": "geo",
         "hovertemplate": "country=%{location}<br>no_of_players=%{marker.size}<extra></extra>",
         "legendgroup": "El Salvador",
         "locationmode": "country names",
         "locations": [
          "El Salvador"
         ],
         "marker": {
          "color": "#19d3f3",
          "size": [
           4
          ],
          "sizemode": "area",
          "sizeref": 4.295,
          "symbol": "circle"
         },
         "mode": "markers",
         "name": "El Salvador",
         "showlegend": true,
         "type": "scattergeo"
        },
        {
         "geo": "geo",
         "hovertemplate": "country=%{location}<br>no_of_players=%{marker.size}<extra></extra>",
         "legendgroup": "Mauritania",
         "locationmode": "country names",
         "locations": [
          "Mauritania"
         ],
         "marker": {
          "color": "#FF6692",
          "size": [
           4
          ],
          "sizemode": "area",
          "sizeref": 4.295,
          "symbol": "circle"
         },
         "mode": "markers",
         "name": "Mauritania",
         "showlegend": true,
         "type": "scattergeo"
        },
        {
         "geo": "geo",
         "hovertemplate": "country=%{location}<br>no_of_players=%{marker.size}<extra></extra>",
         "legendgroup": "Iraq",
         "locationmode": "country names",
         "locations": [
          "Iraq"
         ],
         "marker": {
          "color": "#B6E880",
          "size": [
           4
          ],
          "sizemode": "area",
          "sizeref": 4.295,
          "symbol": "circle"
         },
         "mode": "markers",
         "name": "Iraq",
         "showlegend": true,
         "type": "scattergeo"
        },
        {
         "geo": "geo",
         "hovertemplate": "country=%{location}<br>no_of_players=%{marker.size}<extra></extra>",
         "legendgroup": "Belarus",
         "locationmode": "country names",
         "locations": [
          "Belarus"
         ],
         "marker": {
          "color": "#FF97FF",
          "size": [
           4
          ],
          "sizemode": "area",
          "sizeref": 4.295,
          "symbol": "circle"
         },
         "mode": "markers",
         "name": "Belarus",
         "showlegend": true,
         "type": "scattergeo"
        },
        {
         "geo": "geo",
         "hovertemplate": "country=%{location}<br>no_of_players=%{marker.size}<extra></extra>",
         "legendgroup": "Dominican Republic",
         "locationmode": "country names",
         "locations": [
          "Dominican Republic"
         ],
         "marker": {
          "color": "#FECB52",
          "size": [
           4
          ],
          "sizemode": "area",
          "sizeref": 4.295,
          "symbol": "circle"
         },
         "mode": "markers",
         "name": "Dominican Republic",
         "showlegend": true,
         "type": "scattergeo"
        },
        {
         "geo": "geo",
         "hovertemplate": "country=%{location}<br>no_of_players=%{marker.size}<extra></extra>",
         "legendgroup": "Mozambique",
         "locationmode": "country names",
         "locations": [
          "Mozambique"
         ],
         "marker": {
          "color": "#636efa",
          "size": [
           4
          ],
          "sizemode": "area",
          "sizeref": 4.295,
          "symbol": "circle"
         },
         "mode": "markers",
         "name": "Mozambique",
         "showlegend": true,
         "type": "scattergeo"
        },
        {
         "geo": "geo",
         "hovertemplate": "country=%{location}<br>no_of_players=%{marker.size}<extra></extra>",
         "legendgroup": "Equatorial Guinea",
         "locationmode": "country names",
         "locations": [
          "Equatorial Guinea"
         ],
         "marker": {
          "color": "#EF553B",
          "size": [
           4
          ],
          "sizemode": "area",
          "sizeref": 4.295,
          "symbol": "circle"
         },
         "mode": "markers",
         "name": "Equatorial Guinea",
         "showlegend": true,
         "type": "scattergeo"
        },
        {
         "geo": "geo",
         "hovertemplate": "country=%{location}<br>no_of_players=%{marker.size}<extra></extra>",
         "legendgroup": "Kazakhstan",
         "locationmode": "country names",
         "locations": [
          "Kazakhstan"
         ],
         "marker": {
          "color": "#00cc96",
          "size": [
           3
          ],
          "sizemode": "area",
          "sizeref": 4.295,
          "symbol": "circle"
         },
         "mode": "markers",
         "name": "Kazakhstan",
         "showlegend": true,
         "type": "scattergeo"
        },
        {
         "geo": "geo",
         "hovertemplate": "country=%{location}<br>no_of_players=%{marker.size}<extra></extra>",
         "legendgroup": "Faroe Islands",
         "locationmode": "country names",
         "locations": [
          "Faroe Islands"
         ],
         "marker": {
          "color": "#ab63fa",
          "size": [
           3
          ],
          "sizemode": "area",
          "sizeref": 4.295,
          "symbol": "circle"
         },
         "mode": "markers",
         "name": "Faroe Islands",
         "showlegend": true,
         "type": "scattergeo"
        },
        {
         "geo": "geo",
         "hovertemplate": "country=%{location}<br>no_of_players=%{marker.size}<extra></extra>",
         "legendgroup": "Antigua and Barbuda",
         "locationmode": "country names",
         "locations": [
          "Antigua and Barbuda"
         ],
         "marker": {
          "color": "#FFA15A",
          "size": [
           3
          ],
          "sizemode": "area",
          "sizeref": 4.295,
          "symbol": "circle"
         },
         "mode": "markers",
         "name": "Antigua and Barbuda",
         "showlegend": true,
         "type": "scattergeo"
        },
        {
         "geo": "geo",
         "hovertemplate": "country=%{location}<br>no_of_players=%{marker.size}<extra></extra>",
         "legendgroup": "Central African Republic",
         "locationmode": "country names",
         "locations": [
          "Central African Republic"
         ],
         "marker": {
          "color": "#19d3f3",
          "size": [
           3
          ],
          "sizemode": "area",
          "sizeref": 4.295,
          "symbol": "circle"
         },
         "mode": "markers",
         "name": "Central African Republic",
         "showlegend": true,
         "type": "scattergeo"
        },
        {
         "geo": "geo",
         "hovertemplate": "country=%{location}<br>no_of_players=%{marker.size}<extra></extra>",
         "legendgroup": "Malta",
         "locationmode": "country names",
         "locations": [
          "Malta"
         ],
         "marker": {
          "color": "#FF6692",
          "size": [
           3
          ],
          "sizemode": "area",
          "sizeref": 4.295,
          "symbol": "circle"
         },
         "mode": "markers",
         "name": "Malta",
         "showlegend": true,
         "type": "scattergeo"
        },
        {
         "geo": "geo",
         "hovertemplate": "country=%{location}<br>no_of_players=%{marker.size}<extra></extra>",
         "legendgroup": "Jordan",
         "locationmode": "country names",
         "locations": [
          "Jordan"
         ],
         "marker": {
          "color": "#B6E880",
          "size": [
           3
          ],
          "sizemode": "area",
          "sizeref": 4.295,
          "symbol": "circle"
         },
         "mode": "markers",
         "name": "Jordan",
         "showlegend": true,
         "type": "scattergeo"
        },
        {
         "geo": "geo",
         "hovertemplate": "country=%{location}<br>no_of_players=%{marker.size}<extra></extra>",
         "legendgroup": "Namibia",
         "locationmode": "country names",
         "locations": [
          "Namibia"
         ],
         "marker": {
          "color": "#FF97FF",
          "size": [
           3
          ],
          "sizemode": "area",
          "sizeref": 4.295,
          "symbol": "circle"
         },
         "mode": "markers",
         "name": "Namibia",
         "showlegend": true,
         "type": "scattergeo"
        },
        {
         "geo": "geo",
         "hovertemplate": "country=%{location}<br>no_of_players=%{marker.size}<extra></extra>",
         "legendgroup": "Cuba",
         "locationmode": "country names",
         "locations": [
          "Cuba"
         ],
         "marker": {
          "color": "#FECB52",
          "size": [
           3
          ],
          "sizemode": "area",
          "sizeref": 4.295,
          "symbol": "circle"
         },
         "mode": "markers",
         "name": "Cuba",
         "showlegend": true,
         "type": "scattergeo"
        },
        {
         "geo": "geo",
         "hovertemplate": "country=%{location}<br>no_of_players=%{marker.size}<extra></extra>",
         "legendgroup": "Libya",
         "locationmode": "country names",
         "locations": [
          "Libya"
         ],
         "marker": {
          "color": "#636efa",
          "size": [
           3
          ],
          "sizemode": "area",
          "sizeref": 4.295,
          "symbol": "circle"
         },
         "mode": "markers",
         "name": "Libya",
         "showlegend": true,
         "type": "scattergeo"
        },
        {
         "geo": "geo",
         "hovertemplate": "country=%{location}<br>no_of_players=%{marker.size}<extra></extra>",
         "legendgroup": "Niger",
         "locationmode": "country names",
         "locations": [
          "Niger"
         ],
         "marker": {
          "color": "#EF553B",
          "size": [
           3
          ],
          "sizemode": "area",
          "sizeref": 4.295,
          "symbol": "circle"
         },
         "mode": "markers",
         "name": "Niger",
         "showlegend": true,
         "type": "scattergeo"
        },
        {
         "geo": "geo",
         "hovertemplate": "country=%{location}<br>no_of_players=%{marker.size}<extra></extra>",
         "legendgroup": "Sudan",
         "locationmode": "country names",
         "locations": [
          "Sudan"
         ],
         "marker": {
          "color": "#00cc96",
          "size": [
           3
          ],
          "sizemode": "area",
          "sizeref": 4.295,
          "symbol": "circle"
         },
         "mode": "markers",
         "name": "Sudan",
         "showlegend": true,
         "type": "scattergeo"
        },
        {
         "geo": "geo",
         "hovertemplate": "country=%{location}<br>no_of_players=%{marker.size}<extra></extra>",
         "legendgroup": "Lebanon",
         "locationmode": "country names",
         "locations": [
          "Lebanon"
         ],
         "marker": {
          "color": "#ab63fa",
          "size": [
           2
          ],
          "sizemode": "area",
          "sizeref": 4.295,
          "symbol": "circle"
         },
         "mode": "markers",
         "name": "Lebanon",
         "showlegend": true,
         "type": "scattergeo"
        },
        {
         "geo": "geo",
         "hovertemplate": "country=%{location}<br>no_of_players=%{marker.size}<extra></extra>",
         "legendgroup": "Palestine",
         "locationmode": "country names",
         "locations": [
          "Palestine"
         ],
         "marker": {
          "color": "#FFA15A",
          "size": [
           2
          ],
          "sizemode": "area",
          "sizeref": 4.295,
          "symbol": "circle"
         },
         "mode": "markers",
         "name": "Palestine",
         "showlegend": true,
         "type": "scattergeo"
        },
        {
         "geo": "geo",
         "hovertemplate": "country=%{location}<br>no_of_players=%{marker.size}<extra></extra>",
         "legendgroup": "Guatemala",
         "locationmode": "country names",
         "locations": [
          "Guatemala"
         ],
         "marker": {
          "color": "#19d3f3",
          "size": [
           2
          ],
          "sizemode": "area",
          "sizeref": 4.295,
          "symbol": "circle"
         },
         "mode": "markers",
         "name": "Guatemala",
         "showlegend": true,
         "type": "scattergeo"
        },
        {
         "geo": "geo",
         "hovertemplate": "country=%{location}<br>no_of_players=%{marker.size}<extra></extra>",
         "legendgroup": "Puerto Rico",
         "locationmode": "country names",
         "locations": [
          "Puerto Rico"
         ],
         "marker": {
          "color": "#FF6692",
          "size": [
           2
          ],
          "sizemode": "area",
          "sizeref": 4.295,
          "symbol": "circle"
         },
         "mode": "markers",
         "name": "Puerto Rico",
         "showlegend": true,
         "type": "scattergeo"
        },
        {
         "geo": "geo",
         "hovertemplate": "country=%{location}<br>no_of_players=%{marker.size}<extra></extra>",
         "legendgroup": "Syria",
         "locationmode": "country names",
         "locations": [
          "Syria"
         ],
         "marker": {
          "color": "#B6E880",
          "size": [
           2
          ],
          "sizemode": "area",
          "sizeref": 4.295,
          "symbol": "circle"
         },
         "mode": "markers",
         "name": "Syria",
         "showlegend": true,
         "type": "scattergeo"
        },
        {
         "geo": "geo",
         "hovertemplate": "country=%{location}<br>no_of_players=%{marker.size}<extra></extra>",
         "legendgroup": "Malaysia",
         "locationmode": "country names",
         "locations": [
          "Malaysia"
         ],
         "marker": {
          "color": "#FF97FF",
          "size": [
           2
          ],
          "sizemode": "area",
          "sizeref": 4.295,
          "symbol": "circle"
         },
         "mode": "markers",
         "name": "Malaysia",
         "showlegend": true,
         "type": "scattergeo"
        },
        {
         "geo": "geo",
         "hovertemplate": "country=%{location}<br>no_of_players=%{marker.size}<extra></extra>",
         "legendgroup": "Chad",
         "locationmode": "country names",
         "locations": [
          "Chad"
         ],
         "marker": {
          "color": "#FECB52",
          "size": [
           2
          ],
          "sizemode": "area",
          "sizeref": 4.295,
          "symbol": "circle"
         },
         "mode": "markers",
         "name": "Chad",
         "showlegend": true,
         "type": "scattergeo"
        },
        {
         "geo": "geo",
         "hovertemplate": "country=%{location}<br>no_of_players=%{marker.size}<extra></extra>",
         "legendgroup": "Estonia",
         "locationmode": "country names",
         "locations": [
          "Estonia"
         ],
         "marker": {
          "color": "#636efa",
          "size": [
           2
          ],
          "sizemode": "area",
          "sizeref": 4.295,
          "symbol": "circle"
         },
         "mode": "markers",
         "name": "Estonia",
         "showlegend": true,
         "type": "scattergeo"
        },
        {
         "geo": "geo",
         "hovertemplate": "country=%{location}<br>no_of_players=%{marker.size}<extra></extra>",
         "legendgroup": "Hong Kong",
         "locationmode": "country names",
         "locations": [
          "Hong Kong"
         ],
         "marker": {
          "color": "#EF553B",
          "size": [
           2
          ],
          "sizemode": "area",
          "sizeref": 4.295,
          "symbol": "circle"
         },
         "mode": "markers",
         "name": "Hong Kong",
         "showlegend": true,
         "type": "scattergeo"
        },
        {
         "geo": "geo",
         "hovertemplate": "country=%{location}<br>no_of_players=%{marker.size}<extra></extra>",
         "legendgroup": "Chinese Taipei",
         "locationmode": "country names",
         "locations": [
          "Chinese Taipei"
         ],
         "marker": {
          "color": "#00cc96",
          "size": [
           2
          ],
          "sizemode": "area",
          "sizeref": 4.295,
          "symbol": "circle"
         },
         "mode": "markers",
         "name": "Chinese Taipei",
         "showlegend": true,
         "type": "scattergeo"
        },
        {
         "geo": "geo",
         "hovertemplate": "country=%{location}<br>no_of_players=%{marker.size}<extra></extra>",
         "legendgroup": "Gibraltar",
         "locationmode": "country names",
         "locations": [
          "Gibraltar"
         ],
         "marker": {
          "color": "#ab63fa",
          "size": [
           1
          ],
          "sizemode": "area",
          "sizeref": 4.295,
          "symbol": "circle"
         },
         "mode": "markers",
         "name": "Gibraltar",
         "showlegend": true,
         "type": "scattergeo"
        },
        {
         "geo": "geo",
         "hovertemplate": "country=%{location}<br>no_of_players=%{marker.size}<extra></extra>",
         "legendgroup": "Saint Lucia",
         "locationmode": "country names",
         "locations": [
          "Saint Lucia"
         ],
         "marker": {
          "color": "#FFA15A",
          "size": [
           1
          ],
          "sizemode": "area",
          "sizeref": 4.295,
          "symbol": "circle"
         },
         "mode": "markers",
         "name": "Saint Lucia",
         "showlegend": true,
         "type": "scattergeo"
        },
        {
         "geo": "geo",
         "hovertemplate": "country=%{location}<br>no_of_players=%{marker.size}<extra></extra>",
         "legendgroup": "Bhutan",
         "locationmode": "country names",
         "locations": [
          "Bhutan"
         ],
         "marker": {
          "color": "#19d3f3",
          "size": [
           1
          ],
          "sizemode": "area",
          "sizeref": 4.295,
          "symbol": "circle"
         },
         "mode": "markers",
         "name": "Bhutan",
         "showlegend": true,
         "type": "scattergeo"
        },
        {
         "geo": "geo",
         "hovertemplate": "country=%{location}<br>no_of_players=%{marker.size}<extra></extra>",
         "legendgroup": "Barbados",
         "locationmode": "country names",
         "locations": [
          "Barbados"
         ],
         "marker": {
          "color": "#FF6692",
          "size": [
           1
          ],
          "sizemode": "area",
          "sizeref": 4.295,
          "symbol": "circle"
         },
         "mode": "markers",
         "name": "Barbados",
         "showlegend": true,
         "type": "scattergeo"
        },
        {
         "geo": "geo",
         "hovertemplate": "country=%{location}<br>no_of_players=%{marker.size}<extra></extra>",
         "legendgroup": "Belize",
         "locationmode": "country names",
         "locations": [
          "Belize"
         ],
         "marker": {
          "color": "#B6E880",
          "size": [
           1
          ],
          "sizemode": "area",
          "sizeref": 4.295,
          "symbol": "circle"
         },
         "mode": "markers",
         "name": "Belize",
         "showlegend": true,
         "type": "scattergeo"
        },
        {
         "geo": "geo",
         "hovertemplate": "country=%{location}<br>no_of_players=%{marker.size}<extra></extra>",
         "legendgroup": "Korea DPR",
         "locationmode": "country names",
         "locations": [
          "Korea DPR"
         ],
         "marker": {
          "color": "#FF97FF",
          "size": [
           1
          ],
          "sizemode": "area",
          "sizeref": 4.295,
          "symbol": "circle"
         },
         "mode": "markers",
         "name": "Korea DPR",
         "showlegend": true,
         "type": "scattergeo"
        },
        {
         "geo": "geo",
         "hovertemplate": "country=%{location}<br>no_of_players=%{marker.size}<extra></extra>",
         "legendgroup": "Andorra",
         "locationmode": "country names",
         "locations": [
          "Andorra"
         ],
         "marker": {
          "color": "#FECB52",
          "size": [
           1
          ],
          "sizemode": "area",
          "sizeref": 4.295,
          "symbol": "circle"
         },
         "mode": "markers",
         "name": "Andorra",
         "showlegend": true,
         "type": "scattergeo"
        },
        {
         "geo": "geo",
         "hovertemplate": "country=%{location}<br>no_of_players=%{marker.size}<extra></extra>",
         "legendgroup": "Kyrgyzstan",
         "locationmode": "country names",
         "locations": [
          "Kyrgyzstan"
         ],
         "marker": {
          "color": "#636efa",
          "size": [
           1
          ],
          "sizemode": "area",
          "sizeref": 4.295,
          "symbol": "circle"
         },
         "mode": "markers",
         "name": "Kyrgyzstan",
         "showlegend": true,
         "type": "scattergeo"
        },
        {
         "geo": "geo",
         "hovertemplate": "country=%{location}<br>no_of_players=%{marker.size}<extra></extra>",
         "legendgroup": "Vietnam",
         "locationmode": "country names",
         "locations": [
          "Vietnam"
         ],
         "marker": {
          "color": "#EF553B",
          "size": [
           1
          ],
          "sizemode": "area",
          "sizeref": 4.295,
          "symbol": "circle"
         },
         "mode": "markers",
         "name": "Vietnam",
         "showlegend": true,
         "type": "scattergeo"
        },
        {
         "geo": "geo",
         "hovertemplate": "country=%{location}<br>no_of_players=%{marker.size}<extra></extra>",
         "legendgroup": "Ethiopia",
         "locationmode": "country names",
         "locations": [
          "Ethiopia"
         ],
         "marker": {
          "color": "#00cc96",
          "size": [
           1
          ],
          "sizemode": "area",
          "sizeref": 4.295,
          "symbol": "circle"
         },
         "mode": "markers",
         "name": "Ethiopia",
         "showlegend": true,
         "type": "scattergeo"
        },
        {
         "geo": "geo",
         "hovertemplate": "country=%{location}<br>no_of_players=%{marker.size}<extra></extra>",
         "legendgroup": "Afghanistan",
         "locationmode": "country names",
         "locations": [
          "Afghanistan"
         ],
         "marker": {
          "color": "#ab63fa",
          "size": [
           1
          ],
          "sizemode": "area",
          "sizeref": 4.295,
          "symbol": "circle"
         },
         "mode": "markers",
         "name": "Afghanistan",
         "showlegend": true,
         "type": "scattergeo"
        },
        {
         "geo": "geo",
         "hovertemplate": "country=%{location}<br>no_of_players=%{marker.size}<extra></extra>",
         "legendgroup": "Papua New Guinea",
         "locationmode": "country names",
         "locations": [
          "Papua New Guinea"
         ],
         "marker": {
          "color": "#FFA15A",
          "size": [
           1
          ],
          "sizemode": "area",
          "sizeref": 4.295,
          "symbol": "circle"
         },
         "mode": "markers",
         "name": "Papua New Guinea",
         "showlegend": true,
         "type": "scattergeo"
        },
        {
         "geo": "geo",
         "hovertemplate": "country=%{location}<br>no_of_players=%{marker.size}<extra></extra>",
         "legendgroup": "Guam",
         "locationmode": "country names",
         "locations": [
          "Guam"
         ],
         "marker": {
          "color": "#19d3f3",
          "size": [
           1
          ],
          "sizemode": "area",
          "sizeref": 4.295,
          "symbol": "circle"
         },
         "mode": "markers",
         "name": "Guam",
         "showlegend": true,
         "type": "scattergeo"
        },
        {
         "geo": "geo",
         "hovertemplate": "country=%{location}<br>no_of_players=%{marker.size}<extra></extra>",
         "legendgroup": "Mauritius",
         "locationmode": "country names",
         "locations": [
          "Mauritius"
         ],
         "marker": {
          "color": "#FF6692",
          "size": [
           1
          ],
          "sizemode": "area",
          "sizeref": 4.295,
          "symbol": "circle"
         },
         "mode": "markers",
         "name": "Mauritius",
         "showlegend": true,
         "type": "scattergeo"
        },
        {
         "geo": "geo",
         "hovertemplate": "country=%{location}<br>no_of_players=%{marker.size}<extra></extra>",
         "legendgroup": "Eritrea",
         "locationmode": "country names",
         "locations": [
          "Eritrea"
         ],
         "marker": {
          "color": "#B6E880",
          "size": [
           1
          ],
          "sizemode": "area",
          "sizeref": 4.295,
          "symbol": "circle"
         },
         "mode": "markers",
         "name": "Eritrea",
         "showlegend": true,
         "type": "scattergeo"
        },
        {
         "geo": "geo",
         "hovertemplate": "country=%{location}<br>no_of_players=%{marker.size}<extra></extra>",
         "legendgroup": "Tanzania",
         "locationmode": "country names",
         "locations": [
          "Tanzania"
         ],
         "marker": {
          "color": "#FF97FF",
          "size": [
           1
          ],
          "sizemode": "area",
          "sizeref": 4.295,
          "symbol": "circle"
         },
         "mode": "markers",
         "name": "Tanzania",
         "showlegend": true,
         "type": "scattergeo"
        },
        {
         "geo": "geo",
         "hovertemplate": "country=%{location}<br>no_of_players=%{marker.size}<extra></extra>",
         "legendgroup": "Fiji",
         "locationmode": "country names",
         "locations": [
          "Fiji"
         ],
         "marker": {
          "color": "#FECB52",
          "size": [
           1
          ],
          "sizemode": "area",
          "sizeref": 4.295,
          "symbol": "circle"
         },
         "mode": "markers",
         "name": "Fiji",
         "showlegend": true,
         "type": "scattergeo"
        },
        {
         "geo": "geo",
         "hovertemplate": "country=%{location}<br>no_of_players=%{marker.size}<extra></extra>",
         "legendgroup": "Bermuda",
         "locationmode": "country names",
         "locations": [
          "Bermuda"
         ],
         "marker": {
          "color": "#636efa",
          "size": [
           1
          ],
          "sizemode": "area",
          "sizeref": 4.295,
          "symbol": "circle"
         },
         "mode": "markers",
         "name": "Bermuda",
         "showlegend": true,
         "type": "scattergeo"
        },
        {
         "geo": "geo",
         "hovertemplate": "country=%{location}<br>no_of_players=%{marker.size}<extra></extra>",
         "legendgroup": "Malawi",
         "locationmode": "country names",
         "locations": [
          "Malawi"
         ],
         "marker": {
          "color": "#EF553B",
          "size": [
           1
          ],
          "sizemode": "area",
          "sizeref": 4.295,
          "symbol": "circle"
         },
         "mode": "markers",
         "name": "Malawi",
         "showlegend": true,
         "type": "scattergeo"
        },
        {
         "geo": "geo",
         "hovertemplate": "country=%{location}<br>no_of_players=%{marker.size}<extra></extra>",
         "legendgroup": "Indonesia",
         "locationmode": "country names",
         "locations": [
          "Indonesia"
         ],
         "marker": {
          "color": "#00cc96",
          "size": [
           1
          ],
          "sizemode": "area",
          "sizeref": 4.295,
          "symbol": "circle"
         },
         "mode": "markers",
         "name": "Indonesia",
         "showlegend": true,
         "type": "scattergeo"
        }
       ],
       "layout": {
        "geo": {
         "center": {},
         "domain": {
          "x": [
           0,
           1
          ],
          "y": [
           0,
           1
          ]
         }
        },
        "legend": {
         "itemsizing": "constant",
         "title": {
          "text": "country"
         },
         "tracegroupgap": 0
        },
        "template": {
         "data": {
          "bar": [
           {
            "error_x": {
             "color": "#2a3f5f"
            },
            "error_y": {
             "color": "#2a3f5f"
            },
            "marker": {
             "line": {
              "color": "#E5ECF6",
              "width": 0.5
             },
             "pattern": {
              "fillmode": "overlay",
              "size": 10,
              "solidity": 0.2
             }
            },
            "type": "bar"
           }
          ],
          "barpolar": [
           {
            "marker": {
             "line": {
              "color": "#E5ECF6",
              "width": 0.5
             },
             "pattern": {
              "fillmode": "overlay",
              "size": 10,
              "solidity": 0.2
             }
            },
            "type": "barpolar"
           }
          ],
          "carpet": [
           {
            "aaxis": {
             "endlinecolor": "#2a3f5f",
             "gridcolor": "white",
             "linecolor": "white",
             "minorgridcolor": "white",
             "startlinecolor": "#2a3f5f"
            },
            "baxis": {
             "endlinecolor": "#2a3f5f",
             "gridcolor": "white",
             "linecolor": "white",
             "minorgridcolor": "white",
             "startlinecolor": "#2a3f5f"
            },
            "type": "carpet"
           }
          ],
          "choropleth": [
           {
            "colorbar": {
             "outlinewidth": 0,
             "ticks": ""
            },
            "type": "choropleth"
           }
          ],
          "contour": [
           {
            "colorbar": {
             "outlinewidth": 0,
             "ticks": ""
            },
            "colorscale": [
             [
              0,
              "#0d0887"
             ],
             [
              0.1111111111111111,
              "#46039f"
             ],
             [
              0.2222222222222222,
              "#7201a8"
             ],
             [
              0.3333333333333333,
              "#9c179e"
             ],
             [
              0.4444444444444444,
              "#bd3786"
             ],
             [
              0.5555555555555556,
              "#d8576b"
             ],
             [
              0.6666666666666666,
              "#ed7953"
             ],
             [
              0.7777777777777778,
              "#fb9f3a"
             ],
             [
              0.8888888888888888,
              "#fdca26"
             ],
             [
              1,
              "#f0f921"
             ]
            ],
            "type": "contour"
           }
          ],
          "contourcarpet": [
           {
            "colorbar": {
             "outlinewidth": 0,
             "ticks": ""
            },
            "type": "contourcarpet"
           }
          ],
          "heatmap": [
           {
            "colorbar": {
             "outlinewidth": 0,
             "ticks": ""
            },
            "colorscale": [
             [
              0,
              "#0d0887"
             ],
             [
              0.1111111111111111,
              "#46039f"
             ],
             [
              0.2222222222222222,
              "#7201a8"
             ],
             [
              0.3333333333333333,
              "#9c179e"
             ],
             [
              0.4444444444444444,
              "#bd3786"
             ],
             [
              0.5555555555555556,
              "#d8576b"
             ],
             [
              0.6666666666666666,
              "#ed7953"
             ],
             [
              0.7777777777777778,
              "#fb9f3a"
             ],
             [
              0.8888888888888888,
              "#fdca26"
             ],
             [
              1,
              "#f0f921"
             ]
            ],
            "type": "heatmap"
           }
          ],
          "heatmapgl": [
           {
            "colorbar": {
             "outlinewidth": 0,
             "ticks": ""
            },
            "colorscale": [
             [
              0,
              "#0d0887"
             ],
             [
              0.1111111111111111,
              "#46039f"
             ],
             [
              0.2222222222222222,
              "#7201a8"
             ],
             [
              0.3333333333333333,
              "#9c179e"
             ],
             [
              0.4444444444444444,
              "#bd3786"
             ],
             [
              0.5555555555555556,
              "#d8576b"
             ],
             [
              0.6666666666666666,
              "#ed7953"
             ],
             [
              0.7777777777777778,
              "#fb9f3a"
             ],
             [
              0.8888888888888888,
              "#fdca26"
             ],
             [
              1,
              "#f0f921"
             ]
            ],
            "type": "heatmapgl"
           }
          ],
          "histogram": [
           {
            "marker": {
             "pattern": {
              "fillmode": "overlay",
              "size": 10,
              "solidity": 0.2
             }
            },
            "type": "histogram"
           }
          ],
          "histogram2d": [
           {
            "colorbar": {
             "outlinewidth": 0,
             "ticks": ""
            },
            "colorscale": [
             [
              0,
              "#0d0887"
             ],
             [
              0.1111111111111111,
              "#46039f"
             ],
             [
              0.2222222222222222,
              "#7201a8"
             ],
             [
              0.3333333333333333,
              "#9c179e"
             ],
             [
              0.4444444444444444,
              "#bd3786"
             ],
             [
              0.5555555555555556,
              "#d8576b"
             ],
             [
              0.6666666666666666,
              "#ed7953"
             ],
             [
              0.7777777777777778,
              "#fb9f3a"
             ],
             [
              0.8888888888888888,
              "#fdca26"
             ],
             [
              1,
              "#f0f921"
             ]
            ],
            "type": "histogram2d"
           }
          ],
          "histogram2dcontour": [
           {
            "colorbar": {
             "outlinewidth": 0,
             "ticks": ""
            },
            "colorscale": [
             [
              0,
              "#0d0887"
             ],
             [
              0.1111111111111111,
              "#46039f"
             ],
             [
              0.2222222222222222,
              "#7201a8"
             ],
             [
              0.3333333333333333,
              "#9c179e"
             ],
             [
              0.4444444444444444,
              "#bd3786"
             ],
             [
              0.5555555555555556,
              "#d8576b"
             ],
             [
              0.6666666666666666,
              "#ed7953"
             ],
             [
              0.7777777777777778,
              "#fb9f3a"
             ],
             [
              0.8888888888888888,
              "#fdca26"
             ],
             [
              1,
              "#f0f921"
             ]
            ],
            "type": "histogram2dcontour"
           }
          ],
          "mesh3d": [
           {
            "colorbar": {
             "outlinewidth": 0,
             "ticks": ""
            },
            "type": "mesh3d"
           }
          ],
          "parcoords": [
           {
            "line": {
             "colorbar": {
              "outlinewidth": 0,
              "ticks": ""
             }
            },
            "type": "parcoords"
           }
          ],
          "pie": [
           {
            "automargin": true,
            "type": "pie"
           }
          ],
          "scatter": [
           {
            "fillpattern": {
             "fillmode": "overlay",
             "size": 10,
             "solidity": 0.2
            },
            "type": "scatter"
           }
          ],
          "scatter3d": [
           {
            "line": {
             "colorbar": {
              "outlinewidth": 0,
              "ticks": ""
             }
            },
            "marker": {
             "colorbar": {
              "outlinewidth": 0,
              "ticks": ""
             }
            },
            "type": "scatter3d"
           }
          ],
          "scattercarpet": [
           {
            "marker": {
             "colorbar": {
              "outlinewidth": 0,
              "ticks": ""
             }
            },
            "type": "scattercarpet"
           }
          ],
          "scattergeo": [
           {
            "marker": {
             "colorbar": {
              "outlinewidth": 0,
              "ticks": ""
             }
            },
            "type": "scattergeo"
           }
          ],
          "scattergl": [
           {
            "marker": {
             "colorbar": {
              "outlinewidth": 0,
              "ticks": ""
             }
            },
            "type": "scattergl"
           }
          ],
          "scattermapbox": [
           {
            "marker": {
             "colorbar": {
              "outlinewidth": 0,
              "ticks": ""
             }
            },
            "type": "scattermapbox"
           }
          ],
          "scatterpolar": [
           {
            "marker": {
             "colorbar": {
              "outlinewidth": 0,
              "ticks": ""
             }
            },
            "type": "scatterpolar"
           }
          ],
          "scatterpolargl": [
           {
            "marker": {
             "colorbar": {
              "outlinewidth": 0,
              "ticks": ""
             }
            },
            "type": "scatterpolargl"
           }
          ],
          "scatterternary": [
           {
            "marker": {
             "colorbar": {
              "outlinewidth": 0,
              "ticks": ""
             }
            },
            "type": "scatterternary"
           }
          ],
          "surface": [
           {
            "colorbar": {
             "outlinewidth": 0,
             "ticks": ""
            },
            "colorscale": [
             [
              0,
              "#0d0887"
             ],
             [
              0.1111111111111111,
              "#46039f"
             ],
             [
              0.2222222222222222,
              "#7201a8"
             ],
             [
              0.3333333333333333,
              "#9c179e"
             ],
             [
              0.4444444444444444,
              "#bd3786"
             ],
             [
              0.5555555555555556,
              "#d8576b"
             ],
             [
              0.6666666666666666,
              "#ed7953"
             ],
             [
              0.7777777777777778,
              "#fb9f3a"
             ],
             [
              0.8888888888888888,
              "#fdca26"
             ],
             [
              1,
              "#f0f921"
             ]
            ],
            "type": "surface"
           }
          ],
          "table": [
           {
            "cells": {
             "fill": {
              "color": "#EBF0F8"
             },
             "line": {
              "color": "white"
             }
            },
            "header": {
             "fill": {
              "color": "#C8D4E3"
             },
             "line": {
              "color": "white"
             }
            },
            "type": "table"
           }
          ]
         },
         "layout": {
          "annotationdefaults": {
           "arrowcolor": "#2a3f5f",
           "arrowhead": 0,
           "arrowwidth": 1
          },
          "autotypenumbers": "strict",
          "coloraxis": {
           "colorbar": {
            "outlinewidth": 0,
            "ticks": ""
           }
          },
          "colorscale": {
           "diverging": [
            [
             0,
             "#8e0152"
            ],
            [
             0.1,
             "#c51b7d"
            ],
            [
             0.2,
             "#de77ae"
            ],
            [
             0.3,
             "#f1b6da"
            ],
            [
             0.4,
             "#fde0ef"
            ],
            [
             0.5,
             "#f7f7f7"
            ],
            [
             0.6,
             "#e6f5d0"
            ],
            [
             0.7,
             "#b8e186"
            ],
            [
             0.8,
             "#7fbc41"
            ],
            [
             0.9,
             "#4d9221"
            ],
            [
             1,
             "#276419"
            ]
           ],
           "sequential": [
            [
             0,
             "#0d0887"
            ],
            [
             0.1111111111111111,
             "#46039f"
            ],
            [
             0.2222222222222222,
             "#7201a8"
            ],
            [
             0.3333333333333333,
             "#9c179e"
            ],
            [
             0.4444444444444444,
             "#bd3786"
            ],
            [
             0.5555555555555556,
             "#d8576b"
            ],
            [
             0.6666666666666666,
             "#ed7953"
            ],
            [
             0.7777777777777778,
             "#fb9f3a"
            ],
            [
             0.8888888888888888,
             "#fdca26"
            ],
            [
             1,
             "#f0f921"
            ]
           ],
           "sequentialminus": [
            [
             0,
             "#0d0887"
            ],
            [
             0.1111111111111111,
             "#46039f"
            ],
            [
             0.2222222222222222,
             "#7201a8"
            ],
            [
             0.3333333333333333,
             "#9c179e"
            ],
            [
             0.4444444444444444,
             "#bd3786"
            ],
            [
             0.5555555555555556,
             "#d8576b"
            ],
            [
             0.6666666666666666,
             "#ed7953"
            ],
            [
             0.7777777777777778,
             "#fb9f3a"
            ],
            [
             0.8888888888888888,
             "#fdca26"
            ],
            [
             1,
             "#f0f921"
            ]
           ]
          },
          "colorway": [
           "#636efa",
           "#EF553B",
           "#00cc96",
           "#ab63fa",
           "#FFA15A",
           "#19d3f3",
           "#FF6692",
           "#B6E880",
           "#FF97FF",
           "#FECB52"
          ],
          "font": {
           "color": "#2a3f5f"
          },
          "geo": {
           "bgcolor": "white",
           "lakecolor": "white",
           "landcolor": "#E5ECF6",
           "showlakes": true,
           "showland": true,
           "subunitcolor": "white"
          },
          "hoverlabel": {
           "align": "left"
          },
          "hovermode": "closest",
          "mapbox": {
           "style": "light"
          },
          "paper_bgcolor": "white",
          "plot_bgcolor": "#E5ECF6",
          "polar": {
           "angularaxis": {
            "gridcolor": "white",
            "linecolor": "white",
            "ticks": ""
           },
           "bgcolor": "#E5ECF6",
           "radialaxis": {
            "gridcolor": "white",
            "linecolor": "white",
            "ticks": ""
           }
          },
          "scene": {
           "xaxis": {
            "backgroundcolor": "#E5ECF6",
            "gridcolor": "white",
            "gridwidth": 2,
            "linecolor": "white",
            "showbackground": true,
            "ticks": "",
            "zerolinecolor": "white"
           },
           "yaxis": {
            "backgroundcolor": "#E5ECF6",
            "gridcolor": "white",
            "gridwidth": 2,
            "linecolor": "white",
            "showbackground": true,
            "ticks": "",
            "zerolinecolor": "white"
           },
           "zaxis": {
            "backgroundcolor": "#E5ECF6",
            "gridcolor": "white",
            "gridwidth": 2,
            "linecolor": "white",
            "showbackground": true,
            "ticks": "",
            "zerolinecolor": "white"
           }
          },
          "shapedefaults": {
           "line": {
            "color": "#2a3f5f"
           }
          },
          "ternary": {
           "aaxis": {
            "gridcolor": "white",
            "linecolor": "white",
            "ticks": ""
           },
           "baxis": {
            "gridcolor": "white",
            "linecolor": "white",
            "ticks": ""
           },
           "bgcolor": "#E5ECF6",
           "caxis": {
            "gridcolor": "white",
            "linecolor": "white",
            "ticks": ""
           }
          },
          "title": {
           "x": 0.05
          },
          "xaxis": {
           "automargin": true,
           "gridcolor": "white",
           "linecolor": "white",
           "ticks": "",
           "title": {
            "standoff": 15
           },
           "zerolinecolor": "white",
           "zerolinewidth": 2
          },
          "yaxis": {
           "automargin": true,
           "gridcolor": "white",
           "linecolor": "white",
           "ticks": "",
           "title": {
            "standoff": 15
           },
           "zerolinecolor": "white",
           "zerolinewidth": 2
          }
         }
        },
        "title": {
         "text": "Players per country:-"
        }
       }
      },
      "text/html": [
       "<div>                            <div id=\"a2c2722f-c7a8-46c1-90a7-188f7efd8a05\" class=\"plotly-graph-div\" style=\"height:525px; width:100%;\"></div>            <script type=\"text/javascript\">                require([\"plotly\"], function(Plotly) {                    window.PLOTLYENV=window.PLOTLYENV || {};                                    if (document.getElementById(\"a2c2722f-c7a8-46c1-90a7-188f7efd8a05\")) {                    Plotly.newPlot(                        \"a2c2722f-c7a8-46c1-90a7-188f7efd8a05\",                        [{\"geo\":\"geo\",\"hovertemplate\":\"country=%{location}<br>no_of_players=%{marker.size}<extra></extra>\",\"legendgroup\":\"England\",\"locationmode\":\"country names\",\"locations\":[\"England\"],\"marker\":{\"color\":\"#636efa\",\"size\":[1718],\"sizemode\":\"area\",\"sizeref\":4.295,\"symbol\":\"circle\"},\"mode\":\"markers\",\"name\":\"England\",\"showlegend\":true,\"type\":\"scattergeo\"},{\"geo\":\"geo\",\"hovertemplate\":\"country=%{location}<br>no_of_players=%{marker.size}<extra></extra>\",\"legendgroup\":\"Germany\",\"locationmode\":\"country names\",\"locations\":[\"Germany\"],\"marker\":{\"color\":\"#EF553B\",\"size\":[1214],\"sizemode\":\"area\",\"sizeref\":4.295,\"symbol\":\"circle\"},\"mode\":\"markers\",\"name\":\"Germany\",\"showlegend\":true,\"type\":\"scattergeo\"},{\"geo\":\"geo\",\"hovertemplate\":\"country=%{location}<br>no_of_players=%{marker.size}<extra></extra>\",\"legendgroup\":\"Spain\",\"locationmode\":\"country names\",\"locations\":[\"Spain\"],\"marker\":{\"color\":\"#00cc96\",\"size\":[1091],\"sizemode\":\"area\",\"sizeref\":4.295,\"symbol\":\"circle\"},\"mode\":\"markers\",\"name\":\"Spain\",\"showlegend\":true,\"type\":\"scattergeo\"},{\"geo\":\"geo\",\"hovertemplate\":\"country=%{location}<br>no_of_players=%{marker.size}<extra></extra>\",\"legendgroup\":\"France\",\"locationmode\":\"country names\",\"locations\":[\"France\"],\"marker\":{\"color\":\"#ab63fa\",\"size\":[987],\"sizemode\":\"area\",\"sizeref\":4.295,\"symbol\":\"circle\"},\"mode\":\"markers\",\"name\":\"France\",\"showlegend\":true,\"type\":\"scattergeo\"},{\"geo\":\"geo\",\"hovertemplate\":\"country=%{location}<br>no_of_players=%{marker.size}<extra></extra>\",\"legendgroup\":\"Argentina\",\"locationmode\":\"country names\",\"locations\":[\"Argentina\"],\"marker\":{\"color\":\"#FFA15A\",\"size\":[955],\"sizemode\":\"area\",\"sizeref\":4.295,\"symbol\":\"circle\"},\"mode\":\"markers\",\"name\":\"Argentina\",\"showlegend\":true,\"type\":\"scattergeo\"},{\"geo\":\"geo\",\"hovertemplate\":\"country=%{location}<br>no_of_players=%{marker.size}<extra></extra>\",\"legendgroup\":\"Brazil\",\"locationmode\":\"country names\",\"locations\":[\"Brazil\"],\"marker\":{\"color\":\"#19d3f3\",\"size\":[913],\"sizemode\":\"area\",\"sizeref\":4.295,\"symbol\":\"circle\"},\"mode\":\"markers\",\"name\":\"Brazil\",\"showlegend\":true,\"type\":\"scattergeo\"},{\"geo\":\"geo\",\"hovertemplate\":\"country=%{location}<br>no_of_players=%{marker.size}<extra></extra>\",\"legendgroup\":\"Japan\",\"locationmode\":\"country names\",\"locations\":[\"Japan\"],\"marker\":{\"color\":\"#FF6692\",\"size\":[544],\"sizemode\":\"area\",\"sizeref\":4.295,\"symbol\":\"circle\"},\"mode\":\"markers\",\"name\":\"Japan\",\"showlegend\":true,\"type\":\"scattergeo\"},{\"geo\":\"geo\",\"hovertemplate\":\"country=%{location}<br>no_of_players=%{marker.size}<extra></extra>\",\"legendgroup\":\"Netherlands\",\"locationmode\":\"country names\",\"locations\":[\"Netherlands\"],\"marker\":{\"color\":\"#B6E880\",\"size\":[439],\"sizemode\":\"area\",\"sizeref\":4.295,\"symbol\":\"circle\"},\"mode\":\"markers\",\"name\":\"Netherlands\",\"showlegend\":true,\"type\":\"scattergeo\"},{\"geo\":\"geo\",\"hovertemplate\":\"country=%{location}<br>no_of_players=%{marker.size}<extra></extra>\",\"legendgroup\":\"United States\",\"locationmode\":\"country names\",\"locations\":[\"United States\"],\"marker\":{\"color\":\"#FF97FF\",\"size\":[411],\"sizemode\":\"area\",\"sizeref\":4.295,\"symbol\":\"circle\"},\"mode\":\"markers\",\"name\":\"United States\",\"showlegend\":true,\"type\":\"scattergeo\"},{\"geo\":\"geo\",\"hovertemplate\":\"country=%{location}<br>no_of_players=%{marker.size}<extra></extra>\",\"legendgroup\":\"Poland\",\"locationmode\":\"country names\",\"locations\":[\"Poland\"],\"marker\":{\"color\":\"#FECB52\",\"size\":[403],\"sizemode\":\"area\",\"sizeref\":4.295,\"symbol\":\"circle\"},\"mode\":\"markers\",\"name\":\"Poland\",\"showlegend\":true,\"type\":\"scattergeo\"},{\"geo\":\"geo\",\"hovertemplate\":\"country=%{location}<br>no_of_players=%{marker.size}<extra></extra>\",\"legendgroup\":\"Sweden\",\"locationmode\":\"country names\",\"locations\":[\"Sweden\"],\"marker\":{\"color\":\"#636efa\",\"size\":[387],\"sizemode\":\"area\",\"sizeref\":4.295,\"symbol\":\"circle\"},\"mode\":\"markers\",\"name\":\"Sweden\",\"showlegend\":true,\"type\":\"scattergeo\"},{\"geo\":\"geo\",\"hovertemplate\":\"country=%{location}<br>no_of_players=%{marker.size}<extra></extra>\",\"legendgroup\":\"Norway\",\"locationmode\":\"country names\",\"locations\":[\"Norway\"],\"marker\":{\"color\":\"#EF553B\",\"size\":[377],\"sizemode\":\"area\",\"sizeref\":4.295,\"symbol\":\"circle\"},\"mode\":\"markers\",\"name\":\"Norway\",\"showlegend\":true,\"type\":\"scattergeo\"},{\"geo\":\"geo\",\"hovertemplate\":\"country=%{location}<br>no_of_players=%{marker.size}<extra></extra>\",\"legendgroup\":\"Portugal\",\"locationmode\":\"country names\",\"locations\":[\"Portugal\"],\"marker\":{\"color\":\"#00cc96\",\"size\":[377],\"sizemode\":\"area\",\"sizeref\":4.295,\"symbol\":\"circle\"},\"mode\":\"markers\",\"name\":\"Portugal\",\"showlegend\":true,\"type\":\"scattergeo\"},{\"geo\":\"geo\",\"hovertemplate\":\"country=%{location}<br>no_of_players=%{marker.size}<extra></extra>\",\"legendgroup\":\"China PR\",\"locationmode\":\"country names\",\"locations\":[\"China PR\"],\"marker\":{\"color\":\"#ab63fa\",\"size\":[377],\"sizemode\":\"area\",\"sizeref\":4.295,\"symbol\":\"circle\"},\"mode\":\"markers\",\"name\":\"China PR\",\"showlegend\":true,\"type\":\"scattergeo\"},{\"geo\":\"geo\",\"hovertemplate\":\"country=%{location}<br>no_of_players=%{marker.size}<extra></extra>\",\"legendgroup\":\"Republic of Ireland\",\"locationmode\":\"country names\",\"locations\":[\"Republic of Ireland\"],\"marker\":{\"color\":\"#FFA15A\",\"size\":[360],\"sizemode\":\"area\",\"sizeref\":4.295,\"symbol\":\"circle\"},\"mode\":\"markers\",\"name\":\"Republic of Ireland\",\"showlegend\":true,\"type\":\"scattergeo\"},{\"geo\":\"geo\",\"hovertemplate\":\"country=%{location}<br>no_of_players=%{marker.size}<extra></extra>\",\"legendgroup\":\"Mexico\",\"locationmode\":\"country names\",\"locations\":[\"Mexico\"],\"marker\":{\"color\":\"#19d3f3\",\"size\":[355],\"sizemode\":\"area\",\"sizeref\":4.295,\"symbol\":\"circle\"},\"mode\":\"markers\",\"name\":\"Mexico\",\"showlegend\":true,\"type\":\"scattergeo\"},{\"geo\":\"geo\",\"hovertemplate\":\"country=%{location}<br>no_of_players=%{marker.size}<extra></extra>\",\"legendgroup\":\"Saudi Arabia\",\"locationmode\":\"country names\",\"locations\":[\"Saudi Arabia\"],\"marker\":{\"color\":\"#FF6692\",\"size\":[355],\"sizemode\":\"area\",\"sizeref\":4.295,\"symbol\":\"circle\"},\"mode\":\"markers\",\"name\":\"Saudi Arabia\",\"showlegend\":true,\"type\":\"scattergeo\"},{\"geo\":\"geo\",\"hovertemplate\":\"country=%{location}<br>no_of_players=%{marker.size}<extra></extra>\",\"legendgroup\":\"Italy\",\"locationmode\":\"country names\",\"locations\":[\"Italy\"],\"marker\":{\"color\":\"#B6E880\",\"size\":[339],\"sizemode\":\"area\",\"sizeref\":4.295,\"symbol\":\"circle\"},\"mode\":\"markers\",\"name\":\"Italy\",\"showlegend\":true,\"type\":\"scattergeo\"},{\"geo\":\"geo\",\"hovertemplate\":\"country=%{location}<br>no_of_players=%{marker.size}<extra></extra>\",\"legendgroup\":\"Romania\",\"locationmode\":\"country names\",\"locations\":[\"Romania\"],\"marker\":{\"color\":\"#FF97FF\",\"size\":[338],\"sizemode\":\"area\",\"sizeref\":4.295,\"symbol\":\"circle\"},\"mode\":\"markers\",\"name\":\"Romania\",\"showlegend\":true,\"type\":\"scattergeo\"},{\"geo\":\"geo\",\"hovertemplate\":\"country=%{location}<br>no_of_players=%{marker.size}<extra></extra>\",\"legendgroup\":\"Korea Republic\",\"locationmode\":\"country names\",\"locations\":[\"Korea Republic\"],\"marker\":{\"color\":\"#FECB52\",\"size\":[323],\"sizemode\":\"area\",\"sizeref\":4.295,\"symbol\":\"circle\"},\"mode\":\"markers\",\"name\":\"Korea Republic\",\"showlegend\":true,\"type\":\"scattergeo\"},{\"geo\":\"geo\",\"hovertemplate\":\"country=%{location}<br>no_of_players=%{marker.size}<extra></extra>\",\"legendgroup\":\"Colombia\",\"locationmode\":\"country names\",\"locations\":[\"Colombia\"],\"marker\":{\"color\":\"#636efa\",\"size\":[322],\"sizemode\":\"area\",\"sizeref\":4.295,\"symbol\":\"circle\"},\"mode\":\"markers\",\"name\":\"Colombia\",\"showlegend\":true,\"type\":\"scattergeo\"},{\"geo\":\"geo\",\"hovertemplate\":\"country=%{location}<br>no_of_players=%{marker.size}<extra></extra>\",\"legendgroup\":\"Austria\",\"locationmode\":\"country names\",\"locations\":[\"Austria\"],\"marker\":{\"color\":\"#EF553B\",\"size\":[319],\"sizemode\":\"area\",\"sizeref\":4.295,\"symbol\":\"circle\"},\"mode\":\"markers\",\"name\":\"Austria\",\"showlegend\":true,\"type\":\"scattergeo\"},{\"geo\":\"geo\",\"hovertemplate\":\"country=%{location}<br>no_of_players=%{marker.size}<extra></extra>\",\"legendgroup\":\"Belgium\",\"locationmode\":\"country names\",\"locations\":[\"Belgium\"],\"marker\":{\"color\":\"#00cc96\",\"size\":[313],\"sizemode\":\"area\",\"sizeref\":4.295,\"symbol\":\"circle\"},\"mode\":\"markers\",\"name\":\"Belgium\",\"showlegend\":true,\"type\":\"scattergeo\"},{\"geo\":\"geo\",\"hovertemplate\":\"country=%{location}<br>no_of_players=%{marker.size}<extra></extra>\",\"legendgroup\":\"Denmark\",\"locationmode\":\"country names\",\"locations\":[\"Denmark\"],\"marker\":{\"color\":\"#ab63fa\",\"size\":[306],\"sizemode\":\"area\",\"sizeref\":4.295,\"symbol\":\"circle\"},\"mode\":\"markers\",\"name\":\"Denmark\",\"showlegend\":true,\"type\":\"scattergeo\"},{\"geo\":\"geo\",\"hovertemplate\":\"country=%{location}<br>no_of_players=%{marker.size}<extra></extra>\",\"legendgroup\":\"Turkey\",\"locationmode\":\"country names\",\"locations\":[\"Turkey\"],\"marker\":{\"color\":\"#FFA15A\",\"size\":[292],\"sizemode\":\"area\",\"sizeref\":4.295,\"symbol\":\"circle\"},\"mode\":\"markers\",\"name\":\"Turkey\",\"showlegend\":true,\"type\":\"scattergeo\"},{\"geo\":\"geo\",\"hovertemplate\":\"country=%{location}<br>no_of_players=%{marker.size}<extra></extra>\",\"legendgroup\":\"Scotland\",\"locationmode\":\"country names\",\"locations\":[\"Scotland\"],\"marker\":{\"color\":\"#19d3f3\",\"size\":[289],\"sizemode\":\"area\",\"sizeref\":4.295,\"symbol\":\"circle\"},\"mode\":\"markers\",\"name\":\"Scotland\",\"showlegend\":true,\"type\":\"scattergeo\"},{\"geo\":\"geo\",\"hovertemplate\":\"country=%{location}<br>no_of_players=%{marker.size}<extra></extra>\",\"legendgroup\":\"Uruguay\",\"locationmode\":\"country names\",\"locations\":[\"Uruguay\"],\"marker\":{\"color\":\"#FF6692\",\"size\":[284],\"sizemode\":\"area\",\"sizeref\":4.295,\"symbol\":\"circle\"},\"mode\":\"markers\",\"name\":\"Uruguay\",\"showlegend\":true,\"type\":\"scattergeo\"},{\"geo\":\"geo\",\"hovertemplate\":\"country=%{location}<br>no_of_players=%{marker.size}<extra></extra>\",\"legendgroup\":\"Australia\",\"locationmode\":\"country names\",\"locations\":[\"Australia\"],\"marker\":{\"color\":\"#B6E880\",\"size\":[266],\"sizemode\":\"area\",\"sizeref\":4.295,\"symbol\":\"circle\"},\"mode\":\"markers\",\"name\":\"Australia\",\"showlegend\":true,\"type\":\"scattergeo\"},{\"geo\":\"geo\",\"hovertemplate\":\"country=%{location}<br>no_of_players=%{marker.size}<extra></extra>\",\"legendgroup\":\"India\",\"locationmode\":\"country names\",\"locations\":[\"India\"],\"marker\":{\"color\":\"#FF97FF\",\"size\":[213],\"sizemode\":\"area\",\"sizeref\":4.295,\"symbol\":\"circle\"},\"mode\":\"markers\",\"name\":\"India\",\"showlegend\":true,\"type\":\"scattergeo\"},{\"geo\":\"geo\",\"hovertemplate\":\"country=%{location}<br>no_of_players=%{marker.size}<extra></extra>\",\"legendgroup\":\"Venezuela\",\"locationmode\":\"country names\",\"locations\":[\"Venezuela\"],\"marker\":{\"color\":\"#FECB52\",\"size\":[211],\"sizemode\":\"area\",\"sizeref\":4.295,\"symbol\":\"circle\"},\"mode\":\"markers\",\"name\":\"Venezuela\",\"showlegend\":true,\"type\":\"scattergeo\"},{\"geo\":\"geo\",\"hovertemplate\":\"country=%{location}<br>no_of_players=%{marker.size}<extra></extra>\",\"legendgroup\":\"Switzerland\",\"locationmode\":\"country names\",\"locations\":[\"Switzerland\"],\"marker\":{\"color\":\"#636efa\",\"size\":[196],\"sizemode\":\"area\",\"sizeref\":4.295,\"symbol\":\"circle\"},\"mode\":\"markers\",\"name\":\"Switzerland\",\"showlegend\":true,\"type\":\"scattergeo\"},{\"geo\":\"geo\",\"hovertemplate\":\"country=%{location}<br>no_of_players=%{marker.size}<extra></extra>\",\"legendgroup\":\"Paraguay\",\"locationmode\":\"country names\",\"locations\":[\"Paraguay\"],\"marker\":{\"color\":\"#EF553B\",\"size\":[195],\"sizemode\":\"area\",\"sizeref\":4.295,\"symbol\":\"circle\"},\"mode\":\"markers\",\"name\":\"Paraguay\",\"showlegend\":true,\"type\":\"scattergeo\"},{\"geo\":\"geo\",\"hovertemplate\":\"country=%{location}<br>no_of_players=%{marker.size}<extra></extra>\",\"legendgroup\":\"Ecuador\",\"locationmode\":\"country names\",\"locations\":[\"Ecuador\"],\"marker\":{\"color\":\"#00cc96\",\"size\":[180],\"sizemode\":\"area\",\"sizeref\":4.295,\"symbol\":\"circle\"},\"mode\":\"markers\",\"name\":\"Ecuador\",\"showlegend\":true,\"type\":\"scattergeo\"},{\"geo\":\"geo\",\"hovertemplate\":\"country=%{location}<br>no_of_players=%{marker.size}<extra></extra>\",\"legendgroup\":\"Chile\",\"locationmode\":\"country names\",\"locations\":[\"Chile\"],\"marker\":{\"color\":\"#ab63fa\",\"size\":[162],\"sizemode\":\"area\",\"sizeref\":4.295,\"symbol\":\"circle\"},\"mode\":\"markers\",\"name\":\"Chile\",\"showlegend\":true,\"type\":\"scattergeo\"},{\"geo\":\"geo\",\"hovertemplate\":\"country=%{location}<br>no_of_players=%{marker.size}<extra></extra>\",\"legendgroup\":\"Croatia\",\"locationmode\":\"country names\",\"locations\":[\"Croatia\"],\"marker\":{\"color\":\"#FFA15A\",\"size\":[158],\"sizemode\":\"area\",\"sizeref\":4.295,\"symbol\":\"circle\"},\"mode\":\"markers\",\"name\":\"Croatia\",\"showlegend\":true,\"type\":\"scattergeo\"},{\"geo\":\"geo\",\"hovertemplate\":\"country=%{location}<br>no_of_players=%{marker.size}<extra></extra>\",\"legendgroup\":\"Peru\",\"locationmode\":\"country names\",\"locations\":[\"Peru\"],\"marker\":{\"color\":\"#19d3f3\",\"size\":[157],\"sizemode\":\"area\",\"sizeref\":4.295,\"symbol\":\"circle\"},\"mode\":\"markers\",\"name\":\"Peru\",\"showlegend\":true,\"type\":\"scattergeo\"},{\"geo\":\"geo\",\"hovertemplate\":\"country=%{location}<br>no_of_players=%{marker.size}<extra></extra>\",\"legendgroup\":\"Bolivia\",\"locationmode\":\"country names\",\"locations\":[\"Bolivia\"],\"marker\":{\"color\":\"#FF6692\",\"size\":[151],\"sizemode\":\"area\",\"sizeref\":4.295,\"symbol\":\"circle\"},\"mode\":\"markers\",\"name\":\"Bolivia\",\"showlegend\":true,\"type\":\"scattergeo\"},{\"geo\":\"geo\",\"hovertemplate\":\"country=%{location}<br>no_of_players=%{marker.size}<extra></extra>\",\"legendgroup\":\"Wales\",\"locationmode\":\"country names\",\"locations\":[\"Wales\"],\"marker\":{\"color\":\"#B6E880\",\"size\":[133],\"sizemode\":\"area\",\"sizeref\":4.295,\"symbol\":\"circle\"},\"mode\":\"markers\",\"name\":\"Wales\",\"showlegend\":true,\"type\":\"scattergeo\"},{\"geo\":\"geo\",\"hovertemplate\":\"country=%{location}<br>no_of_players=%{marker.size}<extra></extra>\",\"legendgroup\":\"Ghana\",\"locationmode\":\"country names\",\"locations\":[\"Ghana\"],\"marker\":{\"color\":\"#FF97FF\",\"size\":[128],\"sizemode\":\"area\",\"sizeref\":4.295,\"symbol\":\"circle\"},\"mode\":\"markers\",\"name\":\"Ghana\",\"showlegend\":true,\"type\":\"scattergeo\"},{\"geo\":\"geo\",\"hovertemplate\":\"country=%{location}<br>no_of_players=%{marker.size}<extra></extra>\",\"legendgroup\":\"Nigeria\",\"locationmode\":\"country names\",\"locations\":[\"Nigeria\"],\"marker\":{\"color\":\"#FECB52\",\"size\":[128],\"sizemode\":\"area\",\"sizeref\":4.295,\"symbol\":\"circle\"},\"mode\":\"markers\",\"name\":\"Nigeria\",\"showlegend\":true,\"type\":\"scattergeo\"},{\"geo\":\"geo\",\"hovertemplate\":\"country=%{location}<br>no_of_players=%{marker.size}<extra></extra>\",\"legendgroup\":\"Senegal\",\"locationmode\":\"country names\",\"locations\":[\"Senegal\"],\"marker\":{\"color\":\"#636efa\",\"size\":[127],\"sizemode\":\"area\",\"sizeref\":4.295,\"symbol\":\"circle\"},\"mode\":\"markers\",\"name\":\"Senegal\",\"showlegend\":true,\"type\":\"scattergeo\"},{\"geo\":\"geo\",\"hovertemplate\":\"country=%{location}<br>no_of_players=%{marker.size}<extra></extra>\",\"legendgroup\":\"Serbia\",\"locationmode\":\"country names\",\"locations\":[\"Serbia\"],\"marker\":{\"color\":\"#EF553B\",\"size\":[127],\"sizemode\":\"area\",\"sizeref\":4.295,\"symbol\":\"circle\"},\"mode\":\"markers\",\"name\":\"Serbia\",\"showlegend\":true,\"type\":\"scattergeo\"},{\"geo\":\"geo\",\"hovertemplate\":\"country=%{location}<br>no_of_players=%{marker.size}<extra></extra>\",\"legendgroup\":\"C\\u00f4te d'Ivoire\",\"locationmode\":\"country names\",\"locations\":[\"C\\u00f4te d'Ivoire\"],\"marker\":{\"color\":\"#00cc96\",\"size\":[111],\"sizemode\":\"area\",\"sizeref\":4.295,\"symbol\":\"circle\"},\"mode\":\"markers\",\"name\":\"C\\u00f4te d'Ivoire\",\"showlegend\":true,\"type\":\"scattergeo\"},{\"geo\":\"geo\",\"hovertemplate\":\"country=%{location}<br>no_of_players=%{marker.size}<extra></extra>\",\"legendgroup\":\"Czech Republic\",\"locationmode\":\"country names\",\"locations\":[\"Czech Republic\"],\"marker\":{\"color\":\"#ab63fa\",\"size\":[105],\"sizemode\":\"area\",\"sizeref\":4.295,\"symbol\":\"circle\"},\"mode\":\"markers\",\"name\":\"Czech Republic\",\"showlegend\":true,\"type\":\"scattergeo\"},{\"geo\":\"geo\",\"hovertemplate\":\"country=%{location}<br>no_of_players=%{marker.size}<extra></extra>\",\"legendgroup\":\"Morocco\",\"locationmode\":\"country names\",\"locations\":[\"Morocco\"],\"marker\":{\"color\":\"#FFA15A\",\"size\":[103],\"sizemode\":\"area\",\"sizeref\":4.295,\"symbol\":\"circle\"},\"mode\":\"markers\",\"name\":\"Morocco\",\"showlegend\":true,\"type\":\"scattergeo\"},{\"geo\":\"geo\",\"hovertemplate\":\"country=%{location}<br>no_of_players=%{marker.size}<extra></extra>\",\"legendgroup\":\"Greece\",\"locationmode\":\"country names\",\"locations\":[\"Greece\"],\"marker\":{\"color\":\"#19d3f3\",\"size\":[93],\"sizemode\":\"area\",\"sizeref\":4.295,\"symbol\":\"circle\"},\"mode\":\"markers\",\"name\":\"Greece\",\"showlegend\":true,\"type\":\"scattergeo\"},{\"geo\":\"geo\",\"hovertemplate\":\"country=%{location}<br>no_of_players=%{marker.size}<extra></extra>\",\"legendgroup\":\"Russia\",\"locationmode\":\"country names\",\"locations\":[\"Russia\"],\"marker\":{\"color\":\"#FF6692\",\"size\":[91],\"sizemode\":\"area\",\"sizeref\":4.295,\"symbol\":\"circle\"},\"mode\":\"markers\",\"name\":\"Russia\",\"showlegend\":true,\"type\":\"scattergeo\"},{\"geo\":\"geo\",\"hovertemplate\":\"country=%{location}<br>no_of_players=%{marker.size}<extra></extra>\",\"legendgroup\":\"Northern Ireland\",\"locationmode\":\"country names\",\"locations\":[\"Northern Ireland\"],\"marker\":{\"color\":\"#B6E880\",\"size\":[77],\"sizemode\":\"area\",\"sizeref\":4.295,\"symbol\":\"circle\"},\"mode\":\"markers\",\"name\":\"Northern Ireland\",\"showlegend\":true,\"type\":\"scattergeo\"},{\"geo\":\"geo\",\"hovertemplate\":\"country=%{location}<br>no_of_players=%{marker.size}<extra></extra>\",\"legendgroup\":\"Canada\",\"locationmode\":\"country names\",\"locations\":[\"Canada\"],\"marker\":{\"color\":\"#FF97FF\",\"size\":[75],\"sizemode\":\"area\",\"sizeref\":4.295,\"symbol\":\"circle\"},\"mode\":\"markers\",\"name\":\"Canada\",\"showlegend\":true,\"type\":\"scattergeo\"},{\"geo\":\"geo\",\"hovertemplate\":\"country=%{location}<br>no_of_players=%{marker.size}<extra></extra>\",\"legendgroup\":\"Bosnia and Herzegovina\",\"locationmode\":\"country names\",\"locations\":[\"Bosnia and Herzegovina\"],\"marker\":{\"color\":\"#FECB52\",\"size\":[70],\"sizemode\":\"area\",\"sizeref\":4.295,\"symbol\":\"circle\"},\"mode\":\"markers\",\"name\":\"Bosnia and Herzegovina\",\"showlegend\":true,\"type\":\"scattergeo\"},{\"geo\":\"geo\",\"hovertemplate\":\"country=%{location}<br>no_of_players=%{marker.size}<extra></extra>\",\"legendgroup\":\"Ukraine\",\"locationmode\":\"country names\",\"locations\":[\"Ukraine\"],\"marker\":{\"color\":\"#636efa\",\"size\":[68],\"sizemode\":\"area\",\"sizeref\":4.295,\"symbol\":\"circle\"},\"mode\":\"markers\",\"name\":\"Ukraine\",\"showlegend\":true,\"type\":\"scattergeo\"},{\"geo\":\"geo\",\"hovertemplate\":\"country=%{location}<br>no_of_players=%{marker.size}<extra></extra>\",\"legendgroup\":\"Cameroon\",\"locationmode\":\"country names\",\"locations\":[\"Cameroon\"],\"marker\":{\"color\":\"#EF553B\",\"size\":[66],\"sizemode\":\"area\",\"sizeref\":4.295,\"symbol\":\"circle\"},\"mode\":\"markers\",\"name\":\"Cameroon\",\"showlegend\":true,\"type\":\"scattergeo\"},{\"geo\":\"geo\",\"hovertemplate\":\"country=%{location}<br>no_of_players=%{marker.size}<extra></extra>\",\"legendgroup\":\"Finland\",\"locationmode\":\"country names\",\"locations\":[\"Finland\"],\"marker\":{\"color\":\"#00cc96\",\"size\":[63],\"sizemode\":\"area\",\"sizeref\":4.295,\"symbol\":\"circle\"},\"mode\":\"markers\",\"name\":\"Finland\",\"showlegend\":true,\"type\":\"scattergeo\"},{\"geo\":\"geo\",\"hovertemplate\":\"country=%{location}<br>no_of_players=%{marker.size}<extra></extra>\",\"legendgroup\":\"South Africa\",\"locationmode\":\"country names\",\"locations\":[\"South Africa\"],\"marker\":{\"color\":\"#ab63fa\",\"size\":[63],\"sizemode\":\"area\",\"sizeref\":4.295,\"symbol\":\"circle\"},\"mode\":\"markers\",\"name\":\"South Africa\",\"showlegend\":true,\"type\":\"scattergeo\"},{\"geo\":\"geo\",\"hovertemplate\":\"country=%{location}<br>no_of_players=%{marker.size}<extra></extra>\",\"legendgroup\":\"Slovakia\",\"locationmode\":\"country names\",\"locations\":[\"Slovakia\"],\"marker\":{\"color\":\"#FFA15A\",\"size\":[62],\"sizemode\":\"area\",\"sizeref\":4.295,\"symbol\":\"circle\"},\"mode\":\"markers\",\"name\":\"Slovakia\",\"showlegend\":true,\"type\":\"scattergeo\"},{\"geo\":\"geo\",\"hovertemplate\":\"country=%{location}<br>no_of_players=%{marker.size}<extra></extra>\",\"legendgroup\":\"Mali\",\"locationmode\":\"country names\",\"locations\":[\"Mali\"],\"marker\":{\"color\":\"#19d3f3\",\"size\":[59],\"sizemode\":\"area\",\"sizeref\":4.295,\"symbol\":\"circle\"},\"mode\":\"markers\",\"name\":\"Mali\",\"showlegend\":true,\"type\":\"scattergeo\"},{\"geo\":\"geo\",\"hovertemplate\":\"country=%{location}<br>no_of_players=%{marker.size}<extra></extra>\",\"legendgroup\":\"Iceland\",\"locationmode\":\"country names\",\"locations\":[\"Iceland\"],\"marker\":{\"color\":\"#FF6692\",\"size\":[58],\"sizemode\":\"area\",\"sizeref\":4.295,\"symbol\":\"circle\"},\"mode\":\"markers\",\"name\":\"Iceland\",\"showlegend\":true,\"type\":\"scattergeo\"},{\"geo\":\"geo\",\"hovertemplate\":\"country=%{location}<br>no_of_players=%{marker.size}<extra></extra>\",\"legendgroup\":\"Congo DR\",\"locationmode\":\"country names\",\"locations\":[\"Congo DR\"],\"marker\":{\"color\":\"#B6E880\",\"size\":[55],\"sizemode\":\"area\",\"sizeref\":4.295,\"symbol\":\"circle\"},\"mode\":\"markers\",\"name\":\"Congo DR\",\"showlegend\":true,\"type\":\"scattergeo\"},{\"geo\":\"geo\",\"hovertemplate\":\"country=%{location}<br>no_of_players=%{marker.size}<extra></extra>\",\"legendgroup\":\"Slovenia\",\"locationmode\":\"country names\",\"locations\":[\"Slovenia\"],\"marker\":{\"color\":\"#FF97FF\",\"size\":[54],\"sizemode\":\"area\",\"sizeref\":4.295,\"symbol\":\"circle\"},\"mode\":\"markers\",\"name\":\"Slovenia\",\"showlegend\":true,\"type\":\"scattergeo\"},{\"geo\":\"geo\",\"hovertemplate\":\"country=%{location}<br>no_of_players=%{marker.size}<extra></extra>\",\"legendgroup\":\"Algeria\",\"locationmode\":\"country names\",\"locations\":[\"Algeria\"],\"marker\":{\"color\":\"#FECB52\",\"size\":[53],\"sizemode\":\"area\",\"sizeref\":4.295,\"symbol\":\"circle\"},\"mode\":\"markers\",\"name\":\"Algeria\",\"showlegend\":true,\"type\":\"scattergeo\"},{\"geo\":\"geo\",\"hovertemplate\":\"country=%{location}<br>no_of_players=%{marker.size}<extra></extra>\",\"legendgroup\":\"Albania\",\"locationmode\":\"country names\",\"locations\":[\"Albania\"],\"marker\":{\"color\":\"#636efa\",\"size\":[49],\"sizemode\":\"area\",\"sizeref\":4.295,\"symbol\":\"circle\"},\"mode\":\"markers\",\"name\":\"Albania\",\"showlegend\":true,\"type\":\"scattergeo\"},{\"geo\":\"geo\",\"hovertemplate\":\"country=%{location}<br>no_of_players=%{marker.size}<extra></extra>\",\"legendgroup\":\"Hungary\",\"locationmode\":\"country names\",\"locations\":[\"Hungary\"],\"marker\":{\"color\":\"#EF553B\",\"size\":[48],\"sizemode\":\"area\",\"sizeref\":4.295,\"symbol\":\"circle\"},\"mode\":\"markers\",\"name\":\"Hungary\",\"showlegend\":true,\"type\":\"scattergeo\"},{\"geo\":\"geo\",\"hovertemplate\":\"country=%{location}<br>no_of_players=%{marker.size}<extra></extra>\",\"legendgroup\":\"Kosovo\",\"locationmode\":\"country names\",\"locations\":[\"Kosovo\"],\"marker\":{\"color\":\"#00cc96\",\"size\":[46],\"sizemode\":\"area\",\"sizeref\":4.295,\"symbol\":\"circle\"},\"mode\":\"markers\",\"name\":\"Kosovo\",\"showlegend\":true,\"type\":\"scattergeo\"},{\"geo\":\"geo\",\"hovertemplate\":\"country=%{location}<br>no_of_players=%{marker.size}<extra></extra>\",\"legendgroup\":\"New Zealand\",\"locationmode\":\"country names\",\"locations\":[\"New Zealand\"],\"marker\":{\"color\":\"#ab63fa\",\"size\":[43],\"sizemode\":\"area\",\"sizeref\":4.295,\"symbol\":\"circle\"},\"mode\":\"markers\",\"name\":\"New Zealand\",\"showlegend\":true,\"type\":\"scattergeo\"},{\"geo\":\"geo\",\"hovertemplate\":\"country=%{location}<br>no_of_players=%{marker.size}<extra></extra>\",\"legendgroup\":\"Jamaica\",\"locationmode\":\"country names\",\"locations\":[\"Jamaica\"],\"marker\":{\"color\":\"#FFA15A\",\"size\":[37],\"sizemode\":\"area\",\"sizeref\":4.295,\"symbol\":\"circle\"},\"mode\":\"markers\",\"name\":\"Jamaica\",\"showlegend\":true,\"type\":\"scattergeo\"},{\"geo\":\"geo\",\"hovertemplate\":\"country=%{location}<br>no_of_players=%{marker.size}<extra></extra>\",\"legendgroup\":\"Guinea\",\"locationmode\":\"country names\",\"locations\":[\"Guinea\"],\"marker\":{\"color\":\"#19d3f3\",\"size\":[33],\"sizemode\":\"area\",\"sizeref\":4.295,\"symbol\":\"circle\"},\"mode\":\"markers\",\"name\":\"Guinea\",\"showlegend\":true,\"type\":\"scattergeo\"},{\"geo\":\"geo\",\"hovertemplate\":\"country=%{location}<br>no_of_players=%{marker.size}<extra></extra>\",\"legendgroup\":\"Tunisia\",\"locationmode\":\"country names\",\"locations\":[\"Tunisia\"],\"marker\":{\"color\":\"#FF6692\",\"size\":[32],\"sizemode\":\"area\",\"sizeref\":4.295,\"symbol\":\"circle\"},\"mode\":\"markers\",\"name\":\"Tunisia\",\"showlegend\":true,\"type\":\"scattergeo\"},{\"geo\":\"geo\",\"hovertemplate\":\"country=%{location}<br>no_of_players=%{marker.size}<extra></extra>\",\"legendgroup\":\"Gambia\",\"locationmode\":\"country names\",\"locations\":[\"Gambia\"],\"marker\":{\"color\":\"#B6E880\",\"size\":[27],\"sizemode\":\"area\",\"sizeref\":4.295,\"symbol\":\"circle\"},\"mode\":\"markers\",\"name\":\"Gambia\",\"showlegend\":true,\"type\":\"scattergeo\"},{\"geo\":\"geo\",\"hovertemplate\":\"country=%{location}<br>no_of_players=%{marker.size}<extra></extra>\",\"legendgroup\":\"Georgia\",\"locationmode\":\"country names\",\"locations\":[\"Georgia\"],\"marker\":{\"color\":\"#FF97FF\",\"size\":[26],\"sizemode\":\"area\",\"sizeref\":4.295,\"symbol\":\"circle\"},\"mode\":\"markers\",\"name\":\"Georgia\",\"showlegend\":true,\"type\":\"scattergeo\"},{\"geo\":\"geo\",\"hovertemplate\":\"country=%{location}<br>no_of_players=%{marker.size}<extra></extra>\",\"legendgroup\":\"North Macedonia\",\"locationmode\":\"country names\",\"locations\":[\"North Macedonia\"],\"marker\":{\"color\":\"#FECB52\",\"size\":[26],\"sizemode\":\"area\",\"sizeref\":4.295,\"symbol\":\"circle\"},\"mode\":\"markers\",\"name\":\"North Macedonia\",\"showlegend\":true,\"type\":\"scattergeo\"},{\"geo\":\"geo\",\"hovertemplate\":\"country=%{location}<br>no_of_players=%{marker.size}<extra></extra>\",\"legendgroup\":\"Bulgaria\",\"locationmode\":\"country names\",\"locations\":[\"Bulgaria\"],\"marker\":{\"color\":\"#636efa\",\"size\":[25],\"sizemode\":\"area\",\"sizeref\":4.295,\"symbol\":\"circle\"},\"mode\":\"markers\",\"name\":\"Bulgaria\",\"showlegend\":true,\"type\":\"scattergeo\"},{\"geo\":\"geo\",\"hovertemplate\":\"country=%{location}<br>no_of_players=%{marker.size}<extra></extra>\",\"legendgroup\":\"United Arab Emirates\",\"locationmode\":\"country names\",\"locations\":[\"United Arab Emirates\"],\"marker\":{\"color\":\"#EF553B\",\"size\":[24],\"sizemode\":\"area\",\"sizeref\":4.295,\"symbol\":\"circle\"},\"mode\":\"markers\",\"name\":\"United Arab Emirates\",\"showlegend\":true,\"type\":\"scattergeo\"},{\"geo\":\"geo\",\"hovertemplate\":\"country=%{location}<br>no_of_players=%{marker.size}<extra></extra>\",\"legendgroup\":\"Guinea Bissau\",\"locationmode\":\"country names\",\"locations\":[\"Guinea Bissau\"],\"marker\":{\"color\":\"#00cc96\",\"size\":[23],\"sizemode\":\"area\",\"sizeref\":4.295,\"symbol\":\"circle\"},\"mode\":\"markers\",\"name\":\"Guinea Bissau\",\"showlegend\":true,\"type\":\"scattergeo\"},{\"geo\":\"geo\",\"hovertemplate\":\"country=%{location}<br>no_of_players=%{marker.size}<extra></extra>\",\"legendgroup\":\"Cyprus\",\"locationmode\":\"country names\",\"locations\":[\"Cyprus\"],\"marker\":{\"color\":\"#ab63fa\",\"size\":[23],\"sizemode\":\"area\",\"sizeref\":4.295,\"symbol\":\"circle\"},\"mode\":\"markers\",\"name\":\"Cyprus\",\"showlegend\":true,\"type\":\"scattergeo\"},{\"geo\":\"geo\",\"hovertemplate\":\"country=%{location}<br>no_of_players=%{marker.size}<extra></extra>\",\"legendgroup\":\"Costa Rica\",\"locationmode\":\"country names\",\"locations\":[\"Costa Rica\"],\"marker\":{\"color\":\"#FFA15A\",\"size\":[23],\"sizemode\":\"area\",\"sizeref\":4.295,\"symbol\":\"circle\"},\"mode\":\"markers\",\"name\":\"Costa Rica\",\"showlegend\":true,\"type\":\"scattergeo\"},{\"geo\":\"geo\",\"hovertemplate\":\"country=%{location}<br>no_of_players=%{marker.size}<extra></extra>\",\"legendgroup\":\"Montenegro\",\"locationmode\":\"country names\",\"locations\":[\"Montenegro\"],\"marker\":{\"color\":\"#19d3f3\",\"size\":[23],\"sizemode\":\"area\",\"sizeref\":4.295,\"symbol\":\"circle\"},\"mode\":\"markers\",\"name\":\"Montenegro\",\"showlegend\":true,\"type\":\"scattergeo\"},{\"geo\":\"geo\",\"hovertemplate\":\"country=%{location}<br>no_of_players=%{marker.size}<extra></extra>\",\"legendgroup\":\"Israel\",\"locationmode\":\"country names\",\"locations\":[\"Israel\"],\"marker\":{\"color\":\"#FF6692\",\"size\":[23],\"sizemode\":\"area\",\"sizeref\":4.295,\"symbol\":\"circle\"},\"mode\":\"markers\",\"name\":\"Israel\",\"showlegend\":true,\"type\":\"scattergeo\"},{\"geo\":\"geo\",\"hovertemplate\":\"country=%{location}<br>no_of_players=%{marker.size}<extra></extra>\",\"legendgroup\":\"Cape Verde Islands\",\"locationmode\":\"country names\",\"locations\":[\"Cape Verde Islands\"],\"marker\":{\"color\":\"#B6E880\",\"size\":[22],\"sizemode\":\"area\",\"sizeref\":4.295,\"symbol\":\"circle\"},\"mode\":\"markers\",\"name\":\"Cape Verde Islands\",\"showlegend\":true,\"type\":\"scattergeo\"},{\"geo\":\"geo\",\"hovertemplate\":\"country=%{location}<br>no_of_players=%{marker.size}<extra></extra>\",\"legendgroup\":\"Iran\",\"locationmode\":\"country names\",\"locations\":[\"Iran\"],\"marker\":{\"color\":\"#FF97FF\",\"size\":[21],\"sizemode\":\"area\",\"sizeref\":4.295,\"symbol\":\"circle\"},\"mode\":\"markers\",\"name\":\"Iran\",\"showlegend\":true,\"type\":\"scattergeo\"},{\"geo\":\"geo\",\"hovertemplate\":\"country=%{location}<br>no_of_players=%{marker.size}<extra></extra>\",\"legendgroup\":\"Angola\",\"locationmode\":\"country names\",\"locations\":[\"Angola\"],\"marker\":{\"color\":\"#FECB52\",\"size\":[17],\"sizemode\":\"area\",\"sizeref\":4.295,\"symbol\":\"circle\"},\"mode\":\"markers\",\"name\":\"Angola\",\"showlegend\":true,\"type\":\"scattergeo\"},{\"geo\":\"geo\",\"hovertemplate\":\"country=%{location}<br>no_of_players=%{marker.size}<extra></extra>\",\"legendgroup\":\"Luxembourg\",\"locationmode\":\"country names\",\"locations\":[\"Luxembourg\"],\"marker\":{\"color\":\"#636efa\",\"size\":[16],\"sizemode\":\"area\",\"sizeref\":4.295,\"symbol\":\"circle\"},\"mode\":\"markers\",\"name\":\"Luxembourg\",\"showlegend\":true,\"type\":\"scattergeo\"},{\"geo\":\"geo\",\"hovertemplate\":\"country=%{location}<br>no_of_players=%{marker.size}<extra></extra>\",\"legendgroup\":\"Panama\",\"locationmode\":\"country names\",\"locations\":[\"Panama\"],\"marker\":{\"color\":\"#EF553B\",\"size\":[16],\"sizemode\":\"area\",\"sizeref\":4.295,\"symbol\":\"circle\"},\"mode\":\"markers\",\"name\":\"Panama\",\"showlegend\":true,\"type\":\"scattergeo\"},{\"geo\":\"geo\",\"hovertemplate\":\"country=%{location}<br>no_of_players=%{marker.size}<extra></extra>\",\"legendgroup\":\"Burkina Faso\",\"locationmode\":\"country names\",\"locations\":[\"Burkina Faso\"],\"marker\":{\"color\":\"#00cc96\",\"size\":[16],\"sizemode\":\"area\",\"sizeref\":4.295,\"symbol\":\"circle\"},\"mode\":\"markers\",\"name\":\"Burkina Faso\",\"showlegend\":true,\"type\":\"scattergeo\"},{\"geo\":\"geo\",\"hovertemplate\":\"country=%{location}<br>no_of_players=%{marker.size}<extra></extra>\",\"legendgroup\":\"Congo\",\"locationmode\":\"country names\",\"locations\":[\"Congo\"],\"marker\":{\"color\":\"#ab63fa\",\"size\":[15],\"sizemode\":\"area\",\"sizeref\":4.295,\"symbol\":\"circle\"},\"mode\":\"markers\",\"name\":\"Congo\",\"showlegend\":true,\"type\":\"scattergeo\"},{\"geo\":\"geo\",\"hovertemplate\":\"country=%{location}<br>no_of_players=%{marker.size}<extra></extra>\",\"legendgroup\":\"Gabon\",\"locationmode\":\"country names\",\"locations\":[\"Gabon\"],\"marker\":{\"color\":\"#FFA15A\",\"size\":[12],\"sizemode\":\"area\",\"sizeref\":4.295,\"symbol\":\"circle\"},\"mode\":\"markers\",\"name\":\"Gabon\",\"showlegend\":true,\"type\":\"scattergeo\"},{\"geo\":\"geo\",\"hovertemplate\":\"country=%{location}<br>no_of_players=%{marker.size}<extra></extra>\",\"legendgroup\":\"Togo\",\"locationmode\":\"country names\",\"locations\":[\"Togo\"],\"marker\":{\"color\":\"#19d3f3\",\"size\":[12],\"sizemode\":\"area\",\"sizeref\":4.295,\"symbol\":\"circle\"},\"mode\":\"markers\",\"name\":\"Togo\",\"showlegend\":true,\"type\":\"scattergeo\"},{\"geo\":\"geo\",\"hovertemplate\":\"country=%{location}<br>no_of_players=%{marker.size}<extra></extra>\",\"legendgroup\":\"Suriname\",\"locationmode\":\"country names\",\"locations\":[\"Suriname\"],\"marker\":{\"color\":\"#FF6692\",\"size\":[12],\"sizemode\":\"area\",\"sizeref\":4.295,\"symbol\":\"circle\"},\"mode\":\"markers\",\"name\":\"Suriname\",\"showlegend\":true,\"type\":\"scattergeo\"},{\"geo\":\"geo\",\"hovertemplate\":\"country=%{location}<br>no_of_players=%{marker.size}<extra></extra>\",\"legendgroup\":\"Honduras\",\"locationmode\":\"country names\",\"locations\":[\"Honduras\"],\"marker\":{\"color\":\"#B6E880\",\"size\":[12],\"sizemode\":\"area\",\"sizeref\":4.295,\"symbol\":\"circle\"},\"mode\":\"markers\",\"name\":\"Honduras\",\"showlegend\":true,\"type\":\"scattergeo\"},{\"geo\":\"geo\",\"hovertemplate\":\"country=%{location}<br>no_of_players=%{marker.size}<extra></extra>\",\"legendgroup\":\"Zimbabwe\",\"locationmode\":\"country names\",\"locations\":[\"Zimbabwe\"],\"marker\":{\"color\":\"#FF97FF\",\"size\":[12],\"sizemode\":\"area\",\"sizeref\":4.295,\"symbol\":\"circle\"},\"mode\":\"markers\",\"name\":\"Zimbabwe\",\"showlegend\":true,\"type\":\"scattergeo\"},{\"geo\":\"geo\",\"hovertemplate\":\"country=%{location}<br>no_of_players=%{marker.size}<extra></extra>\",\"legendgroup\":\"Curacao\",\"locationmode\":\"country names\",\"locations\":[\"Curacao\"],\"marker\":{\"color\":\"#FECB52\",\"size\":[11],\"sizemode\":\"area\",\"sizeref\":4.295,\"symbol\":\"circle\"},\"mode\":\"markers\",\"name\":\"Curacao\",\"showlegend\":true,\"type\":\"scattergeo\"},{\"geo\":\"geo\",\"hovertemplate\":\"country=%{location}<br>no_of_players=%{marker.size}<extra></extra>\",\"legendgroup\":\"Egypt\",\"locationmode\":\"country names\",\"locations\":[\"Egypt\"],\"marker\":{\"color\":\"#636efa\",\"size\":[11],\"sizemode\":\"area\",\"sizeref\":4.295,\"symbol\":\"circle\"},\"mode\":\"markers\",\"name\":\"Egypt\",\"showlegend\":true,\"type\":\"scattergeo\"},{\"geo\":\"geo\",\"hovertemplate\":\"country=%{location}<br>no_of_players=%{marker.size}<extra></extra>\",\"legendgroup\":\"Zambia\",\"locationmode\":\"country names\",\"locations\":[\"Zambia\"],\"marker\":{\"color\":\"#EF553B\",\"size\":[10],\"sizemode\":\"area\",\"sizeref\":4.295,\"symbol\":\"circle\"},\"mode\":\"markers\",\"name\":\"Zambia\",\"showlegend\":true,\"type\":\"scattergeo\"},{\"geo\":\"geo\",\"hovertemplate\":\"country=%{location}<br>no_of_players=%{marker.size}<extra></extra>\",\"legendgroup\":\"Sierra Leone\",\"locationmode\":\"country names\",\"locations\":[\"Sierra Leone\"],\"marker\":{\"color\":\"#00cc96\",\"size\":[10],\"sizemode\":\"area\",\"sizeref\":4.295,\"symbol\":\"circle\"},\"mode\":\"markers\",\"name\":\"Sierra Leone\",\"showlegend\":true,\"type\":\"scattergeo\"},{\"geo\":\"geo\",\"hovertemplate\":\"country=%{location}<br>no_of_players=%{marker.size}<extra></extra>\",\"legendgroup\":\"Benin\",\"locationmode\":\"country names\",\"locations\":[\"Benin\"],\"marker\":{\"color\":\"#ab63fa\",\"size\":[10],\"sizemode\":\"area\",\"sizeref\":4.295,\"symbol\":\"circle\"},\"mode\":\"markers\",\"name\":\"Benin\",\"showlegend\":true,\"type\":\"scattergeo\"},{\"geo\":\"geo\",\"hovertemplate\":\"country=%{location}<br>no_of_players=%{marker.size}<extra></extra>\",\"legendgroup\":\"Haiti\",\"locationmode\":\"country names\",\"locations\":[\"Haiti\"],\"marker\":{\"color\":\"#FFA15A\",\"size\":[10],\"sizemode\":\"area\",\"sizeref\":4.295,\"symbol\":\"circle\"},\"mode\":\"markers\",\"name\":\"Haiti\",\"showlegend\":true,\"type\":\"scattergeo\"},{\"geo\":\"geo\",\"hovertemplate\":\"country=%{location}<br>no_of_players=%{marker.size}<extra></extra>\",\"legendgroup\":\"Burundi\",\"locationmode\":\"country names\",\"locations\":[\"Burundi\"],\"marker\":{\"color\":\"#19d3f3\",\"size\":[9],\"sizemode\":\"area\",\"sizeref\":4.295,\"symbol\":\"circle\"},\"mode\":\"markers\",\"name\":\"Burundi\",\"showlegend\":true,\"type\":\"scattergeo\"},{\"geo\":\"geo\",\"hovertemplate\":\"country=%{location}<br>no_of_players=%{marker.size}<extra></extra>\",\"legendgroup\":\"Madagascar\",\"locationmode\":\"country names\",\"locations\":[\"Madagascar\"],\"marker\":{\"color\":\"#FF6692\",\"size\":[8],\"sizemode\":\"area\",\"sizeref\":4.295,\"symbol\":\"circle\"},\"mode\":\"markers\",\"name\":\"Madagascar\",\"showlegend\":true,\"type\":\"scattergeo\"},{\"geo\":\"geo\",\"hovertemplate\":\"country=%{location}<br>no_of_players=%{marker.size}<extra></extra>\",\"legendgroup\":\"Azerbaijan\",\"locationmode\":\"country names\",\"locations\":[\"Azerbaijan\"],\"marker\":{\"color\":\"#B6E880\",\"size\":[8],\"sizemode\":\"area\",\"sizeref\":4.295,\"symbol\":\"circle\"},\"mode\":\"markers\",\"name\":\"Azerbaijan\",\"showlegend\":true,\"type\":\"scattergeo\"},{\"geo\":\"geo\",\"hovertemplate\":\"country=%{location}<br>no_of_players=%{marker.size}<extra></extra>\",\"legendgroup\":\"Lithuania\",\"locationmode\":\"country names\",\"locations\":[\"Lithuania\"],\"marker\":{\"color\":\"#FF97FF\",\"size\":[8],\"sizemode\":\"area\",\"sizeref\":4.295,\"symbol\":\"circle\"},\"mode\":\"markers\",\"name\":\"Lithuania\",\"showlegend\":true,\"type\":\"scattergeo\"},{\"geo\":\"geo\",\"hovertemplate\":\"country=%{location}<br>no_of_players=%{marker.size}<extra></extra>\",\"legendgroup\":\"Comoros\",\"locationmode\":\"country names\",\"locations\":[\"Comoros\"],\"marker\":{\"color\":\"#FECB52\",\"size\":[8],\"sizemode\":\"area\",\"sizeref\":4.295,\"symbol\":\"circle\"},\"mode\":\"markers\",\"name\":\"Comoros\",\"showlegend\":true,\"type\":\"scattergeo\"},{\"geo\":\"geo\",\"hovertemplate\":\"country=%{location}<br>no_of_players=%{marker.size}<extra></extra>\",\"legendgroup\":\"Uganda\",\"locationmode\":\"country names\",\"locations\":[\"Uganda\"],\"marker\":{\"color\":\"#636efa\",\"size\":[8],\"sizemode\":\"area\",\"sizeref\":4.295,\"symbol\":\"circle\"},\"mode\":\"markers\",\"name\":\"Uganda\",\"showlegend\":true,\"type\":\"scattergeo\"},{\"geo\":\"geo\",\"hovertemplate\":\"country=%{location}<br>no_of_players=%{marker.size}<extra></extra>\",\"legendgroup\":\"Moldova\",\"locationmode\":\"country names\",\"locations\":[\"Moldova\"],\"marker\":{\"color\":\"#EF553B\",\"size\":[8],\"sizemode\":\"area\",\"sizeref\":4.295,\"symbol\":\"circle\"},\"mode\":\"markers\",\"name\":\"Moldova\",\"showlegend\":true,\"type\":\"scattergeo\"},{\"geo\":\"geo\",\"hovertemplate\":\"country=%{location}<br>no_of_players=%{marker.size}<extra></extra>\",\"legendgroup\":\"Kenya\",\"locationmode\":\"country names\",\"locations\":[\"Kenya\"],\"marker\":{\"color\":\"#00cc96\",\"size\":[7],\"sizemode\":\"area\",\"sizeref\":4.295,\"symbol\":\"circle\"},\"mode\":\"markers\",\"name\":\"Kenya\",\"showlegend\":true,\"type\":\"scattergeo\"},{\"geo\":\"geo\",\"hovertemplate\":\"country=%{location}<br>no_of_players=%{marker.size}<extra></extra>\",\"legendgroup\":\"Trinidad and Tobago\",\"locationmode\":\"country names\",\"locations\":[\"Trinidad and Tobago\"],\"marker\":{\"color\":\"#ab63fa\",\"size\":[7],\"sizemode\":\"area\",\"sizeref\":4.295,\"symbol\":\"circle\"},\"mode\":\"markers\",\"name\":\"Trinidad and Tobago\",\"showlegend\":true,\"type\":\"scattergeo\"},{\"geo\":\"geo\",\"hovertemplate\":\"country=%{location}<br>no_of_players=%{marker.size}<extra></extra>\",\"legendgroup\":\"Armenia\",\"locationmode\":\"country names\",\"locations\":[\"Armenia\"],\"marker\":{\"color\":\"#FFA15A\",\"size\":[7],\"sizemode\":\"area\",\"sizeref\":4.295,\"symbol\":\"circle\"},\"mode\":\"markers\",\"name\":\"Armenia\",\"showlegend\":true,\"type\":\"scattergeo\"},{\"geo\":\"geo\",\"hovertemplate\":\"country=%{location}<br>no_of_players=%{marker.size}<extra></extra>\",\"legendgroup\":\"Latvia\",\"locationmode\":\"country names\",\"locations\":[\"Latvia\"],\"marker\":{\"color\":\"#19d3f3\",\"size\":[7],\"sizemode\":\"area\",\"sizeref\":4.295,\"symbol\":\"circle\"},\"mode\":\"markers\",\"name\":\"Latvia\",\"showlegend\":true,\"type\":\"scattergeo\"},{\"geo\":\"geo\",\"hovertemplate\":\"country=%{location}<br>no_of_players=%{marker.size}<extra></extra>\",\"legendgroup\":\"Guyana\",\"locationmode\":\"country names\",\"locations\":[\"Guyana\"],\"marker\":{\"color\":\"#FF6692\",\"size\":[7],\"sizemode\":\"area\",\"sizeref\":4.295,\"symbol\":\"circle\"},\"mode\":\"markers\",\"name\":\"Guyana\",\"showlegend\":true,\"type\":\"scattergeo\"},{\"geo\":\"geo\",\"hovertemplate\":\"country=%{location}<br>no_of_players=%{marker.size}<extra></extra>\",\"legendgroup\":\"Philippines\",\"locationmode\":\"country names\",\"locations\":[\"Philippines\"],\"marker\":{\"color\":\"#B6E880\",\"size\":[6],\"sizemode\":\"area\",\"sizeref\":4.295,\"symbol\":\"circle\"},\"mode\":\"markers\",\"name\":\"Philippines\",\"showlegend\":true,\"type\":\"scattergeo\"},{\"geo\":\"geo\",\"hovertemplate\":\"country=%{location}<br>no_of_players=%{marker.size}<extra></extra>\",\"legendgroup\":\"Thailand\",\"locationmode\":\"country names\",\"locations\":[\"Thailand\"],\"marker\":{\"color\":\"#FF97FF\",\"size\":[6],\"sizemode\":\"area\",\"sizeref\":4.295,\"symbol\":\"circle\"},\"mode\":\"markers\",\"name\":\"Thailand\",\"showlegend\":true,\"type\":\"scattergeo\"},{\"geo\":\"geo\",\"hovertemplate\":\"country=%{location}<br>no_of_players=%{marker.size}<extra></extra>\",\"legendgroup\":\"Liberia\",\"locationmode\":\"country names\",\"locations\":[\"Liberia\"],\"marker\":{\"color\":\"#FECB52\",\"size\":[6],\"sizemode\":\"area\",\"sizeref\":4.295,\"symbol\":\"circle\"},\"mode\":\"markers\",\"name\":\"Liberia\",\"showlegend\":true,\"type\":\"scattergeo\"},{\"geo\":\"geo\",\"hovertemplate\":\"country=%{location}<br>no_of_players=%{marker.size}<extra></extra>\",\"legendgroup\":\"Grenada\",\"locationmode\":\"country names\",\"locations\":[\"Grenada\"],\"marker\":{\"color\":\"#636efa\",\"size\":[6],\"sizemode\":\"area\",\"sizeref\":4.295,\"symbol\":\"circle\"},\"mode\":\"markers\",\"name\":\"Grenada\",\"showlegend\":true,\"type\":\"scattergeo\"},{\"geo\":\"geo\",\"hovertemplate\":\"country=%{location}<br>no_of_players=%{marker.size}<extra></extra>\",\"legendgroup\":\"Uzbekistan\",\"locationmode\":\"country names\",\"locations\":[\"Uzbekistan\"],\"marker\":{\"color\":\"#EF553B\",\"size\":[6],\"sizemode\":\"area\",\"sizeref\":4.295,\"symbol\":\"circle\"},\"mode\":\"markers\",\"name\":\"Uzbekistan\",\"showlegend\":true,\"type\":\"scattergeo\"},{\"geo\":\"geo\",\"hovertemplate\":\"country=%{location}<br>no_of_players=%{marker.size}<extra></extra>\",\"legendgroup\":\"Saint Kitts and Nevis\",\"locationmode\":\"country names\",\"locations\":[\"Saint Kitts and Nevis\"],\"marker\":{\"color\":\"#00cc96\",\"size\":[5],\"sizemode\":\"area\",\"sizeref\":4.295,\"symbol\":\"circle\"},\"mode\":\"markers\",\"name\":\"Saint Kitts and Nevis\",\"showlegend\":true,\"type\":\"scattergeo\"},{\"geo\":\"geo\",\"hovertemplate\":\"country=%{location}<br>no_of_players=%{marker.size}<extra></extra>\",\"legendgroup\":\"South Sudan\",\"locationmode\":\"country names\",\"locations\":[\"South Sudan\"],\"marker\":{\"color\":\"#ab63fa\",\"size\":[5],\"sizemode\":\"area\",\"sizeref\":4.295,\"symbol\":\"circle\"},\"mode\":\"markers\",\"name\":\"South Sudan\",\"showlegend\":true,\"type\":\"scattergeo\"},{\"geo\":\"geo\",\"hovertemplate\":\"country=%{location}<br>no_of_players=%{marker.size}<extra></extra>\",\"legendgroup\":\"Montserrat\",\"locationmode\":\"country names\",\"locations\":[\"Montserrat\"],\"marker\":{\"color\":\"#FFA15A\",\"size\":[5],\"sizemode\":\"area\",\"sizeref\":4.295,\"symbol\":\"circle\"},\"mode\":\"markers\",\"name\":\"Montserrat\",\"showlegend\":true,\"type\":\"scattergeo\"},{\"geo\":\"geo\",\"hovertemplate\":\"country=%{location}<br>no_of_players=%{marker.size}<extra></extra>\",\"legendgroup\":\"El Salvador\",\"locationmode\":\"country names\",\"locations\":[\"El Salvador\"],\"marker\":{\"color\":\"#19d3f3\",\"size\":[4],\"sizemode\":\"area\",\"sizeref\":4.295,\"symbol\":\"circle\"},\"mode\":\"markers\",\"name\":\"El Salvador\",\"showlegend\":true,\"type\":\"scattergeo\"},{\"geo\":\"geo\",\"hovertemplate\":\"country=%{location}<br>no_of_players=%{marker.size}<extra></extra>\",\"legendgroup\":\"Mauritania\",\"locationmode\":\"country names\",\"locations\":[\"Mauritania\"],\"marker\":{\"color\":\"#FF6692\",\"size\":[4],\"sizemode\":\"area\",\"sizeref\":4.295,\"symbol\":\"circle\"},\"mode\":\"markers\",\"name\":\"Mauritania\",\"showlegend\":true,\"type\":\"scattergeo\"},{\"geo\":\"geo\",\"hovertemplate\":\"country=%{location}<br>no_of_players=%{marker.size}<extra></extra>\",\"legendgroup\":\"Iraq\",\"locationmode\":\"country names\",\"locations\":[\"Iraq\"],\"marker\":{\"color\":\"#B6E880\",\"size\":[4],\"sizemode\":\"area\",\"sizeref\":4.295,\"symbol\":\"circle\"},\"mode\":\"markers\",\"name\":\"Iraq\",\"showlegend\":true,\"type\":\"scattergeo\"},{\"geo\":\"geo\",\"hovertemplate\":\"country=%{location}<br>no_of_players=%{marker.size}<extra></extra>\",\"legendgroup\":\"Belarus\",\"locationmode\":\"country names\",\"locations\":[\"Belarus\"],\"marker\":{\"color\":\"#FF97FF\",\"size\":[4],\"sizemode\":\"area\",\"sizeref\":4.295,\"symbol\":\"circle\"},\"mode\":\"markers\",\"name\":\"Belarus\",\"showlegend\":true,\"type\":\"scattergeo\"},{\"geo\":\"geo\",\"hovertemplate\":\"country=%{location}<br>no_of_players=%{marker.size}<extra></extra>\",\"legendgroup\":\"Dominican Republic\",\"locationmode\":\"country names\",\"locations\":[\"Dominican Republic\"],\"marker\":{\"color\":\"#FECB52\",\"size\":[4],\"sizemode\":\"area\",\"sizeref\":4.295,\"symbol\":\"circle\"},\"mode\":\"markers\",\"name\":\"Dominican Republic\",\"showlegend\":true,\"type\":\"scattergeo\"},{\"geo\":\"geo\",\"hovertemplate\":\"country=%{location}<br>no_of_players=%{marker.size}<extra></extra>\",\"legendgroup\":\"Mozambique\",\"locationmode\":\"country names\",\"locations\":[\"Mozambique\"],\"marker\":{\"color\":\"#636efa\",\"size\":[4],\"sizemode\":\"area\",\"sizeref\":4.295,\"symbol\":\"circle\"},\"mode\":\"markers\",\"name\":\"Mozambique\",\"showlegend\":true,\"type\":\"scattergeo\"},{\"geo\":\"geo\",\"hovertemplate\":\"country=%{location}<br>no_of_players=%{marker.size}<extra></extra>\",\"legendgroup\":\"Equatorial Guinea\",\"locationmode\":\"country names\",\"locations\":[\"Equatorial Guinea\"],\"marker\":{\"color\":\"#EF553B\",\"size\":[4],\"sizemode\":\"area\",\"sizeref\":4.295,\"symbol\":\"circle\"},\"mode\":\"markers\",\"name\":\"Equatorial Guinea\",\"showlegend\":true,\"type\":\"scattergeo\"},{\"geo\":\"geo\",\"hovertemplate\":\"country=%{location}<br>no_of_players=%{marker.size}<extra></extra>\",\"legendgroup\":\"Kazakhstan\",\"locationmode\":\"country names\",\"locations\":[\"Kazakhstan\"],\"marker\":{\"color\":\"#00cc96\",\"size\":[3],\"sizemode\":\"area\",\"sizeref\":4.295,\"symbol\":\"circle\"},\"mode\":\"markers\",\"name\":\"Kazakhstan\",\"showlegend\":true,\"type\":\"scattergeo\"},{\"geo\":\"geo\",\"hovertemplate\":\"country=%{location}<br>no_of_players=%{marker.size}<extra></extra>\",\"legendgroup\":\"Faroe Islands\",\"locationmode\":\"country names\",\"locations\":[\"Faroe Islands\"],\"marker\":{\"color\":\"#ab63fa\",\"size\":[3],\"sizemode\":\"area\",\"sizeref\":4.295,\"symbol\":\"circle\"},\"mode\":\"markers\",\"name\":\"Faroe Islands\",\"showlegend\":true,\"type\":\"scattergeo\"},{\"geo\":\"geo\",\"hovertemplate\":\"country=%{location}<br>no_of_players=%{marker.size}<extra></extra>\",\"legendgroup\":\"Antigua and Barbuda\",\"locationmode\":\"country names\",\"locations\":[\"Antigua and Barbuda\"],\"marker\":{\"color\":\"#FFA15A\",\"size\":[3],\"sizemode\":\"area\",\"sizeref\":4.295,\"symbol\":\"circle\"},\"mode\":\"markers\",\"name\":\"Antigua and Barbuda\",\"showlegend\":true,\"type\":\"scattergeo\"},{\"geo\":\"geo\",\"hovertemplate\":\"country=%{location}<br>no_of_players=%{marker.size}<extra></extra>\",\"legendgroup\":\"Central African Republic\",\"locationmode\":\"country names\",\"locations\":[\"Central African Republic\"],\"marker\":{\"color\":\"#19d3f3\",\"size\":[3],\"sizemode\":\"area\",\"sizeref\":4.295,\"symbol\":\"circle\"},\"mode\":\"markers\",\"name\":\"Central African Republic\",\"showlegend\":true,\"type\":\"scattergeo\"},{\"geo\":\"geo\",\"hovertemplate\":\"country=%{location}<br>no_of_players=%{marker.size}<extra></extra>\",\"legendgroup\":\"Malta\",\"locationmode\":\"country names\",\"locations\":[\"Malta\"],\"marker\":{\"color\":\"#FF6692\",\"size\":[3],\"sizemode\":\"area\",\"sizeref\":4.295,\"symbol\":\"circle\"},\"mode\":\"markers\",\"name\":\"Malta\",\"showlegend\":true,\"type\":\"scattergeo\"},{\"geo\":\"geo\",\"hovertemplate\":\"country=%{location}<br>no_of_players=%{marker.size}<extra></extra>\",\"legendgroup\":\"Jordan\",\"locationmode\":\"country names\",\"locations\":[\"Jordan\"],\"marker\":{\"color\":\"#B6E880\",\"size\":[3],\"sizemode\":\"area\",\"sizeref\":4.295,\"symbol\":\"circle\"},\"mode\":\"markers\",\"name\":\"Jordan\",\"showlegend\":true,\"type\":\"scattergeo\"},{\"geo\":\"geo\",\"hovertemplate\":\"country=%{location}<br>no_of_players=%{marker.size}<extra></extra>\",\"legendgroup\":\"Namibia\",\"locationmode\":\"country names\",\"locations\":[\"Namibia\"],\"marker\":{\"color\":\"#FF97FF\",\"size\":[3],\"sizemode\":\"area\",\"sizeref\":4.295,\"symbol\":\"circle\"},\"mode\":\"markers\",\"name\":\"Namibia\",\"showlegend\":true,\"type\":\"scattergeo\"},{\"geo\":\"geo\",\"hovertemplate\":\"country=%{location}<br>no_of_players=%{marker.size}<extra></extra>\",\"legendgroup\":\"Cuba\",\"locationmode\":\"country names\",\"locations\":[\"Cuba\"],\"marker\":{\"color\":\"#FECB52\",\"size\":[3],\"sizemode\":\"area\",\"sizeref\":4.295,\"symbol\":\"circle\"},\"mode\":\"markers\",\"name\":\"Cuba\",\"showlegend\":true,\"type\":\"scattergeo\"},{\"geo\":\"geo\",\"hovertemplate\":\"country=%{location}<br>no_of_players=%{marker.size}<extra></extra>\",\"legendgroup\":\"Libya\",\"locationmode\":\"country names\",\"locations\":[\"Libya\"],\"marker\":{\"color\":\"#636efa\",\"size\":[3],\"sizemode\":\"area\",\"sizeref\":4.295,\"symbol\":\"circle\"},\"mode\":\"markers\",\"name\":\"Libya\",\"showlegend\":true,\"type\":\"scattergeo\"},{\"geo\":\"geo\",\"hovertemplate\":\"country=%{location}<br>no_of_players=%{marker.size}<extra></extra>\",\"legendgroup\":\"Niger\",\"locationmode\":\"country names\",\"locations\":[\"Niger\"],\"marker\":{\"color\":\"#EF553B\",\"size\":[3],\"sizemode\":\"area\",\"sizeref\":4.295,\"symbol\":\"circle\"},\"mode\":\"markers\",\"name\":\"Niger\",\"showlegend\":true,\"type\":\"scattergeo\"},{\"geo\":\"geo\",\"hovertemplate\":\"country=%{location}<br>no_of_players=%{marker.size}<extra></extra>\",\"legendgroup\":\"Sudan\",\"locationmode\":\"country names\",\"locations\":[\"Sudan\"],\"marker\":{\"color\":\"#00cc96\",\"size\":[3],\"sizemode\":\"area\",\"sizeref\":4.295,\"symbol\":\"circle\"},\"mode\":\"markers\",\"name\":\"Sudan\",\"showlegend\":true,\"type\":\"scattergeo\"},{\"geo\":\"geo\",\"hovertemplate\":\"country=%{location}<br>no_of_players=%{marker.size}<extra></extra>\",\"legendgroup\":\"Lebanon\",\"locationmode\":\"country names\",\"locations\":[\"Lebanon\"],\"marker\":{\"color\":\"#ab63fa\",\"size\":[2],\"sizemode\":\"area\",\"sizeref\":4.295,\"symbol\":\"circle\"},\"mode\":\"markers\",\"name\":\"Lebanon\",\"showlegend\":true,\"type\":\"scattergeo\"},{\"geo\":\"geo\",\"hovertemplate\":\"country=%{location}<br>no_of_players=%{marker.size}<extra></extra>\",\"legendgroup\":\"Palestine\",\"locationmode\":\"country names\",\"locations\":[\"Palestine\"],\"marker\":{\"color\":\"#FFA15A\",\"size\":[2],\"sizemode\":\"area\",\"sizeref\":4.295,\"symbol\":\"circle\"},\"mode\":\"markers\",\"name\":\"Palestine\",\"showlegend\":true,\"type\":\"scattergeo\"},{\"geo\":\"geo\",\"hovertemplate\":\"country=%{location}<br>no_of_players=%{marker.size}<extra></extra>\",\"legendgroup\":\"Guatemala\",\"locationmode\":\"country names\",\"locations\":[\"Guatemala\"],\"marker\":{\"color\":\"#19d3f3\",\"size\":[2],\"sizemode\":\"area\",\"sizeref\":4.295,\"symbol\":\"circle\"},\"mode\":\"markers\",\"name\":\"Guatemala\",\"showlegend\":true,\"type\":\"scattergeo\"},{\"geo\":\"geo\",\"hovertemplate\":\"country=%{location}<br>no_of_players=%{marker.size}<extra></extra>\",\"legendgroup\":\"Puerto Rico\",\"locationmode\":\"country names\",\"locations\":[\"Puerto Rico\"],\"marker\":{\"color\":\"#FF6692\",\"size\":[2],\"sizemode\":\"area\",\"sizeref\":4.295,\"symbol\":\"circle\"},\"mode\":\"markers\",\"name\":\"Puerto Rico\",\"showlegend\":true,\"type\":\"scattergeo\"},{\"geo\":\"geo\",\"hovertemplate\":\"country=%{location}<br>no_of_players=%{marker.size}<extra></extra>\",\"legendgroup\":\"Syria\",\"locationmode\":\"country names\",\"locations\":[\"Syria\"],\"marker\":{\"color\":\"#B6E880\",\"size\":[2],\"sizemode\":\"area\",\"sizeref\":4.295,\"symbol\":\"circle\"},\"mode\":\"markers\",\"name\":\"Syria\",\"showlegend\":true,\"type\":\"scattergeo\"},{\"geo\":\"geo\",\"hovertemplate\":\"country=%{location}<br>no_of_players=%{marker.size}<extra></extra>\",\"legendgroup\":\"Malaysia\",\"locationmode\":\"country names\",\"locations\":[\"Malaysia\"],\"marker\":{\"color\":\"#FF97FF\",\"size\":[2],\"sizemode\":\"area\",\"sizeref\":4.295,\"symbol\":\"circle\"},\"mode\":\"markers\",\"name\":\"Malaysia\",\"showlegend\":true,\"type\":\"scattergeo\"},{\"geo\":\"geo\",\"hovertemplate\":\"country=%{location}<br>no_of_players=%{marker.size}<extra></extra>\",\"legendgroup\":\"Chad\",\"locationmode\":\"country names\",\"locations\":[\"Chad\"],\"marker\":{\"color\":\"#FECB52\",\"size\":[2],\"sizemode\":\"area\",\"sizeref\":4.295,\"symbol\":\"circle\"},\"mode\":\"markers\",\"name\":\"Chad\",\"showlegend\":true,\"type\":\"scattergeo\"},{\"geo\":\"geo\",\"hovertemplate\":\"country=%{location}<br>no_of_players=%{marker.size}<extra></extra>\",\"legendgroup\":\"Estonia\",\"locationmode\":\"country names\",\"locations\":[\"Estonia\"],\"marker\":{\"color\":\"#636efa\",\"size\":[2],\"sizemode\":\"area\",\"sizeref\":4.295,\"symbol\":\"circle\"},\"mode\":\"markers\",\"name\":\"Estonia\",\"showlegend\":true,\"type\":\"scattergeo\"},{\"geo\":\"geo\",\"hovertemplate\":\"country=%{location}<br>no_of_players=%{marker.size}<extra></extra>\",\"legendgroup\":\"Hong Kong\",\"locationmode\":\"country names\",\"locations\":[\"Hong Kong\"],\"marker\":{\"color\":\"#EF553B\",\"size\":[2],\"sizemode\":\"area\",\"sizeref\":4.295,\"symbol\":\"circle\"},\"mode\":\"markers\",\"name\":\"Hong Kong\",\"showlegend\":true,\"type\":\"scattergeo\"},{\"geo\":\"geo\",\"hovertemplate\":\"country=%{location}<br>no_of_players=%{marker.size}<extra></extra>\",\"legendgroup\":\"Chinese Taipei\",\"locationmode\":\"country names\",\"locations\":[\"Chinese Taipei\"],\"marker\":{\"color\":\"#00cc96\",\"size\":[2],\"sizemode\":\"area\",\"sizeref\":4.295,\"symbol\":\"circle\"},\"mode\":\"markers\",\"name\":\"Chinese Taipei\",\"showlegend\":true,\"type\":\"scattergeo\"},{\"geo\":\"geo\",\"hovertemplate\":\"country=%{location}<br>no_of_players=%{marker.size}<extra></extra>\",\"legendgroup\":\"Gibraltar\",\"locationmode\":\"country names\",\"locations\":[\"Gibraltar\"],\"marker\":{\"color\":\"#ab63fa\",\"size\":[1],\"sizemode\":\"area\",\"sizeref\":4.295,\"symbol\":\"circle\"},\"mode\":\"markers\",\"name\":\"Gibraltar\",\"showlegend\":true,\"type\":\"scattergeo\"},{\"geo\":\"geo\",\"hovertemplate\":\"country=%{location}<br>no_of_players=%{marker.size}<extra></extra>\",\"legendgroup\":\"Saint Lucia\",\"locationmode\":\"country names\",\"locations\":[\"Saint Lucia\"],\"marker\":{\"color\":\"#FFA15A\",\"size\":[1],\"sizemode\":\"area\",\"sizeref\":4.295,\"symbol\":\"circle\"},\"mode\":\"markers\",\"name\":\"Saint Lucia\",\"showlegend\":true,\"type\":\"scattergeo\"},{\"geo\":\"geo\",\"hovertemplate\":\"country=%{location}<br>no_of_players=%{marker.size}<extra></extra>\",\"legendgroup\":\"Bhutan\",\"locationmode\":\"country names\",\"locations\":[\"Bhutan\"],\"marker\":{\"color\":\"#19d3f3\",\"size\":[1],\"sizemode\":\"area\",\"sizeref\":4.295,\"symbol\":\"circle\"},\"mode\":\"markers\",\"name\":\"Bhutan\",\"showlegend\":true,\"type\":\"scattergeo\"},{\"geo\":\"geo\",\"hovertemplate\":\"country=%{location}<br>no_of_players=%{marker.size}<extra></extra>\",\"legendgroup\":\"Barbados\",\"locationmode\":\"country names\",\"locations\":[\"Barbados\"],\"marker\":{\"color\":\"#FF6692\",\"size\":[1],\"sizemode\":\"area\",\"sizeref\":4.295,\"symbol\":\"circle\"},\"mode\":\"markers\",\"name\":\"Barbados\",\"showlegend\":true,\"type\":\"scattergeo\"},{\"geo\":\"geo\",\"hovertemplate\":\"country=%{location}<br>no_of_players=%{marker.size}<extra></extra>\",\"legendgroup\":\"Belize\",\"locationmode\":\"country names\",\"locations\":[\"Belize\"],\"marker\":{\"color\":\"#B6E880\",\"size\":[1],\"sizemode\":\"area\",\"sizeref\":4.295,\"symbol\":\"circle\"},\"mode\":\"markers\",\"name\":\"Belize\",\"showlegend\":true,\"type\":\"scattergeo\"},{\"geo\":\"geo\",\"hovertemplate\":\"country=%{location}<br>no_of_players=%{marker.size}<extra></extra>\",\"legendgroup\":\"Korea DPR\",\"locationmode\":\"country names\",\"locations\":[\"Korea DPR\"],\"marker\":{\"color\":\"#FF97FF\",\"size\":[1],\"sizemode\":\"area\",\"sizeref\":4.295,\"symbol\":\"circle\"},\"mode\":\"markers\",\"name\":\"Korea DPR\",\"showlegend\":true,\"type\":\"scattergeo\"},{\"geo\":\"geo\",\"hovertemplate\":\"country=%{location}<br>no_of_players=%{marker.size}<extra></extra>\",\"legendgroup\":\"Andorra\",\"locationmode\":\"country names\",\"locations\":[\"Andorra\"],\"marker\":{\"color\":\"#FECB52\",\"size\":[1],\"sizemode\":\"area\",\"sizeref\":4.295,\"symbol\":\"circle\"},\"mode\":\"markers\",\"name\":\"Andorra\",\"showlegend\":true,\"type\":\"scattergeo\"},{\"geo\":\"geo\",\"hovertemplate\":\"country=%{location}<br>no_of_players=%{marker.size}<extra></extra>\",\"legendgroup\":\"Kyrgyzstan\",\"locationmode\":\"country names\",\"locations\":[\"Kyrgyzstan\"],\"marker\":{\"color\":\"#636efa\",\"size\":[1],\"sizemode\":\"area\",\"sizeref\":4.295,\"symbol\":\"circle\"},\"mode\":\"markers\",\"name\":\"Kyrgyzstan\",\"showlegend\":true,\"type\":\"scattergeo\"},{\"geo\":\"geo\",\"hovertemplate\":\"country=%{location}<br>no_of_players=%{marker.size}<extra></extra>\",\"legendgroup\":\"Vietnam\",\"locationmode\":\"country names\",\"locations\":[\"Vietnam\"],\"marker\":{\"color\":\"#EF553B\",\"size\":[1],\"sizemode\":\"area\",\"sizeref\":4.295,\"symbol\":\"circle\"},\"mode\":\"markers\",\"name\":\"Vietnam\",\"showlegend\":true,\"type\":\"scattergeo\"},{\"geo\":\"geo\",\"hovertemplate\":\"country=%{location}<br>no_of_players=%{marker.size}<extra></extra>\",\"legendgroup\":\"Ethiopia\",\"locationmode\":\"country names\",\"locations\":[\"Ethiopia\"],\"marker\":{\"color\":\"#00cc96\",\"size\":[1],\"sizemode\":\"area\",\"sizeref\":4.295,\"symbol\":\"circle\"},\"mode\":\"markers\",\"name\":\"Ethiopia\",\"showlegend\":true,\"type\":\"scattergeo\"},{\"geo\":\"geo\",\"hovertemplate\":\"country=%{location}<br>no_of_players=%{marker.size}<extra></extra>\",\"legendgroup\":\"Afghanistan\",\"locationmode\":\"country names\",\"locations\":[\"Afghanistan\"],\"marker\":{\"color\":\"#ab63fa\",\"size\":[1],\"sizemode\":\"area\",\"sizeref\":4.295,\"symbol\":\"circle\"},\"mode\":\"markers\",\"name\":\"Afghanistan\",\"showlegend\":true,\"type\":\"scattergeo\"},{\"geo\":\"geo\",\"hovertemplate\":\"country=%{location}<br>no_of_players=%{marker.size}<extra></extra>\",\"legendgroup\":\"Papua New Guinea\",\"locationmode\":\"country names\",\"locations\":[\"Papua New Guinea\"],\"marker\":{\"color\":\"#FFA15A\",\"size\":[1],\"sizemode\":\"area\",\"sizeref\":4.295,\"symbol\":\"circle\"},\"mode\":\"markers\",\"name\":\"Papua New Guinea\",\"showlegend\":true,\"type\":\"scattergeo\"},{\"geo\":\"geo\",\"hovertemplate\":\"country=%{location}<br>no_of_players=%{marker.size}<extra></extra>\",\"legendgroup\":\"Guam\",\"locationmode\":\"country names\",\"locations\":[\"Guam\"],\"marker\":{\"color\":\"#19d3f3\",\"size\":[1],\"sizemode\":\"area\",\"sizeref\":4.295,\"symbol\":\"circle\"},\"mode\":\"markers\",\"name\":\"Guam\",\"showlegend\":true,\"type\":\"scattergeo\"},{\"geo\":\"geo\",\"hovertemplate\":\"country=%{location}<br>no_of_players=%{marker.size}<extra></extra>\",\"legendgroup\":\"Mauritius\",\"locationmode\":\"country names\",\"locations\":[\"Mauritius\"],\"marker\":{\"color\":\"#FF6692\",\"size\":[1],\"sizemode\":\"area\",\"sizeref\":4.295,\"symbol\":\"circle\"},\"mode\":\"markers\",\"name\":\"Mauritius\",\"showlegend\":true,\"type\":\"scattergeo\"},{\"geo\":\"geo\",\"hovertemplate\":\"country=%{location}<br>no_of_players=%{marker.size}<extra></extra>\",\"legendgroup\":\"Eritrea\",\"locationmode\":\"country names\",\"locations\":[\"Eritrea\"],\"marker\":{\"color\":\"#B6E880\",\"size\":[1],\"sizemode\":\"area\",\"sizeref\":4.295,\"symbol\":\"circle\"},\"mode\":\"markers\",\"name\":\"Eritrea\",\"showlegend\":true,\"type\":\"scattergeo\"},{\"geo\":\"geo\",\"hovertemplate\":\"country=%{location}<br>no_of_players=%{marker.size}<extra></extra>\",\"legendgroup\":\"Tanzania\",\"locationmode\":\"country names\",\"locations\":[\"Tanzania\"],\"marker\":{\"color\":\"#FF97FF\",\"size\":[1],\"sizemode\":\"area\",\"sizeref\":4.295,\"symbol\":\"circle\"},\"mode\":\"markers\",\"name\":\"Tanzania\",\"showlegend\":true,\"type\":\"scattergeo\"},{\"geo\":\"geo\",\"hovertemplate\":\"country=%{location}<br>no_of_players=%{marker.size}<extra></extra>\",\"legendgroup\":\"Fiji\",\"locationmode\":\"country names\",\"locations\":[\"Fiji\"],\"marker\":{\"color\":\"#FECB52\",\"size\":[1],\"sizemode\":\"area\",\"sizeref\":4.295,\"symbol\":\"circle\"},\"mode\":\"markers\",\"name\":\"Fiji\",\"showlegend\":true,\"type\":\"scattergeo\"},{\"geo\":\"geo\",\"hovertemplate\":\"country=%{location}<br>no_of_players=%{marker.size}<extra></extra>\",\"legendgroup\":\"Bermuda\",\"locationmode\":\"country names\",\"locations\":[\"Bermuda\"],\"marker\":{\"color\":\"#636efa\",\"size\":[1],\"sizemode\":\"area\",\"sizeref\":4.295,\"symbol\":\"circle\"},\"mode\":\"markers\",\"name\":\"Bermuda\",\"showlegend\":true,\"type\":\"scattergeo\"},{\"geo\":\"geo\",\"hovertemplate\":\"country=%{location}<br>no_of_players=%{marker.size}<extra></extra>\",\"legendgroup\":\"Malawi\",\"locationmode\":\"country names\",\"locations\":[\"Malawi\"],\"marker\":{\"color\":\"#EF553B\",\"size\":[1],\"sizemode\":\"area\",\"sizeref\":4.295,\"symbol\":\"circle\"},\"mode\":\"markers\",\"name\":\"Malawi\",\"showlegend\":true,\"type\":\"scattergeo\"},{\"geo\":\"geo\",\"hovertemplate\":\"country=%{location}<br>no_of_players=%{marker.size}<extra></extra>\",\"legendgroup\":\"Indonesia\",\"locationmode\":\"country names\",\"locations\":[\"Indonesia\"],\"marker\":{\"color\":\"#00cc96\",\"size\":[1],\"sizemode\":\"area\",\"sizeref\":4.295,\"symbol\":\"circle\"},\"mode\":\"markers\",\"name\":\"Indonesia\",\"showlegend\":true,\"type\":\"scattergeo\"}],                        {\"template\":{\"data\":{\"histogram2dcontour\":[{\"type\":\"histogram2dcontour\",\"colorbar\":{\"outlinewidth\":0,\"ticks\":\"\"},\"colorscale\":[[0.0,\"#0d0887\"],[0.1111111111111111,\"#46039f\"],[0.2222222222222222,\"#7201a8\"],[0.3333333333333333,\"#9c179e\"],[0.4444444444444444,\"#bd3786\"],[0.5555555555555556,\"#d8576b\"],[0.6666666666666666,\"#ed7953\"],[0.7777777777777778,\"#fb9f3a\"],[0.8888888888888888,\"#fdca26\"],[1.0,\"#f0f921\"]]}],\"choropleth\":[{\"type\":\"choropleth\",\"colorbar\":{\"outlinewidth\":0,\"ticks\":\"\"}}],\"histogram2d\":[{\"type\":\"histogram2d\",\"colorbar\":{\"outlinewidth\":0,\"ticks\":\"\"},\"colorscale\":[[0.0,\"#0d0887\"],[0.1111111111111111,\"#46039f\"],[0.2222222222222222,\"#7201a8\"],[0.3333333333333333,\"#9c179e\"],[0.4444444444444444,\"#bd3786\"],[0.5555555555555556,\"#d8576b\"],[0.6666666666666666,\"#ed7953\"],[0.7777777777777778,\"#fb9f3a\"],[0.8888888888888888,\"#fdca26\"],[1.0,\"#f0f921\"]]}],\"heatmap\":[{\"type\":\"heatmap\",\"colorbar\":{\"outlinewidth\":0,\"ticks\":\"\"},\"colorscale\":[[0.0,\"#0d0887\"],[0.1111111111111111,\"#46039f\"],[0.2222222222222222,\"#7201a8\"],[0.3333333333333333,\"#9c179e\"],[0.4444444444444444,\"#bd3786\"],[0.5555555555555556,\"#d8576b\"],[0.6666666666666666,\"#ed7953\"],[0.7777777777777778,\"#fb9f3a\"],[0.8888888888888888,\"#fdca26\"],[1.0,\"#f0f921\"]]}],\"heatmapgl\":[{\"type\":\"heatmapgl\",\"colorbar\":{\"outlinewidth\":0,\"ticks\":\"\"},\"colorscale\":[[0.0,\"#0d0887\"],[0.1111111111111111,\"#46039f\"],[0.2222222222222222,\"#7201a8\"],[0.3333333333333333,\"#9c179e\"],[0.4444444444444444,\"#bd3786\"],[0.5555555555555556,\"#d8576b\"],[0.6666666666666666,\"#ed7953\"],[0.7777777777777778,\"#fb9f3a\"],[0.8888888888888888,\"#fdca26\"],[1.0,\"#f0f921\"]]}],\"contourcarpet\":[{\"type\":\"contourcarpet\",\"colorbar\":{\"outlinewidth\":0,\"ticks\":\"\"}}],\"contour\":[{\"type\":\"contour\",\"colorbar\":{\"outlinewidth\":0,\"ticks\":\"\"},\"colorscale\":[[0.0,\"#0d0887\"],[0.1111111111111111,\"#46039f\"],[0.2222222222222222,\"#7201a8\"],[0.3333333333333333,\"#9c179e\"],[0.4444444444444444,\"#bd3786\"],[0.5555555555555556,\"#d8576b\"],[0.6666666666666666,\"#ed7953\"],[0.7777777777777778,\"#fb9f3a\"],[0.8888888888888888,\"#fdca26\"],[1.0,\"#f0f921\"]]}],\"surface\":[{\"type\":\"surface\",\"colorbar\":{\"outlinewidth\":0,\"ticks\":\"\"},\"colorscale\":[[0.0,\"#0d0887\"],[0.1111111111111111,\"#46039f\"],[0.2222222222222222,\"#7201a8\"],[0.3333333333333333,\"#9c179e\"],[0.4444444444444444,\"#bd3786\"],[0.5555555555555556,\"#d8576b\"],[0.6666666666666666,\"#ed7953\"],[0.7777777777777778,\"#fb9f3a\"],[0.8888888888888888,\"#fdca26\"],[1.0,\"#f0f921\"]]}],\"mesh3d\":[{\"type\":\"mesh3d\",\"colorbar\":{\"outlinewidth\":0,\"ticks\":\"\"}}],\"scatter\":[{\"fillpattern\":{\"fillmode\":\"overlay\",\"size\":10,\"solidity\":0.2},\"type\":\"scatter\"}],\"parcoords\":[{\"type\":\"parcoords\",\"line\":{\"colorbar\":{\"outlinewidth\":0,\"ticks\":\"\"}}}],\"scatterpolargl\":[{\"type\":\"scatterpolargl\",\"marker\":{\"colorbar\":{\"outlinewidth\":0,\"ticks\":\"\"}}}],\"bar\":[{\"error_x\":{\"color\":\"#2a3f5f\"},\"error_y\":{\"color\":\"#2a3f5f\"},\"marker\":{\"line\":{\"color\":\"#E5ECF6\",\"width\":0.5},\"pattern\":{\"fillmode\":\"overlay\",\"size\":10,\"solidity\":0.2}},\"type\":\"bar\"}],\"scattergeo\":[{\"type\":\"scattergeo\",\"marker\":{\"colorbar\":{\"outlinewidth\":0,\"ticks\":\"\"}}}],\"scatterpolar\":[{\"type\":\"scatterpolar\",\"marker\":{\"colorbar\":{\"outlinewidth\":0,\"ticks\":\"\"}}}],\"histogram\":[{\"marker\":{\"pattern\":{\"fillmode\":\"overlay\",\"size\":10,\"solidity\":0.2}},\"type\":\"histogram\"}],\"scattergl\":[{\"type\":\"scattergl\",\"marker\":{\"colorbar\":{\"outlinewidth\":0,\"ticks\":\"\"}}}],\"scatter3d\":[{\"type\":\"scatter3d\",\"line\":{\"colorbar\":{\"outlinewidth\":0,\"ticks\":\"\"}},\"marker\":{\"colorbar\":{\"outlinewidth\":0,\"ticks\":\"\"}}}],\"scattermapbox\":[{\"type\":\"scattermapbox\",\"marker\":{\"colorbar\":{\"outlinewidth\":0,\"ticks\":\"\"}}}],\"scatterternary\":[{\"type\":\"scatterternary\",\"marker\":{\"colorbar\":{\"outlinewidth\":0,\"ticks\":\"\"}}}],\"scattercarpet\":[{\"type\":\"scattercarpet\",\"marker\":{\"colorbar\":{\"outlinewidth\":0,\"ticks\":\"\"}}}],\"carpet\":[{\"aaxis\":{\"endlinecolor\":\"#2a3f5f\",\"gridcolor\":\"white\",\"linecolor\":\"white\",\"minorgridcolor\":\"white\",\"startlinecolor\":\"#2a3f5f\"},\"baxis\":{\"endlinecolor\":\"#2a3f5f\",\"gridcolor\":\"white\",\"linecolor\":\"white\",\"minorgridcolor\":\"white\",\"startlinecolor\":\"#2a3f5f\"},\"type\":\"carpet\"}],\"table\":[{\"cells\":{\"fill\":{\"color\":\"#EBF0F8\"},\"line\":{\"color\":\"white\"}},\"header\":{\"fill\":{\"color\":\"#C8D4E3\"},\"line\":{\"color\":\"white\"}},\"type\":\"table\"}],\"barpolar\":[{\"marker\":{\"line\":{\"color\":\"#E5ECF6\",\"width\":0.5},\"pattern\":{\"fillmode\":\"overlay\",\"size\":10,\"solidity\":0.2}},\"type\":\"barpolar\"}],\"pie\":[{\"automargin\":true,\"type\":\"pie\"}]},\"layout\":{\"autotypenumbers\":\"strict\",\"colorway\":[\"#636efa\",\"#EF553B\",\"#00cc96\",\"#ab63fa\",\"#FFA15A\",\"#19d3f3\",\"#FF6692\",\"#B6E880\",\"#FF97FF\",\"#FECB52\"],\"font\":{\"color\":\"#2a3f5f\"},\"hovermode\":\"closest\",\"hoverlabel\":{\"align\":\"left\"},\"paper_bgcolor\":\"white\",\"plot_bgcolor\":\"#E5ECF6\",\"polar\":{\"bgcolor\":\"#E5ECF6\",\"angularaxis\":{\"gridcolor\":\"white\",\"linecolor\":\"white\",\"ticks\":\"\"},\"radialaxis\":{\"gridcolor\":\"white\",\"linecolor\":\"white\",\"ticks\":\"\"}},\"ternary\":{\"bgcolor\":\"#E5ECF6\",\"aaxis\":{\"gridcolor\":\"white\",\"linecolor\":\"white\",\"ticks\":\"\"},\"baxis\":{\"gridcolor\":\"white\",\"linecolor\":\"white\",\"ticks\":\"\"},\"caxis\":{\"gridcolor\":\"white\",\"linecolor\":\"white\",\"ticks\":\"\"}},\"coloraxis\":{\"colorbar\":{\"outlinewidth\":0,\"ticks\":\"\"}},\"colorscale\":{\"sequential\":[[0.0,\"#0d0887\"],[0.1111111111111111,\"#46039f\"],[0.2222222222222222,\"#7201a8\"],[0.3333333333333333,\"#9c179e\"],[0.4444444444444444,\"#bd3786\"],[0.5555555555555556,\"#d8576b\"],[0.6666666666666666,\"#ed7953\"],[0.7777777777777778,\"#fb9f3a\"],[0.8888888888888888,\"#fdca26\"],[1.0,\"#f0f921\"]],\"sequentialminus\":[[0.0,\"#0d0887\"],[0.1111111111111111,\"#46039f\"],[0.2222222222222222,\"#7201a8\"],[0.3333333333333333,\"#9c179e\"],[0.4444444444444444,\"#bd3786\"],[0.5555555555555556,\"#d8576b\"],[0.6666666666666666,\"#ed7953\"],[0.7777777777777778,\"#fb9f3a\"],[0.8888888888888888,\"#fdca26\"],[1.0,\"#f0f921\"]],\"diverging\":[[0,\"#8e0152\"],[0.1,\"#c51b7d\"],[0.2,\"#de77ae\"],[0.3,\"#f1b6da\"],[0.4,\"#fde0ef\"],[0.5,\"#f7f7f7\"],[0.6,\"#e6f5d0\"],[0.7,\"#b8e186\"],[0.8,\"#7fbc41\"],[0.9,\"#4d9221\"],[1,\"#276419\"]]},\"xaxis\":{\"gridcolor\":\"white\",\"linecolor\":\"white\",\"ticks\":\"\",\"title\":{\"standoff\":15},\"zerolinecolor\":\"white\",\"automargin\":true,\"zerolinewidth\":2},\"yaxis\":{\"gridcolor\":\"white\",\"linecolor\":\"white\",\"ticks\":\"\",\"title\":{\"standoff\":15},\"zerolinecolor\":\"white\",\"automargin\":true,\"zerolinewidth\":2},\"scene\":{\"xaxis\":{\"backgroundcolor\":\"#E5ECF6\",\"gridcolor\":\"white\",\"linecolor\":\"white\",\"showbackground\":true,\"ticks\":\"\",\"zerolinecolor\":\"white\",\"gridwidth\":2},\"yaxis\":{\"backgroundcolor\":\"#E5ECF6\",\"gridcolor\":\"white\",\"linecolor\":\"white\",\"showbackground\":true,\"ticks\":\"\",\"zerolinecolor\":\"white\",\"gridwidth\":2},\"zaxis\":{\"backgroundcolor\":\"#E5ECF6\",\"gridcolor\":\"white\",\"linecolor\":\"white\",\"showbackground\":true,\"ticks\":\"\",\"zerolinecolor\":\"white\",\"gridwidth\":2}},\"shapedefaults\":{\"line\":{\"color\":\"#2a3f5f\"}},\"annotationdefaults\":{\"arrowcolor\":\"#2a3f5f\",\"arrowhead\":0,\"arrowwidth\":1},\"geo\":{\"bgcolor\":\"white\",\"landcolor\":\"#E5ECF6\",\"subunitcolor\":\"white\",\"showland\":true,\"showlakes\":true,\"lakecolor\":\"white\"},\"title\":{\"x\":0.05},\"mapbox\":{\"style\":\"light\"}}},\"geo\":{\"domain\":{\"x\":[0.0,1.0],\"y\":[0.0,1.0]},\"center\":{}},\"legend\":{\"title\":{\"text\":\"country\"},\"tracegroupgap\":0,\"itemsizing\":\"constant\"},\"title\":{\"text\":\"Players per country:-\"}},                        {\"responsive\": true}                    ).then(function(){\n",
       "                            \n",
       "var gd = document.getElementById('a2c2722f-c7a8-46c1-90a7-188f7efd8a05');\n",
       "var x = new MutationObserver(function (mutations, observer) {{\n",
       "        var display = window.getComputedStyle(gd).display;\n",
       "        if (!display || display === 'none') {{\n",
       "            console.log([gd, 'removed!']);\n",
       "            Plotly.purge(gd);\n",
       "            observer.disconnect();\n",
       "        }}\n",
       "}});\n",
       "\n",
       "// Listen for the removal of the full notebook cells\n",
       "var notebookContainer = gd.closest('#notebook-container');\n",
       "if (notebookContainer) {{\n",
       "    x.observe(notebookContainer, {childList: true});\n",
       "}}\n",
       "\n",
       "// Listen for the clearing of the current output cell\n",
       "var outputEl = gd.closest('.output');\n",
       "if (outputEl) {{\n",
       "    x.observe(outputEl, {childList: true});\n",
       "}}\n",
       "\n",
       "                        })                };                });            </script>        </div>"
      ]
     },
     "metadata": {},
     "output_type": "display_data"
    }
   ],
   "source": [
    "px.scatter_geo(nationality_df,\n",
    "               locations='country',\n",
    "               size='no_of_players',\n",
    "               color='country',\n",
    "               locationmode='country names',\n",
    "               title=\"Players per country:-\"\n",
    "              )"
   ]
  },
  {
   "cell_type": "code",
   "execution_count": 57,
   "id": "b3c3914d",
   "metadata": {
    "executionInfo": {
     "elapsed": 7,
     "status": "ok",
     "timestamp": 1675678024546,
     "user": {
      "displayName": "Amaan Tamboli",
      "userId": "12292215664820239199"
     },
     "user_tz": -330
    },
    "id": "b3c3914d"
   },
   "outputs": [],
   "source": [
    "df1=top_players[['Name','PaceTotal','ShootingTotal','PassingTotal','DribblingTotal','DefendingTotal','PhysicalityTotal']][:3]"
   ]
  },
  {
   "cell_type": "code",
   "execution_count": 58,
   "id": "4742d81c",
   "metadata": {
    "colab": {
     "base_uri": "https://localhost:8080/",
     "height": 143
    },
    "executionInfo": {
     "elapsed": 7,
     "status": "ok",
     "timestamp": 1675678024546,
     "user": {
      "displayName": "Amaan Tamboli",
      "userId": "12292215664820239199"
     },
     "user_tz": -330
    },
    "id": "4742d81c",
    "outputId": "a7ea21e5-9124-49a2-f100-2e5a71d57854"
   },
   "outputs": [
    {
     "data": {
      "text/html": [
       "<div>\n",
       "<style scoped>\n",
       "    .dataframe tbody tr th:only-of-type {\n",
       "        vertical-align: middle;\n",
       "    }\n",
       "\n",
       "    .dataframe tbody tr th {\n",
       "        vertical-align: top;\n",
       "    }\n",
       "\n",
       "    .dataframe thead th {\n",
       "        text-align: right;\n",
       "    }\n",
       "</style>\n",
       "<table border=\"1\" class=\"dataframe\">\n",
       "  <thead>\n",
       "    <tr style=\"text-align: right;\">\n",
       "      <th></th>\n",
       "      <th>Name</th>\n",
       "      <th>PaceTotal</th>\n",
       "      <th>ShootingTotal</th>\n",
       "      <th>PassingTotal</th>\n",
       "      <th>DribblingTotal</th>\n",
       "      <th>DefendingTotal</th>\n",
       "      <th>PhysicalityTotal</th>\n",
       "    </tr>\n",
       "  </thead>\n",
       "  <tbody>\n",
       "    <tr>\n",
       "      <th>0</th>\n",
       "      <td>L. Messi</td>\n",
       "      <td>85</td>\n",
       "      <td>92</td>\n",
       "      <td>91</td>\n",
       "      <td>95</td>\n",
       "      <td>34</td>\n",
       "      <td>65</td>\n",
       "    </tr>\n",
       "    <tr>\n",
       "      <th>1</th>\n",
       "      <td>R. Lewandowski</td>\n",
       "      <td>78</td>\n",
       "      <td>92</td>\n",
       "      <td>79</td>\n",
       "      <td>85</td>\n",
       "      <td>44</td>\n",
       "      <td>82</td>\n",
       "    </tr>\n",
       "    <tr>\n",
       "      <th>2</th>\n",
       "      <td>Cristiano Ronaldo</td>\n",
       "      <td>87</td>\n",
       "      <td>94</td>\n",
       "      <td>80</td>\n",
       "      <td>87</td>\n",
       "      <td>34</td>\n",
       "      <td>75</td>\n",
       "    </tr>\n",
       "  </tbody>\n",
       "</table>\n",
       "</div>"
      ],
      "text/plain": [
       "                Name  PaceTotal  ShootingTotal  PassingTotal  DribblingTotal  \\\n",
       "0           L. Messi         85             92            91              95   \n",
       "1     R. Lewandowski         78             92            79              85   \n",
       "2  Cristiano Ronaldo         87             94            80              87   \n",
       "\n",
       "   DefendingTotal  PhysicalityTotal  \n",
       "0              34                65  \n",
       "1              44                82  \n",
       "2              34                75  "
      ]
     },
     "execution_count": 58,
     "metadata": {},
     "output_type": "execute_result"
    }
   ],
   "source": [
    "df1"
   ]
  },
  {
   "cell_type": "markdown",
   "id": "96630602",
   "metadata": {
    "id": "96630602"
   },
   "source": [
    "Radar chart of top 3 players:-"
   ]
  },
  {
   "cell_type": "code",
   "execution_count": null,
   "id": "f0a84a8e",
   "metadata": {
    "colab": {
     "base_uri": "https://localhost:8080/",
     "height": 306
    },
    "executionInfo": {
     "elapsed": 1057,
     "status": "ok",
     "timestamp": 1675678181422,
     "user": {
      "displayName": "Amaan Tamboli",
      "userId": "12292215664820239199"
     },
     "user_tz": -330
    },
    "id": "f0a84a8e",
    "outputId": "b1f1992a-1de9-4294-b7b4-3becd43e67ca"
   },
   "outputs": [
    {
     "data": {
      "image/png": "[encoded data removed]",
      "text/plain": [
       "<Figure size 640x480 with 1 Axes>"
      ]
     },
     "metadata": {},
     "output_type": "display_data"
    }
   ],
   "source": [
    "pi=3.14\n",
    "categories=list(df1)[1:]\n",
    "N = len(categories)\n",
    "angles = [n / float(N) * 2 * pi for n in range(N)]\n",
    "angles += angles[:1]\n",
    "ax = plt.subplot(111, polar=True)\n",
    " \n",
    "ax.set_theta_offset(pi / 2)\n",
    "ax.set_theta_direction(-1)\n",
    " \n",
    "plt.xticks(angles[:-1], categories)\n",
    "ax.set_rlabel_position(0)\n",
    "plt.yticks([20,40,60,80,100], [\"20\",\"40\",\"60\",\"80\",\"100\"], color=\"grey\", size=7)\n",
    "plt.ylim(0,100)\n",
    "  \n",
    "# L. Messi\n",
    "values=df1.loc[0].drop('Name').values.flatten().tolist()\n",
    "values += values[:1]\n",
    "ax.plot(angles, values, linewidth=1, linestyle='solid', label=\"L Messi\")\n",
    "ax.fill(angles, values, 'b', alpha=0.1)\n",
    " \n",
    "#R. Lewandowski\n",
    "values=df1.loc[1].drop('Name').values.flatten().tolist()\n",
    "values += values[:1]\n",
    "ax.plot(angles, values, linewidth=1, linestyle='solid', label=\"R. Lewandowski\")\n",
    "ax.fill(angles, values, 'r', alpha=0.1)\n",
    "\n",
    "#Christiano Ronaldo\n",
    "values=df1.loc[2].drop('Name').values.flatten().tolist()\n",
    "values += values[:1]\n",
    "ax.plot(angles, values, linewidth=1, linestyle='solid', label=\"Christiano Ronaldo\")\n",
    "ax.fill(angles, values, 'g', alpha=0.1)\n",
    "\n",
    "plt.title(\"Top 3 players comparison\")\n",
    "plt.legend(loc='upper right', bbox_to_anchor=(0.1, 0.1))\n",
    "plt.show()"
   ]
  },
  {
   "cell_type": "markdown",
   "id": "6c618cb6",
   "metadata": {
    "id": "6c618cb6"
   },
   "source": [
    "Bar graph for top 20 heighest paid players:-"
   ]
  },
  {
   "cell_type": "code",
   "execution_count": null,
   "id": "24794aa6",
   "metadata": {
    "executionInfo": {
     "elapsed": 23,
     "status": "ok",
     "timestamp": 1675678025477,
     "user": {
      "displayName": "Amaan Tamboli",
      "userId": "12292215664820239199"
     },
     "user_tz": -330
    },
    "id": "24794aa6"
   },
   "outputs": [],
   "source": [
    "heighest_paid=df[[\"Name\",\"ValueEUR\"]].sort_values(by=\"ValueEUR\",ascending=False)[:20]"
   ]
  },
  {
   "cell_type": "code",
   "execution_count": null,
   "id": "c43c0980",
   "metadata": {
    "colab": {
     "base_uri": "https://localhost:8080/",
     "height": 542
    },
    "executionInfo": {
     "elapsed": 24,
     "status": "ok",
     "timestamp": 1675678025479,
     "user": {
      "displayName": "Amaan Tamboli",
      "userId": "12292215664820239199"
     },
     "user_tz": -330
    },
    "id": "c43c0980",
    "outputId": "1a73fb2e-2404-488c-beb4-241f878771d3"
   },
   "outputs": [],
   "source": [
    "px.bar(heighest_paid,\n",
    "       x=heighest_paid[\"Name\"],y=heighest_paid[\"ValueEUR\"],\n",
    "       color=heighest_paid[\"ValueEUR\"],\n",
    "       labels={'x': 'Players', 'y':'Value(in EUR)'},\n",
    "       title=\"Heighest paid players:\"\n",
    "      )"
   ]
  },
  {
   "cell_type": "code",
   "execution_count": null,
   "id": "efd57876",
   "metadata": {},
   "outputs": [],
   "source": []
  },
  {
   "cell_type": "code",
   "execution_count": null,
   "id": "0c784422",
   "metadata": {},
   "outputs": [],
   "source": []
  },
  {
   "cell_type": "code",
   "execution_count": null,
   "id": "43e0b7a9",
   "metadata": {},
   "outputs": [],
   "source": []
  },
  {
   "cell_type": "code",
   "execution_count": null,
   "id": "7f8c3472",
   "metadata": {},
   "outputs": [],
   "source": []
  },
  {
   "cell_type": "code",
   "execution_count": null,
   "id": "47684e53",
   "metadata": {},
   "outputs": [],
   "source": []
  },
  {
   "cell_type": "code",
   "execution_count": null,
   "id": "b84401fe",
   "metadata": {},
   "outputs": [],
   "source": []
  }
 ],
 "metadata": {
  "colab": {
   "provenance": []
  },
  "kernelspec": {
   "display_name": "Python 3 (ipykernel)",
   "language": "python",
   "name": "python3"
  },
  "language_info": {
   "codemirror_mode": {
    "name": "ipython",
    "version": 3
   },
   "file_extension": ".py",
   "mimetype": "text/x-python",
   "name": "python",
   "nbconvert_exporter": "python",
   "pygments_lexer": "ipython3",
   "version": "3.9.13"
  }
 },
 "nbformat": 4,
 "nbformat_minor": 5
}
